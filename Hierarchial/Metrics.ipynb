{
 "cells": [
  {
   "cell_type": "code",
   "execution_count": 1,
   "id": "ed66abe0",
   "metadata": {},
   "outputs": [],
   "source": [
    "import numpy as np\n",
    "import pandas as pd"
   ]
  },
  {
   "cell_type": "code",
   "execution_count": 2,
   "id": "370d80e7",
   "metadata": {},
   "outputs": [],
   "source": [
    "true = np.array([2, -2, -1, 2, -2, 0.5])\n",
    "indexes = [\"b_10\",\"b_11\", \"b_20\", \"b_21\", \"b_22\", \"rho\"]"
   ]
  },
  {
   "cell_type": "code",
   "execution_count": 3,
   "id": "eb4ac173",
   "metadata": {},
   "outputs": [],
   "source": [
    "def get_results(estimates, filename):\n",
    "    \n",
    "    rmses = np.mean((estimates - true) ** 2, axis=0) ** (1 / 2)\n",
    "    mapes = np.mean(np.abs((estimates - true) / true) * 100, axis=0)\n",
    "    means = estimates.mean()\n",
    "    \n",
    "    results = pd.DataFrame(index=indexes)\n",
    "    results['beta_true'] = true\n",
    "    results['beta_mean'] = np.round(means.values, 3)\n",
    "    results['RMSE'] = np.round(rmses.values, 3)\n",
    "    results['MAPE'] = np.round(mapes.values, 3)\n",
    "    results.to_csv(f'{filename}.csv')\n",
    "    return results"
   ]
  },
  {
   "cell_type": "markdown",
   "id": "8727b7ee",
   "metadata": {},
   "source": [
    "## Байес"
   ]
  },
  {
   "cell_type": "code",
   "execution_count": 4,
   "id": "d1b7dc33",
   "metadata": {
    "scrolled": true
   },
   "outputs": [
    {
     "data": {
      "text/html": [
       "<div>\n",
       "<style scoped>\n",
       "    .dataframe tbody tr th:only-of-type {\n",
       "        vertical-align: middle;\n",
       "    }\n",
       "\n",
       "    .dataframe tbody tr th {\n",
       "        vertical-align: top;\n",
       "    }\n",
       "\n",
       "    .dataframe thead th {\n",
       "        text-align: right;\n",
       "    }\n",
       "</style>\n",
       "<table border=\"1\" class=\"dataframe\">\n",
       "  <thead>\n",
       "    <tr style=\"text-align: right;\">\n",
       "      <th></th>\n",
       "      <th>beta_true</th>\n",
       "      <th>beta_mean</th>\n",
       "      <th>RMSE</th>\n",
       "      <th>MAPE</th>\n",
       "    </tr>\n",
       "  </thead>\n",
       "  <tbody>\n",
       "    <tr>\n",
       "      <th>b_10</th>\n",
       "      <td>2.0</td>\n",
       "      <td>1.960</td>\n",
       "      <td>0.128</td>\n",
       "      <td>5.184</td>\n",
       "    </tr>\n",
       "    <tr>\n",
       "      <th>b_11</th>\n",
       "      <td>-2.0</td>\n",
       "      <td>-1.965</td>\n",
       "      <td>0.115</td>\n",
       "      <td>4.617</td>\n",
       "    </tr>\n",
       "    <tr>\n",
       "      <th>b_20</th>\n",
       "      <td>-1.0</td>\n",
       "      <td>-1.013</td>\n",
       "      <td>0.320</td>\n",
       "      <td>26.534</td>\n",
       "    </tr>\n",
       "    <tr>\n",
       "      <th>b_21</th>\n",
       "      <td>2.0</td>\n",
       "      <td>1.984</td>\n",
       "      <td>0.242</td>\n",
       "      <td>9.927</td>\n",
       "    </tr>\n",
       "    <tr>\n",
       "      <th>b_22</th>\n",
       "      <td>-2.0</td>\n",
       "      <td>-1.954</td>\n",
       "      <td>0.223</td>\n",
       "      <td>8.946</td>\n",
       "    </tr>\n",
       "    <tr>\n",
       "      <th>rho</th>\n",
       "      <td>0.5</td>\n",
       "      <td>0.484</td>\n",
       "      <td>0.151</td>\n",
       "      <td>24.316</td>\n",
       "    </tr>\n",
       "  </tbody>\n",
       "</table>\n",
       "</div>"
      ],
      "text/plain": [
       "      beta_true  beta_mean   RMSE    MAPE\n",
       "b_10        2.0      1.960  0.128   5.184\n",
       "b_11       -2.0     -1.965  0.115   4.617\n",
       "b_20       -1.0     -1.013  0.320  26.534\n",
       "b_21        2.0      1.984  0.242   9.927\n",
       "b_22       -2.0     -1.954  0.223   8.946\n",
       "rho         0.5      0.484  0.151  24.316"
      ]
     },
     "execution_count": 4,
     "metadata": {},
     "output_type": "execute_result"
    }
   ],
   "source": [
    "ests1000_b = pd.read_csv('estimates_hier_bayes_1000.csv')[['b_10', 'b_11', \"b_20\", 'b_21', 'b_22', 'rho']]\n",
    "get_results(ests1000_b, 'results_hier_bayes_1000')"
   ]
  },
  {
   "cell_type": "markdown",
   "id": "3414ebe5",
   "metadata": {},
   "source": [
    "## ММП"
   ]
  },
  {
   "cell_type": "code",
   "execution_count": 5,
   "id": "0899d9be",
   "metadata": {},
   "outputs": [
    {
     "data": {
      "text/html": [
       "<div>\n",
       "<style scoped>\n",
       "    .dataframe tbody tr th:only-of-type {\n",
       "        vertical-align: middle;\n",
       "    }\n",
       "\n",
       "    .dataframe tbody tr th {\n",
       "        vertical-align: top;\n",
       "    }\n",
       "\n",
       "    .dataframe thead th {\n",
       "        text-align: right;\n",
       "    }\n",
       "</style>\n",
       "<table border=\"1\" class=\"dataframe\">\n",
       "  <thead>\n",
       "    <tr style=\"text-align: right;\">\n",
       "      <th></th>\n",
       "      <th>beta_true</th>\n",
       "      <th>beta_mean</th>\n",
       "      <th>RMSE</th>\n",
       "      <th>MAPE</th>\n",
       "    </tr>\n",
       "  </thead>\n",
       "  <tbody>\n",
       "    <tr>\n",
       "      <th>b_10</th>\n",
       "      <td>2.0</td>\n",
       "      <td>2.021</td>\n",
       "      <td>0.107</td>\n",
       "      <td>4.245</td>\n",
       "    </tr>\n",
       "    <tr>\n",
       "      <th>b_11</th>\n",
       "      <td>-2.0</td>\n",
       "      <td>-2.017</td>\n",
       "      <td>0.107</td>\n",
       "      <td>4.121</td>\n",
       "    </tr>\n",
       "    <tr>\n",
       "      <th>b_20</th>\n",
       "      <td>-1.0</td>\n",
       "      <td>-1.317</td>\n",
       "      <td>0.954</td>\n",
       "      <td>67.265</td>\n",
       "    </tr>\n",
       "    <tr>\n",
       "      <th>b_21</th>\n",
       "      <td>2.0</td>\n",
       "      <td>2.187</td>\n",
       "      <td>0.581</td>\n",
       "      <td>21.186</td>\n",
       "    </tr>\n",
       "    <tr>\n",
       "      <th>b_22</th>\n",
       "      <td>-2.0</td>\n",
       "      <td>-1.718</td>\n",
       "      <td>0.772</td>\n",
       "      <td>25.597</td>\n",
       "    </tr>\n",
       "    <tr>\n",
       "      <th>rho</th>\n",
       "      <td>0.5</td>\n",
       "      <td>0.342</td>\n",
       "      <td>0.453</td>\n",
       "      <td>60.212</td>\n",
       "    </tr>\n",
       "  </tbody>\n",
       "</table>\n",
       "</div>"
      ],
      "text/plain": [
       "      beta_true  beta_mean   RMSE    MAPE\n",
       "b_10        2.0      2.021  0.107   4.245\n",
       "b_11       -2.0     -2.017  0.107   4.121\n",
       "b_20       -1.0     -1.317  0.954  67.265\n",
       "b_21        2.0      2.187  0.581  21.186\n",
       "b_22       -2.0     -1.718  0.772  25.597\n",
       "rho         0.5      0.342  0.453  60.212"
      ]
     },
     "execution_count": 5,
     "metadata": {},
     "output_type": "execute_result"
    }
   ],
   "source": [
    "ests1000_b = pd.read_csv('estimates_hier_ml_1000.csv')[['b_10', 'b_11', \"b_20\", 'b_21', 'b_22', 'rho']]\n",
    "get_results(ests1000_b, 'results_hier_ml_1000')"
   ]
  }
 ],
 "metadata": {
  "kernelspec": {
   "display_name": "Python 3 (ipykernel)",
   "language": "python",
   "name": "python3"
  },
  "language_info": {
   "codemirror_mode": {
    "name": "ipython",
    "version": 3
   },
   "file_extension": ".py",
   "mimetype": "text/x-python",
   "name": "python",
   "nbconvert_exporter": "python",
   "pygments_lexer": "ipython3",
   "version": "3.9.7"
  }
 },
 "nbformat": 4,
 "nbformat_minor": 5
}
