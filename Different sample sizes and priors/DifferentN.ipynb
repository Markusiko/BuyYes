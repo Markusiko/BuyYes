{
 "cells": [
  {
   "cell_type": "code",
   "execution_count": 34,
   "id": "muslim-plane",
   "metadata": {},
   "outputs": [],
   "source": [
    "#!pip install stan\n",
    "#!pip install nest_asyncio"
   ]
  },
  {
   "cell_type": "code",
   "execution_count": 35,
   "id": "related-generation",
   "metadata": {},
   "outputs": [],
   "source": [
    "import matplotlib.pyplot as plt\n",
    "import numpy as np\n",
    "import pandas as pd\n",
    "import warnings\n",
    "import pystan\n",
    "from tqdm.auto import tqdm\n",
    "import stan # pystan3\n",
    "import nest_asyncio # штука, чтобы pystan3 работал\n",
    "\n",
    "nest_asyncio.apply()\n",
    "warnings.filterwarnings('ignore')\n",
    "%matplotlib inline\n",
    "%config InlineBackend.figure_format = 'retina'\n",
    "plt.rcParams['figure.figsize'] = 12, 8\n",
    "%precision 4\n",
    "plt.style.use('_classic_test_patch')"
   ]
  },
  {
   "cell_type": "code",
   "execution_count": 36,
   "id": "aware-discovery",
   "metadata": {},
   "outputs": [
    {
     "name": "stdout",
     "output_type": "stream",
     "text": [
      "Доля единиц в целевой переменной: 0.52\n"
     ]
    }
   ],
   "source": [
    "# функция для генерации выборки\n",
    "def generate_sample(size=100):\n",
    "    x_0 = np.ones(shape=size)\n",
    "    x_1 = np.random.normal(loc=3, scale=2, size=size)\n",
    "    x_2 = np.random.uniform(low=1, high=3, size=size)\n",
    "    X = np.vstack((x_0, x_1, x_2)).T\n",
    "    \n",
    "    betas = np.array([2, -1, 0.5])\n",
    "    eps = np.random.normal(loc=0, scale=1, size=size) # предпосылка пробита\n",
    "\n",
    "    y = (X @ betas + eps > 0) * 1\n",
    "\n",
    "    probit_data = {'n': size,\n",
    "                   'y': y,\n",
    "                   'x_1': x_1,\n",
    "                   'x_2': x_2\n",
    "                  }\n",
    "    \n",
    "    return probit_data\n",
    "\n",
    "print('Доля единиц в целевой переменной:', np.mean(generate_sample()['y']))"
   ]
  },
  {
   "cell_type": "code",
   "execution_count": 37,
   "id": "following-house",
   "metadata": {},
   "outputs": [],
   "source": [
    "code = '''\n",
    "data {\n",
    "    int<lower=0> n;\n",
    "    int<lower=0,upper=1> y[n];\n",
    "    vector[n] x_1;\n",
    "    vector[n] x_2;\n",
    "}\n",
    "\n",
    "parameters {\n",
    "    real beta0;\n",
    "    real beta1;\n",
    "    real beta2;\n",
    "}\n",
    "\n",
    "model {\n",
    "    beta0 ~ normal(0, 10);\n",
    "    beta1 ~ normal(0, 10);\n",
    "    beta2 ~ normal(0, 10);\n",
    "    y ~ bernoulli(Phi(beta0 + beta1 * x_1 + beta2 * x_2));\n",
    "}\n",
    "\n",
    "'''"
   ]
  },
  {
   "cell_type": "code",
   "execution_count": 38,
   "id": "floppy-median",
   "metadata": {},
   "outputs": [],
   "source": [
    "from sklearn.metrics import mean_absolute_percentage_error as mape, mean_squared_error as mse\n",
    "\n",
    "params = ['beta0', 'beta1', 'beta2']\n",
    "betas = np.array([2, -1, 0.5])\n",
    "\n",
    "def summary(code0, n_iter=100, est_func=np.mean, n=10):\n",
    "    # сюда будем складывать оценки на симуляциях (по дефолту будет считаться как среднее)\n",
    "    results = {'beta0': [],\n",
    "               'beta1': [],\n",
    "               'beta2': []\n",
    "              }\n",
    "    # сюда будем складывать метрики и размер выборки\n",
    "    total = [n]\n",
    "    # строим модели\n",
    "    for epoch in tqdm(range(n_iter)):\n",
    "        # генерируем данные\n",
    "        data = generate_sample(size=n)\n",
    "        # обучаемся\n",
    "        posterior = stan.build(code0, data=data, random_seed=999)\n",
    "        fit = posterior.sample(num_chains=1, num_samples=2000)\n",
    "        # записываем результаты\n",
    "        for i in range(len(betas)):\n",
    "            estimator = est_func(fit[params[i]]) \n",
    "            results[params[i]].append(estimator)\n",
    "    # подсчитываем метрики\n",
    "    for i in range(len(params)):\n",
    "        true_coef = np.ones(shape=n_iter) * betas[i]\n",
    "        total.append([params[i], \n",
    "                      mape(true_coef, results[params[i]]) * 100, # в процентах\n",
    "                      mse(true_coef, results[params[i]], squared=False)])\n",
    "    return total"
   ]
  },
  {
   "cell_type": "code",
   "execution_count": 47,
   "id": "atmospheric-philadelphia",
   "metadata": {},
   "outputs": [
    {
     "data": {
      "application/vnd.jupyter.widget-view+json": {
       "model_id": "d922b3f01ae04cce8e022474903723a7",
       "version_major": 2,
       "version_minor": 0
      },
      "text/plain": [
       "  0%|          | 0/100 [00:00<?, ?it/s]"
      ]
     },
     "metadata": {},
     "output_type": "display_data"
    },
    {
     "name": "stdout",
     "output_type": "stream",
     "text": [
      "Building..."
     ]
    },
    {
     "name": "stderr",
     "output_type": "stream",
     "text": [
      "INFO:aiohttp.access:127.0.0.1 [15/Feb/2022:22:09:02 +0000] \"POST /v1/models/r5vt2h6t/params HTTP/1.1\" 200 386 \"-\" \"Python/3.8 aiohttp/3.8.1\"\n",
      "INFO:httpstan:Found Stan model in cache (`models/r5vt2h6t`).\n",
      "INFO:aiohttp.access:127.0.0.1 [15/Feb/2022:22:09:02 +0000] \"POST /v1/models HTTP/1.1\" 201 234 \"-\" \"Python/3.8 aiohttp/3.8.1\"\n"
     ]
    },
    {
     "name": "stdout",
     "output_type": "stream",
     "text": [
      "\n"
     ]
    },
    {
     "name": "stderr",
     "output_type": "stream",
     "text": [
      "\n",
      "Building: found in cache, done.INFO:aiohttp.access:127.0.0.1 [15/Feb/2022:22:09:02 +0000] \"POST /v1/models/r5vt2h6t/params HTTP/1.1\" 200 386 \"-\" \"Python/3.8 aiohttp/3.8.1\"\n",
      "Sampling:   0%INFO:aiohttp.access:127.0.0.1 [15/Feb/2022:22:09:02 +0000] \"POST /v1/models/r5vt2h6t/fits HTTP/1.1\" 201 325 \"-\" \"Python/3.8 aiohttp/3.8.1\"\n",
      "INFO:aiohttp.access:127.0.0.1 [15/Feb/2022:22:09:02 +0000] \"GET /v1/models/r5vt2h6t/fits/dke2mzjq HTTP/1.1\" 200 1569347 \"-\" \"Python/3.8 aiohttp/3.8.1\"\n",
      "\n",
      "Sampling: 100%, done.\n",
      "Messages received during sampling:\n",
      "  Rejecting initial value:\n",
      "    Log probability evaluates to log(0), i.e. negative infinity.\n",
      "    Stan can't start sampling from this initial value.\n",
      "  Gradient evaluation took 0.000364 seconds\n",
      "  1000 transitions using 10 leapfrog steps per transition would take 3.64 seconds.\n",
      "  Adjust your expectations accordingly!\n"
     ]
    },
    {
     "name": "stdout",
     "output_type": "stream",
     "text": [
      "Building..."
     ]
    },
    {
     "name": "stderr",
     "output_type": "stream",
     "text": [
      "INFO:aiohttp.access:127.0.0.1 [15/Feb/2022:22:09:02 +0000] \"POST /v1/models/r5vt2h6t/params HTTP/1.1\" 200 386 \"-\" \"Python/3.8 aiohttp/3.8.1\"\n",
      "INFO:httpstan:Found Stan model in cache (`models/r5vt2h6t`).\n",
      "INFO:aiohttp.access:127.0.0.1 [15/Feb/2022:22:09:02 +0000] \"POST /v1/models HTTP/1.1\" 201 234 \"-\" \"Python/3.8 aiohttp/3.8.1\"\n"
     ]
    },
    {
     "name": "stdout",
     "output_type": "stream",
     "text": [
      "\n"
     ]
    },
    {
     "name": "stderr",
     "output_type": "stream",
     "text": [
      "\n",
      "Building: found in cache, done.INFO:aiohttp.access:127.0.0.1 [15/Feb/2022:22:09:02 +0000] \"POST /v1/models/r5vt2h6t/params HTTP/1.1\" 200 386 \"-\" \"Python/3.8 aiohttp/3.8.1\"\n",
      "Sampling:   0%INFO:aiohttp.access:127.0.0.1 [15/Feb/2022:22:09:02 +0000] \"POST /v1/models/r5vt2h6t/fits HTTP/1.1\" 201 325 \"-\" \"Python/3.8 aiohttp/3.8.1\"\n",
      "INFO:aiohttp.access:127.0.0.1 [15/Feb/2022:22:09:02 +0000] \"GET /v1/models/r5vt2h6t/fits/pltnnzfr HTTP/1.1\" 200 1568527 \"-\" \"Python/3.8 aiohttp/3.8.1\"\n",
      "\n",
      "Sampling: 100%, done.\n",
      "Messages received during sampling:\n",
      "  Rejecting initial value:\n",
      "    Log probability evaluates to log(0), i.e. negative infinity.\n",
      "    Stan can't start sampling from this initial value.\n",
      "  Gradient evaluation took 0.000257 seconds\n",
      "  1000 transitions using 10 leapfrog steps per transition would take 2.57 seconds.\n",
      "  Adjust your expectations accordingly!\n"
     ]
    },
    {
     "name": "stdout",
     "output_type": "stream",
     "text": [
      "Building..."
     ]
    },
    {
     "name": "stderr",
     "output_type": "stream",
     "text": [
      "INFO:aiohttp.access:127.0.0.1 [15/Feb/2022:22:09:02 +0000] \"POST /v1/models/r5vt2h6t/params HTTP/1.1\" 200 386 \"-\" \"Python/3.8 aiohttp/3.8.1\"\n",
      "INFO:httpstan:Found Stan model in cache (`models/r5vt2h6t`).\n",
      "INFO:aiohttp.access:127.0.0.1 [15/Feb/2022:22:09:02 +0000] \"POST /v1/models HTTP/1.1\" 201 234 \"-\" \"Python/3.8 aiohttp/3.8.1\"\n"
     ]
    },
    {
     "name": "stdout",
     "output_type": "stream",
     "text": [
      "\n"
     ]
    },
    {
     "name": "stderr",
     "output_type": "stream",
     "text": [
      "\n",
      "Building: found in cache, done.INFO:aiohttp.access:127.0.0.1 [15/Feb/2022:22:09:02 +0000] \"POST /v1/models/r5vt2h6t/params HTTP/1.1\" 200 386 \"-\" \"Python/3.8 aiohttp/3.8.1\"\n",
      "Sampling:   0%INFO:aiohttp.access:127.0.0.1 [15/Feb/2022:22:09:02 +0000] \"POST /v1/models/r5vt2h6t/fits HTTP/1.1\" 201 325 \"-\" \"Python/3.8 aiohttp/3.8.1\"\n",
      "INFO:aiohttp.access:127.0.0.1 [15/Feb/2022:22:09:02 +0000] \"GET /v1/models/r5vt2h6t/fits/c5jkbd6o HTTP/1.1\" 200 1569644 \"-\" \"Python/3.8 aiohttp/3.8.1\"\n",
      "\n",
      "Sampling: 100%, done.\n",
      "Messages received during sampling:\n",
      "  Rejecting initial value:\n",
      "    Log probability evaluates to log(0), i.e. negative infinity.\n",
      "    Stan can't start sampling from this initial value.\n",
      "  Gradient evaluation took 0.000259 seconds\n",
      "  1000 transitions using 10 leapfrog steps per transition would take 2.59 seconds.\n",
      "  Adjust your expectations accordingly!\n"
     ]
    },
    {
     "name": "stdout",
     "output_type": "stream",
     "text": [
      "Building..."
     ]
    },
    {
     "name": "stderr",
     "output_type": "stream",
     "text": [
      "INFO:aiohttp.access:127.0.0.1 [15/Feb/2022:22:09:02 +0000] \"POST /v1/models/r5vt2h6t/params HTTP/1.1\" 200 386 \"-\" \"Python/3.8 aiohttp/3.8.1\"\n",
      "INFO:httpstan:Found Stan model in cache (`models/r5vt2h6t`).\n",
      "INFO:aiohttp.access:127.0.0.1 [15/Feb/2022:22:09:02 +0000] \"POST /v1/models HTTP/1.1\" 201 234 \"-\" \"Python/3.8 aiohttp/3.8.1\"\n"
     ]
    },
    {
     "name": "stdout",
     "output_type": "stream",
     "text": [
      "\n"
     ]
    },
    {
     "name": "stderr",
     "output_type": "stream",
     "text": [
      "\n",
      "Building: found in cache, done.INFO:aiohttp.access:127.0.0.1 [15/Feb/2022:22:09:02 +0000] \"POST /v1/models/r5vt2h6t/params HTTP/1.1\" 200 386 \"-\" \"Python/3.8 aiohttp/3.8.1\"\n",
      "Sampling:   0%INFO:aiohttp.access:127.0.0.1 [15/Feb/2022:22:09:02 +0000] \"POST /v1/models/r5vt2h6t/fits HTTP/1.1\" 201 325 \"-\" \"Python/3.8 aiohttp/3.8.1\"\n",
      "INFO:aiohttp.access:127.0.0.1 [15/Feb/2022:22:09:02 +0000] \"GET /v1/models/r5vt2h6t/fits/6jtcortk HTTP/1.1\" 200 1568938 \"-\" \"Python/3.8 aiohttp/3.8.1\"\n",
      "\n",
      "Sampling: 100%, done.\n",
      "Messages received during sampling:\n",
      "  Rejecting initial value:\n",
      "    Log probability evaluates to log(0), i.e. negative infinity.\n",
      "    Stan can't start sampling from this initial value.\n",
      "  Gradient evaluation took 0.000397 seconds\n",
      "  1000 transitions using 10 leapfrog steps per transition would take 3.97 seconds.\n",
      "  Adjust your expectations accordingly!\n"
     ]
    },
    {
     "name": "stdout",
     "output_type": "stream",
     "text": [
      "Building..."
     ]
    },
    {
     "name": "stderr",
     "output_type": "stream",
     "text": [
      "INFO:aiohttp.access:127.0.0.1 [15/Feb/2022:22:09:02 +0000] \"POST /v1/models/r5vt2h6t/params HTTP/1.1\" 200 386 \"-\" \"Python/3.8 aiohttp/3.8.1\"\n",
      "INFO:httpstan:Found Stan model in cache (`models/r5vt2h6t`).\n",
      "INFO:aiohttp.access:127.0.0.1 [15/Feb/2022:22:09:02 +0000] \"POST /v1/models HTTP/1.1\" 201 234 \"-\" \"Python/3.8 aiohttp/3.8.1\"\n"
     ]
    },
    {
     "name": "stdout",
     "output_type": "stream",
     "text": [
      "\n"
     ]
    },
    {
     "name": "stderr",
     "output_type": "stream",
     "text": [
      "\n",
      "Building: found in cache, done.INFO:aiohttp.access:127.0.0.1 [15/Feb/2022:22:09:02 +0000] \"POST /v1/models/r5vt2h6t/params HTTP/1.1\" 200 386 \"-\" \"Python/3.8 aiohttp/3.8.1\"\n",
      "Sampling:   0%INFO:aiohttp.access:127.0.0.1 [15/Feb/2022:22:09:02 +0000] \"POST /v1/models/r5vt2h6t/fits HTTP/1.1\" 201 325 \"-\" \"Python/3.8 aiohttp/3.8.1\"\n",
      "INFO:aiohttp.access:127.0.0.1 [15/Feb/2022:22:09:02 +0000] \"GET /v1/models/r5vt2h6t/fits/i3vs7mcw HTTP/1.1\" 200 1568958 \"-\" \"Python/3.8 aiohttp/3.8.1\"\n",
      "\n",
      "Sampling: 100%, done.\n",
      "Messages received during sampling:\n",
      "  Rejecting initial value:\n",
      "    Log probability evaluates to log(0), i.e. negative infinity.\n",
      "    Stan can't start sampling from this initial value.\n",
      "  Gradient evaluation took 0.000294 seconds\n",
      "  1000 transitions using 10 leapfrog steps per transition would take 2.94 seconds.\n",
      "  Adjust your expectations accordingly!\n"
     ]
    },
    {
     "name": "stdout",
     "output_type": "stream",
     "text": [
      "Building..."
     ]
    },
    {
     "name": "stderr",
     "output_type": "stream",
     "text": [
      "INFO:aiohttp.access:127.0.0.1 [15/Feb/2022:22:09:03 +0000] \"POST /v1/models/r5vt2h6t/params HTTP/1.1\" 200 386 \"-\" \"Python/3.8 aiohttp/3.8.1\"\n",
      "INFO:httpstan:Found Stan model in cache (`models/r5vt2h6t`).\n",
      "INFO:aiohttp.access:127.0.0.1 [15/Feb/2022:22:09:03 +0000] \"POST /v1/models HTTP/1.1\" 201 234 \"-\" \"Python/3.8 aiohttp/3.8.1\"\n"
     ]
    },
    {
     "name": "stdout",
     "output_type": "stream",
     "text": [
      "\n"
     ]
    },
    {
     "name": "stderr",
     "output_type": "stream",
     "text": [
      "\n",
      "Building: found in cache, done.INFO:aiohttp.access:127.0.0.1 [15/Feb/2022:22:09:03 +0000] \"POST /v1/models/r5vt2h6t/params HTTP/1.1\" 200 386 \"-\" \"Python/3.8 aiohttp/3.8.1\"\n",
      "Sampling:   0%INFO:aiohttp.access:127.0.0.1 [15/Feb/2022:22:09:03 +0000] \"POST /v1/models/r5vt2h6t/fits HTTP/1.1\" 201 325 \"-\" \"Python/3.8 aiohttp/3.8.1\"\n",
      "INFO:aiohttp.access:127.0.0.1 [15/Feb/2022:22:09:03 +0000] \"GET /v1/models/r5vt2h6t/fits/yhp6p5sx HTTP/1.1\" 200 1564576 \"-\" \"Python/3.8 aiohttp/3.8.1\"\n",
      "\n",
      "Sampling: 100%, done.\n",
      "Messages received during sampling:\n",
      "  Rejecting initial value:\n",
      "    Log probability evaluates to log(0), i.e. negative infinity.\n",
      "    Stan can't start sampling from this initial value.\n",
      "  Gradient evaluation took 0.000247 seconds\n",
      "  1000 transitions using 10 leapfrog steps per transition would take 2.47 seconds.\n",
      "  Adjust your expectations accordingly!\n"
     ]
    },
    {
     "name": "stdout",
     "output_type": "stream",
     "text": [
      "Building..."
     ]
    },
    {
     "name": "stderr",
     "output_type": "stream",
     "text": [
      "INFO:aiohttp.access:127.0.0.1 [15/Feb/2022:22:09:03 +0000] \"POST /v1/models/r5vt2h6t/params HTTP/1.1\" 200 386 \"-\" \"Python/3.8 aiohttp/3.8.1\"\n",
      "INFO:httpstan:Found Stan model in cache (`models/r5vt2h6t`).\n",
      "INFO:aiohttp.access:127.0.0.1 [15/Feb/2022:22:09:03 +0000] \"POST /v1/models HTTP/1.1\" 201 234 \"-\" \"Python/3.8 aiohttp/3.8.1\"\n"
     ]
    },
    {
     "name": "stdout",
     "output_type": "stream",
     "text": [
      "\n"
     ]
    },
    {
     "name": "stderr",
     "output_type": "stream",
     "text": [
      "\n",
      "Building: found in cache, done.INFO:aiohttp.access:127.0.0.1 [15/Feb/2022:22:09:03 +0000] \"POST /v1/models/r5vt2h6t/params HTTP/1.1\" 200 386 \"-\" \"Python/3.8 aiohttp/3.8.1\"\n",
      "Sampling:   0%INFO:aiohttp.access:127.0.0.1 [15/Feb/2022:22:09:03 +0000] \"POST /v1/models/r5vt2h6t/fits HTTP/1.1\" 201 325 \"-\" \"Python/3.8 aiohttp/3.8.1\"\n",
      "INFO:aiohttp.access:127.0.0.1 [15/Feb/2022:22:09:03 +0000] \"GET /v1/models/r5vt2h6t/fits/vldfxxh4 HTTP/1.1\" 200 1563149 \"-\" \"Python/3.8 aiohttp/3.8.1\"\n",
      "\n",
      "Sampling: 100%, done.\n",
      "Messages received during sampling:\n",
      "  Rejecting initial value:\n",
      "    Log probability evaluates to log(0), i.e. negative infinity.\n",
      "    Stan can't start sampling from this initial value.\n",
      "  Gradient evaluation took 0.000265 seconds\n",
      "  1000 transitions using 10 leapfrog steps per transition would take 2.65 seconds.\n",
      "  Adjust your expectations accordingly!\n"
     ]
    },
    {
     "name": "stdout",
     "output_type": "stream",
     "text": [
      "Building..."
     ]
    },
    {
     "name": "stderr",
     "output_type": "stream",
     "text": [
      "INFO:aiohttp.access:127.0.0.1 [15/Feb/2022:22:09:03 +0000] \"POST /v1/models/r5vt2h6t/params HTTP/1.1\" 200 386 \"-\" \"Python/3.8 aiohttp/3.8.1\"\n",
      "INFO:httpstan:Found Stan model in cache (`models/r5vt2h6t`).\n",
      "INFO:aiohttp.access:127.0.0.1 [15/Feb/2022:22:09:03 +0000] \"POST /v1/models HTTP/1.1\" 201 234 \"-\" \"Python/3.8 aiohttp/3.8.1\"\n"
     ]
    },
    {
     "name": "stdout",
     "output_type": "stream",
     "text": [
      "\n"
     ]
    },
    {
     "name": "stderr",
     "output_type": "stream",
     "text": [
      "\n",
      "Building: found in cache, done.INFO:aiohttp.access:127.0.0.1 [15/Feb/2022:22:09:03 +0000] \"POST /v1/models/r5vt2h6t/params HTTP/1.1\" 200 386 \"-\" \"Python/3.8 aiohttp/3.8.1\"\n",
      "Sampling:   0%INFO:aiohttp.access:127.0.0.1 [15/Feb/2022:22:09:03 +0000] \"POST /v1/models/r5vt2h6t/fits HTTP/1.1\" 201 325 \"-\" \"Python/3.8 aiohttp/3.8.1\"\n",
      "INFO:aiohttp.access:127.0.0.1 [15/Feb/2022:22:09:03 +0000] \"GET /v1/models/r5vt2h6t/fits/w2yoey4u HTTP/1.1\" 200 1564052 \"-\" \"Python/3.8 aiohttp/3.8.1\"\n",
      "\n",
      "Sampling: 100%, done.\n",
      "Messages received during sampling:\n",
      "  Rejecting initial value:\n",
      "    Log probability evaluates to log(0), i.e. negative infinity.\n",
      "    Stan can't start sampling from this initial value.\n",
      "  Gradient evaluation took 0.000257 seconds\n",
      "  1000 transitions using 10 leapfrog steps per transition would take 2.57 seconds.\n",
      "  Adjust your expectations accordingly!\n"
     ]
    },
    {
     "name": "stdout",
     "output_type": "stream",
     "text": [
      "Building..."
     ]
    },
    {
     "name": "stderr",
     "output_type": "stream",
     "text": [
      "INFO:aiohttp.access:127.0.0.1 [15/Feb/2022:22:09:03 +0000] \"POST /v1/models/r5vt2h6t/params HTTP/1.1\" 200 386 \"-\" \"Python/3.8 aiohttp/3.8.1\"\n",
      "INFO:httpstan:Found Stan model in cache (`models/r5vt2h6t`).\n",
      "INFO:aiohttp.access:127.0.0.1 [15/Feb/2022:22:09:03 +0000] \"POST /v1/models HTTP/1.1\" 201 234 \"-\" \"Python/3.8 aiohttp/3.8.1\"\n"
     ]
    },
    {
     "name": "stdout",
     "output_type": "stream",
     "text": [
      "\n"
     ]
    },
    {
     "name": "stderr",
     "output_type": "stream",
     "text": [
      "\n",
      "Building: found in cache, done.INFO:aiohttp.access:127.0.0.1 [15/Feb/2022:22:09:03 +0000] \"POST /v1/models/r5vt2h6t/params HTTP/1.1\" 200 386 \"-\" \"Python/3.8 aiohttp/3.8.1\"\n",
      "Sampling:   0%INFO:aiohttp.access:127.0.0.1 [15/Feb/2022:22:09:03 +0000] \"POST /v1/models/r5vt2h6t/fits HTTP/1.1\" 201 325 \"-\" \"Python/3.8 aiohttp/3.8.1\"\n",
      "INFO:aiohttp.access:127.0.0.1 [15/Feb/2022:22:09:03 +0000] \"GET /v1/models/r5vt2h6t/fits/adt6lipz HTTP/1.1\" 200 1564290 \"-\" \"Python/3.8 aiohttp/3.8.1\"\n",
      "\n",
      "Sampling: 100%, done.\n",
      "Messages received during sampling:\n",
      "  Rejecting initial value:\n",
      "    Log probability evaluates to log(0), i.e. negative infinity.\n",
      "    Stan can't start sampling from this initial value.\n",
      "  Gradient evaluation took 0.000113 seconds\n",
      "  1000 transitions using 10 leapfrog steps per transition would take 1.13 seconds.\n",
      "  Adjust your expectations accordingly!\n"
     ]
    },
    {
     "name": "stdout",
     "output_type": "stream",
     "text": [
      "Building..."
     ]
    },
    {
     "name": "stderr",
     "output_type": "stream",
     "text": [
      "INFO:aiohttp.access:127.0.0.1 [15/Feb/2022:22:09:03 +0000] \"POST /v1/models/r5vt2h6t/params HTTP/1.1\" 200 386 \"-\" \"Python/3.8 aiohttp/3.8.1\"\n",
      "INFO:httpstan:Found Stan model in cache (`models/r5vt2h6t`).\n",
      "INFO:aiohttp.access:127.0.0.1 [15/Feb/2022:22:09:03 +0000] \"POST /v1/models HTTP/1.1\" 201 234 \"-\" \"Python/3.8 aiohttp/3.8.1\"\n"
     ]
    },
    {
     "name": "stdout",
     "output_type": "stream",
     "text": [
      "\n"
     ]
    },
    {
     "name": "stderr",
     "output_type": "stream",
     "text": [
      "\n",
      "Building: found in cache, done.INFO:aiohttp.access:127.0.0.1 [15/Feb/2022:22:09:03 +0000] \"POST /v1/models/r5vt2h6t/params HTTP/1.1\" 200 386 \"-\" \"Python/3.8 aiohttp/3.8.1\"\n",
      "Sampling:   0%INFO:aiohttp.access:127.0.0.1 [15/Feb/2022:22:09:03 +0000] \"POST /v1/models/r5vt2h6t/fits HTTP/1.1\" 201 325 \"-\" \"Python/3.8 aiohttp/3.8.1\"\n",
      "INFO:aiohttp.access:127.0.0.1 [15/Feb/2022:22:09:03 +0000] \"GET /v1/models/r5vt2h6t/fits/3aads5aa HTTP/1.1\" 200 1568259 \"-\" \"Python/3.8 aiohttp/3.8.1\"\n",
      "\n",
      "Sampling: 100%, done.\n",
      "Messages received during sampling:\n",
      "  Rejecting initial value:\n",
      "    Log probability evaluates to log(0), i.e. negative infinity.\n",
      "    Stan can't start sampling from this initial value.\n",
      "  Gradient evaluation took 0.000114 seconds\n",
      "  1000 transitions using 10 leapfrog steps per transition would take 1.14 seconds.\n",
      "  Adjust your expectations accordingly!\n"
     ]
    },
    {
     "name": "stdout",
     "output_type": "stream",
     "text": [
      "Building..."
     ]
    },
    {
     "name": "stderr",
     "output_type": "stream",
     "text": [
      "INFO:aiohttp.access:127.0.0.1 [15/Feb/2022:22:09:03 +0000] \"POST /v1/models/r5vt2h6t/params HTTP/1.1\" 200 386 \"-\" \"Python/3.8 aiohttp/3.8.1\"\n",
      "INFO:httpstan:Found Stan model in cache (`models/r5vt2h6t`).\n",
      "INFO:aiohttp.access:127.0.0.1 [15/Feb/2022:22:09:03 +0000] \"POST /v1/models HTTP/1.1\" 201 234 \"-\" \"Python/3.8 aiohttp/3.8.1\"\n"
     ]
    },
    {
     "name": "stdout",
     "output_type": "stream",
     "text": [
      "\n"
     ]
    },
    {
     "name": "stderr",
     "output_type": "stream",
     "text": [
      "\n",
      "Building: found in cache, done.INFO:aiohttp.access:127.0.0.1 [15/Feb/2022:22:09:03 +0000] \"POST /v1/models/r5vt2h6t/params HTTP/1.1\" 200 386 \"-\" \"Python/3.8 aiohttp/3.8.1\"\n",
      "Sampling:   0%INFO:aiohttp.access:127.0.0.1 [15/Feb/2022:22:09:03 +0000] \"POST /v1/models/r5vt2h6t/fits HTTP/1.1\" 201 325 \"-\" \"Python/3.8 aiohttp/3.8.1\"\n",
      "INFO:aiohttp.access:127.0.0.1 [15/Feb/2022:22:09:03 +0000] \"GET /v1/models/r5vt2h6t/fits/lhksvj7v HTTP/1.1\" 200 1569022 \"-\" \"Python/3.8 aiohttp/3.8.1\"\n",
      "\n",
      "Sampling: 100%, done.\n",
      "Messages received during sampling:\n",
      "  Rejecting initial value:\n",
      "    Log probability evaluates to log(0), i.e. negative infinity.\n",
      "    Stan can't start sampling from this initial value.\n",
      "  Gradient evaluation took 0.000263 seconds\n",
      "  1000 transitions using 10 leapfrog steps per transition would take 2.63 seconds.\n",
      "  Adjust your expectations accordingly!\n"
     ]
    },
    {
     "name": "stdout",
     "output_type": "stream",
     "text": [
      "Building..."
     ]
    },
    {
     "name": "stderr",
     "output_type": "stream",
     "text": [
      "INFO:aiohttp.access:127.0.0.1 [15/Feb/2022:22:09:03 +0000] \"POST /v1/models/r5vt2h6t/params HTTP/1.1\" 200 386 \"-\" \"Python/3.8 aiohttp/3.8.1\"\n",
      "INFO:httpstan:Found Stan model in cache (`models/r5vt2h6t`).\n",
      "INFO:aiohttp.access:127.0.0.1 [15/Feb/2022:22:09:03 +0000] \"POST /v1/models HTTP/1.1\" 201 234 \"-\" \"Python/3.8 aiohttp/3.8.1\"\n"
     ]
    },
    {
     "name": "stdout",
     "output_type": "stream",
     "text": [
      "\n"
     ]
    },
    {
     "name": "stderr",
     "output_type": "stream",
     "text": [
      "\n",
      "Building: found in cache, done.INFO:aiohttp.access:127.0.0.1 [15/Feb/2022:22:09:04 +0000] \"POST /v1/models/r5vt2h6t/params HTTP/1.1\" 200 386 \"-\" \"Python/3.8 aiohttp/3.8.1\"\n",
      "Sampling:   0%INFO:aiohttp.access:127.0.0.1 [15/Feb/2022:22:09:04 +0000] \"POST /v1/models/r5vt2h6t/fits HTTP/1.1\" 201 325 \"-\" \"Python/3.8 aiohttp/3.8.1\"\n",
      "INFO:aiohttp.access:127.0.0.1 [15/Feb/2022:22:09:04 +0000] \"GET /v1/models/r5vt2h6t/fits/v5nsynu5 HTTP/1.1\" 200 1567737 \"-\" \"Python/3.8 aiohttp/3.8.1\"\n",
      "\n",
      "Sampling: 100%, done.\n",
      "Messages received during sampling:\n",
      "  Rejecting initial value:\n",
      "    Log probability evaluates to log(0), i.e. negative infinity.\n",
      "    Stan can't start sampling from this initial value.\n",
      "  Gradient evaluation took 0.000111 seconds\n",
      "  1000 transitions using 10 leapfrog steps per transition would take 1.11 seconds.\n",
      "  Adjust your expectations accordingly!\n"
     ]
    },
    {
     "name": "stdout",
     "output_type": "stream",
     "text": [
      "Building..."
     ]
    },
    {
     "name": "stderr",
     "output_type": "stream",
     "text": [
      "INFO:aiohttp.access:127.0.0.1 [15/Feb/2022:22:09:04 +0000] \"POST /v1/models/r5vt2h6t/params HTTP/1.1\" 200 386 \"-\" \"Python/3.8 aiohttp/3.8.1\"\n",
      "INFO:httpstan:Found Stan model in cache (`models/r5vt2h6t`).\n",
      "INFO:aiohttp.access:127.0.0.1 [15/Feb/2022:22:09:04 +0000] \"POST /v1/models HTTP/1.1\" 201 234 \"-\" \"Python/3.8 aiohttp/3.8.1\"\n"
     ]
    },
    {
     "name": "stdout",
     "output_type": "stream",
     "text": [
      "\n"
     ]
    },
    {
     "name": "stderr",
     "output_type": "stream",
     "text": [
      "\n",
      "Building: found in cache, done.INFO:aiohttp.access:127.0.0.1 [15/Feb/2022:22:09:04 +0000] \"POST /v1/models/r5vt2h6t/params HTTP/1.1\" 200 386 \"-\" \"Python/3.8 aiohttp/3.8.1\"\n",
      "Sampling:   0%INFO:aiohttp.access:127.0.0.1 [15/Feb/2022:22:09:04 +0000] \"POST /v1/models/r5vt2h6t/fits HTTP/1.1\" 201 325 \"-\" \"Python/3.8 aiohttp/3.8.1\"\n",
      "INFO:aiohttp.access:127.0.0.1 [15/Feb/2022:22:09:04 +0000] \"GET /v1/models/r5vt2h6t/fits/tm53myey HTTP/1.1\" 200 1568797 \"-\" \"Python/3.8 aiohttp/3.8.1\"\n",
      "\n",
      "Sampling: 100%, done.\n",
      "Messages received during sampling:\n",
      "  Rejecting initial value:\n",
      "    Log probability evaluates to log(0), i.e. negative infinity.\n",
      "    Stan can't start sampling from this initial value.\n",
      "  Gradient evaluation took 0.000134 seconds\n",
      "  1000 transitions using 10 leapfrog steps per transition would take 1.34 seconds.\n",
      "  Adjust your expectations accordingly!\n"
     ]
    },
    {
     "name": "stdout",
     "output_type": "stream",
     "text": [
      "Building..."
     ]
    },
    {
     "name": "stderr",
     "output_type": "stream",
     "text": [
      "INFO:aiohttp.access:127.0.0.1 [15/Feb/2022:22:09:04 +0000] \"POST /v1/models/r5vt2h6t/params HTTP/1.1\" 200 386 \"-\" \"Python/3.8 aiohttp/3.8.1\"\n",
      "INFO:httpstan:Found Stan model in cache (`models/r5vt2h6t`).\n",
      "INFO:aiohttp.access:127.0.0.1 [15/Feb/2022:22:09:04 +0000] \"POST /v1/models HTTP/1.1\" 201 234 \"-\" \"Python/3.8 aiohttp/3.8.1\"\n"
     ]
    },
    {
     "name": "stdout",
     "output_type": "stream",
     "text": [
      "\n"
     ]
    },
    {
     "name": "stderr",
     "output_type": "stream",
     "text": [
      "\n",
      "Building: found in cache, done.INFO:aiohttp.access:127.0.0.1 [15/Feb/2022:22:09:04 +0000] \"POST /v1/models/r5vt2h6t/params HTTP/1.1\" 200 386 \"-\" \"Python/3.8 aiohttp/3.8.1\"\n",
      "Sampling:   0%INFO:aiohttp.access:127.0.0.1 [15/Feb/2022:22:09:04 +0000] \"POST /v1/models/r5vt2h6t/fits HTTP/1.1\" 201 325 \"-\" \"Python/3.8 aiohttp/3.8.1\"\n",
      "INFO:aiohttp.access:127.0.0.1 [15/Feb/2022:22:09:04 +0000] \"GET /v1/models/r5vt2h6t/fits/75cttdd3 HTTP/1.1\" 200 1567178 \"-\" \"Python/3.8 aiohttp/3.8.1\"\n",
      "\n",
      "Sampling: 100%, done.\n",
      "Messages received during sampling:\n",
      "  Rejecting initial value:\n",
      "    Log probability evaluates to log(0), i.e. negative infinity.\n",
      "    Stan can't start sampling from this initial value.\n",
      "  Gradient evaluation took 0.000142 seconds\n",
      "  1000 transitions using 10 leapfrog steps per transition would take 1.42 seconds.\n",
      "  Adjust your expectations accordingly!\n"
     ]
    },
    {
     "name": "stdout",
     "output_type": "stream",
     "text": [
      "Building..."
     ]
    },
    {
     "name": "stderr",
     "output_type": "stream",
     "text": [
      "INFO:aiohttp.access:127.0.0.1 [15/Feb/2022:22:09:04 +0000] \"POST /v1/models/r5vt2h6t/params HTTP/1.1\" 200 386 \"-\" \"Python/3.8 aiohttp/3.8.1\"\n",
      "INFO:httpstan:Found Stan model in cache (`models/r5vt2h6t`).\n",
      "INFO:aiohttp.access:127.0.0.1 [15/Feb/2022:22:09:04 +0000] \"POST /v1/models HTTP/1.1\" 201 234 \"-\" \"Python/3.8 aiohttp/3.8.1\"\n"
     ]
    },
    {
     "name": "stdout",
     "output_type": "stream",
     "text": [
      "\n"
     ]
    },
    {
     "name": "stderr",
     "output_type": "stream",
     "text": [
      "\n",
      "Building: found in cache, done.INFO:aiohttp.access:127.0.0.1 [15/Feb/2022:22:09:04 +0000] \"POST /v1/models/r5vt2h6t/params HTTP/1.1\" 200 386 \"-\" \"Python/3.8 aiohttp/3.8.1\"\n",
      "Sampling:   0%INFO:aiohttp.access:127.0.0.1 [15/Feb/2022:22:09:04 +0000] \"POST /v1/models/r5vt2h6t/fits HTTP/1.1\" 201 325 \"-\" \"Python/3.8 aiohttp/3.8.1\"\n",
      "INFO:aiohttp.access:127.0.0.1 [15/Feb/2022:22:09:04 +0000] \"GET /v1/models/r5vt2h6t/fits/5qaqp2br HTTP/1.1\" 200 1568490 \"-\" \"Python/3.8 aiohttp/3.8.1\"\n",
      "\n",
      "Sampling: 100%, done.\n",
      "Messages received during sampling:\n",
      "  Rejecting initial value:\n",
      "    Log probability evaluates to log(0), i.e. negative infinity.\n",
      "    Stan can't start sampling from this initial value.\n",
      "  Gradient evaluation took 0.000109 seconds\n",
      "  1000 transitions using 10 leapfrog steps per transition would take 1.09 seconds.\n",
      "  Adjust your expectations accordingly!\n"
     ]
    },
    {
     "name": "stdout",
     "output_type": "stream",
     "text": [
      "Building..."
     ]
    },
    {
     "name": "stderr",
     "output_type": "stream",
     "text": [
      "INFO:aiohttp.access:127.0.0.1 [15/Feb/2022:22:09:04 +0000] \"POST /v1/models/r5vt2h6t/params HTTP/1.1\" 200 386 \"-\" \"Python/3.8 aiohttp/3.8.1\"\n",
      "INFO:httpstan:Found Stan model in cache (`models/r5vt2h6t`).\n",
      "INFO:aiohttp.access:127.0.0.1 [15/Feb/2022:22:09:04 +0000] \"POST /v1/models HTTP/1.1\" 201 234 \"-\" \"Python/3.8 aiohttp/3.8.1\"\n"
     ]
    },
    {
     "name": "stdout",
     "output_type": "stream",
     "text": [
      "\n"
     ]
    },
    {
     "name": "stderr",
     "output_type": "stream",
     "text": [
      "\n",
      "Building: found in cache, done.INFO:aiohttp.access:127.0.0.1 [15/Feb/2022:22:09:04 +0000] \"POST /v1/models/r5vt2h6t/params HTTP/1.1\" 200 386 \"-\" \"Python/3.8 aiohttp/3.8.1\"\n",
      "Sampling:   0%INFO:aiohttp.access:127.0.0.1 [15/Feb/2022:22:09:04 +0000] \"POST /v1/models/r5vt2h6t/fits HTTP/1.1\" 201 325 \"-\" \"Python/3.8 aiohttp/3.8.1\"\n",
      "INFO:aiohttp.access:127.0.0.1 [15/Feb/2022:22:09:04 +0000] \"GET /v1/models/r5vt2h6t/fits/hz25pkdl HTTP/1.1\" 200 1568870 \"-\" \"Python/3.8 aiohttp/3.8.1\"\n",
      "\n",
      "Sampling: 100%, done.\n",
      "Messages received during sampling:\n",
      "  Rejecting initial value:\n",
      "    Log probability evaluates to log(0), i.e. negative infinity.\n",
      "    Stan can't start sampling from this initial value.\n",
      "  Gradient evaluation took 0.000114 seconds\n",
      "  1000 transitions using 10 leapfrog steps per transition would take 1.14 seconds.\n",
      "  Adjust your expectations accordingly!\n"
     ]
    },
    {
     "name": "stdout",
     "output_type": "stream",
     "text": [
      "Building..."
     ]
    },
    {
     "name": "stderr",
     "output_type": "stream",
     "text": [
      "INFO:aiohttp.access:127.0.0.1 [15/Feb/2022:22:09:04 +0000] \"POST /v1/models/r5vt2h6t/params HTTP/1.1\" 200 386 \"-\" \"Python/3.8 aiohttp/3.8.1\"\n",
      "INFO:httpstan:Found Stan model in cache (`models/r5vt2h6t`).\n",
      "INFO:aiohttp.access:127.0.0.1 [15/Feb/2022:22:09:04 +0000] \"POST /v1/models HTTP/1.1\" 201 234 \"-\" \"Python/3.8 aiohttp/3.8.1\"\n"
     ]
    },
    {
     "name": "stdout",
     "output_type": "stream",
     "text": [
      "\n"
     ]
    },
    {
     "name": "stderr",
     "output_type": "stream",
     "text": [
      "\n",
      "Building: found in cache, done.INFO:aiohttp.access:127.0.0.1 [15/Feb/2022:22:09:04 +0000] \"POST /v1/models/r5vt2h6t/params HTTP/1.1\" 200 386 \"-\" \"Python/3.8 aiohttp/3.8.1\"\n",
      "Sampling:   0%INFO:aiohttp.access:127.0.0.1 [15/Feb/2022:22:09:04 +0000] \"POST /v1/models/r5vt2h6t/fits HTTP/1.1\" 201 325 \"-\" \"Python/3.8 aiohttp/3.8.1\"\n",
      "INFO:aiohttp.access:127.0.0.1 [15/Feb/2022:22:09:04 +0000] \"GET /v1/models/r5vt2h6t/fits/hcutg5uy HTTP/1.1\" 200 1563238 \"-\" \"Python/3.8 aiohttp/3.8.1\"\n",
      "\n",
      "Sampling: 100%, done.\n",
      "Messages received during sampling:\n",
      "  Rejecting initial value:\n",
      "    Log probability evaluates to log(0), i.e. negative infinity.\n",
      "    Stan can't start sampling from this initial value.\n",
      "  Gradient evaluation took 0.000122 seconds\n",
      "  1000 transitions using 10 leapfrog steps per transition would take 1.22 seconds.\n",
      "  Adjust your expectations accordingly!\n"
     ]
    },
    {
     "name": "stdout",
     "output_type": "stream",
     "text": [
      "Building..."
     ]
    },
    {
     "name": "stderr",
     "output_type": "stream",
     "text": [
      "INFO:aiohttp.access:127.0.0.1 [15/Feb/2022:22:09:04 +0000] \"POST /v1/models/r5vt2h6t/params HTTP/1.1\" 200 386 \"-\" \"Python/3.8 aiohttp/3.8.1\"\n",
      "INFO:httpstan:Found Stan model in cache (`models/r5vt2h6t`).\n",
      "INFO:aiohttp.access:127.0.0.1 [15/Feb/2022:22:09:04 +0000] \"POST /v1/models HTTP/1.1\" 201 234 \"-\" \"Python/3.8 aiohttp/3.8.1\"\n"
     ]
    },
    {
     "name": "stdout",
     "output_type": "stream",
     "text": [
      "\n"
     ]
    },
    {
     "name": "stderr",
     "output_type": "stream",
     "text": [
      "\n",
      "Building: found in cache, done.INFO:aiohttp.access:127.0.0.1 [15/Feb/2022:22:09:04 +0000] \"POST /v1/models/r5vt2h6t/params HTTP/1.1\" 200 386 \"-\" \"Python/3.8 aiohttp/3.8.1\"\n",
      "Sampling:   0%INFO:aiohttp.access:127.0.0.1 [15/Feb/2022:22:09:04 +0000] \"POST /v1/models/r5vt2h6t/fits HTTP/1.1\" 201 325 \"-\" \"Python/3.8 aiohttp/3.8.1\"\n",
      "INFO:aiohttp.access:127.0.0.1 [15/Feb/2022:22:09:04 +0000] \"GET /v1/models/r5vt2h6t/fits/awpb622h HTTP/1.1\" 200 1568437 \"-\" \"Python/3.8 aiohttp/3.8.1\"\n",
      "\n",
      "Sampling: 100%, done.\n",
      "Messages received during sampling:\n",
      "  Rejecting initial value:\n",
      "    Log probability evaluates to log(0), i.e. negative infinity.\n",
      "    Stan can't start sampling from this initial value.\n",
      "  Gradient evaluation took 0.000112 seconds\n",
      "  1000 transitions using 10 leapfrog steps per transition would take 1.12 seconds.\n",
      "  Adjust your expectations accordingly!\n"
     ]
    },
    {
     "name": "stdout",
     "output_type": "stream",
     "text": [
      "Building..."
     ]
    },
    {
     "name": "stderr",
     "output_type": "stream",
     "text": [
      "INFO:aiohttp.access:127.0.0.1 [15/Feb/2022:22:09:05 +0000] \"POST /v1/models/r5vt2h6t/params HTTP/1.1\" 200 386 \"-\" \"Python/3.8 aiohttp/3.8.1\"\n",
      "INFO:httpstan:Found Stan model in cache (`models/r5vt2h6t`).\n",
      "INFO:aiohttp.access:127.0.0.1 [15/Feb/2022:22:09:05 +0000] \"POST /v1/models HTTP/1.1\" 201 234 \"-\" \"Python/3.8 aiohttp/3.8.1\"\n"
     ]
    },
    {
     "name": "stdout",
     "output_type": "stream",
     "text": [
      "\n"
     ]
    },
    {
     "name": "stderr",
     "output_type": "stream",
     "text": [
      "\n",
      "Building: found in cache, done.INFO:aiohttp.access:127.0.0.1 [15/Feb/2022:22:09:05 +0000] \"POST /v1/models/r5vt2h6t/params HTTP/1.1\" 200 386 \"-\" \"Python/3.8 aiohttp/3.8.1\"\n",
      "Sampling:   0%INFO:aiohttp.access:127.0.0.1 [15/Feb/2022:22:09:05 +0000] \"POST /v1/models/r5vt2h6t/fits HTTP/1.1\" 201 325 \"-\" \"Python/3.8 aiohttp/3.8.1\"\n",
      "INFO:aiohttp.access:127.0.0.1 [15/Feb/2022:22:09:05 +0000] \"GET /v1/models/r5vt2h6t/fits/wf66icrr HTTP/1.1\" 200 1568309 \"-\" \"Python/3.8 aiohttp/3.8.1\"\n",
      "\n",
      "Sampling: 100%, done.\n",
      "Messages received during sampling:\n",
      "  Rejecting initial value:\n",
      "    Log probability evaluates to log(0), i.e. negative infinity.\n",
      "    Stan can't start sampling from this initial value.\n",
      "  Gradient evaluation took 0.000115 seconds\n",
      "  1000 transitions using 10 leapfrog steps per transition would take 1.15 seconds.\n",
      "  Adjust your expectations accordingly!\n"
     ]
    },
    {
     "name": "stdout",
     "output_type": "stream",
     "text": [
      "Building..."
     ]
    },
    {
     "name": "stderr",
     "output_type": "stream",
     "text": [
      "INFO:aiohttp.access:127.0.0.1 [15/Feb/2022:22:09:05 +0000] \"POST /v1/models/r5vt2h6t/params HTTP/1.1\" 200 386 \"-\" \"Python/3.8 aiohttp/3.8.1\"\n",
      "INFO:httpstan:Found Stan model in cache (`models/r5vt2h6t`).\n",
      "INFO:aiohttp.access:127.0.0.1 [15/Feb/2022:22:09:05 +0000] \"POST /v1/models HTTP/1.1\" 201 234 \"-\" \"Python/3.8 aiohttp/3.8.1\"\n"
     ]
    },
    {
     "name": "stdout",
     "output_type": "stream",
     "text": [
      "\n"
     ]
    },
    {
     "name": "stderr",
     "output_type": "stream",
     "text": [
      "\n",
      "Building: found in cache, done.INFO:aiohttp.access:127.0.0.1 [15/Feb/2022:22:09:05 +0000] \"POST /v1/models/r5vt2h6t/params HTTP/1.1\" 200 386 \"-\" \"Python/3.8 aiohttp/3.8.1\"\n",
      "Sampling:   0%INFO:aiohttp.access:127.0.0.1 [15/Feb/2022:22:09:05 +0000] \"POST /v1/models/r5vt2h6t/fits HTTP/1.1\" 201 325 \"-\" \"Python/3.8 aiohttp/3.8.1\"\n",
      "INFO:aiohttp.access:127.0.0.1 [15/Feb/2022:22:09:05 +0000] \"GET /v1/models/r5vt2h6t/fits/3kpifr42 HTTP/1.1\" 200 1568486 \"-\" \"Python/3.8 aiohttp/3.8.1\"\n",
      "\n",
      "Sampling: 100%, done.\n",
      "Messages received during sampling:\n",
      "  Rejecting initial value:\n",
      "    Log probability evaluates to log(0), i.e. negative infinity.\n",
      "    Stan can't start sampling from this initial value.\n",
      "  Gradient evaluation took 0.000111 seconds\n",
      "  1000 transitions using 10 leapfrog steps per transition would take 1.11 seconds.\n",
      "  Adjust your expectations accordingly!\n"
     ]
    },
    {
     "name": "stdout",
     "output_type": "stream",
     "text": [
      "Building..."
     ]
    },
    {
     "name": "stderr",
     "output_type": "stream",
     "text": [
      "INFO:aiohttp.access:127.0.0.1 [15/Feb/2022:22:09:05 +0000] \"POST /v1/models/r5vt2h6t/params HTTP/1.1\" 200 386 \"-\" \"Python/3.8 aiohttp/3.8.1\"\n",
      "INFO:httpstan:Found Stan model in cache (`models/r5vt2h6t`).\n",
      "INFO:aiohttp.access:127.0.0.1 [15/Feb/2022:22:09:05 +0000] \"POST /v1/models HTTP/1.1\" 201 234 \"-\" \"Python/3.8 aiohttp/3.8.1\"\n"
     ]
    },
    {
     "name": "stdout",
     "output_type": "stream",
     "text": [
      "\n"
     ]
    },
    {
     "name": "stderr",
     "output_type": "stream",
     "text": [
      "\n",
      "Building: found in cache, done.INFO:aiohttp.access:127.0.0.1 [15/Feb/2022:22:09:05 +0000] \"POST /v1/models/r5vt2h6t/params HTTP/1.1\" 200 386 \"-\" \"Python/3.8 aiohttp/3.8.1\"\n",
      "Sampling:   0%INFO:aiohttp.access:127.0.0.1 [15/Feb/2022:22:09:05 +0000] \"POST /v1/models/r5vt2h6t/fits HTTP/1.1\" 201 325 \"-\" \"Python/3.8 aiohttp/3.8.1\"\n",
      "INFO:aiohttp.access:127.0.0.1 [15/Feb/2022:22:09:05 +0000] \"GET /v1/models/r5vt2h6t/fits/ohyvis6t HTTP/1.1\" 200 1568355 \"-\" \"Python/3.8 aiohttp/3.8.1\"\n",
      "\n",
      "Sampling: 100%, done.\n",
      "Messages received during sampling:\n",
      "  Rejecting initial value:\n",
      "    Log probability evaluates to log(0), i.e. negative infinity.\n",
      "    Stan can't start sampling from this initial value.\n",
      "  Gradient evaluation took 0.000119 seconds\n",
      "  1000 transitions using 10 leapfrog steps per transition would take 1.19 seconds.\n",
      "  Adjust your expectations accordingly!\n"
     ]
    },
    {
     "name": "stdout",
     "output_type": "stream",
     "text": [
      "Building..."
     ]
    },
    {
     "name": "stderr",
     "output_type": "stream",
     "text": [
      "INFO:aiohttp.access:127.0.0.1 [15/Feb/2022:22:09:05 +0000] \"POST /v1/models/r5vt2h6t/params HTTP/1.1\" 200 386 \"-\" \"Python/3.8 aiohttp/3.8.1\"\n",
      "INFO:httpstan:Found Stan model in cache (`models/r5vt2h6t`).\n",
      "INFO:aiohttp.access:127.0.0.1 [15/Feb/2022:22:09:05 +0000] \"POST /v1/models HTTP/1.1\" 201 234 \"-\" \"Python/3.8 aiohttp/3.8.1\"\n"
     ]
    },
    {
     "name": "stdout",
     "output_type": "stream",
     "text": [
      "\n"
     ]
    },
    {
     "name": "stderr",
     "output_type": "stream",
     "text": [
      "\n",
      "Building: found in cache, done.INFO:aiohttp.access:127.0.0.1 [15/Feb/2022:22:09:05 +0000] \"POST /v1/models/r5vt2h6t/params HTTP/1.1\" 200 386 \"-\" \"Python/3.8 aiohttp/3.8.1\"\n",
      "Sampling:   0%INFO:aiohttp.access:127.0.0.1 [15/Feb/2022:22:09:05 +0000] \"POST /v1/models/r5vt2h6t/fits HTTP/1.1\" 201 325 \"-\" \"Python/3.8 aiohttp/3.8.1\"\n",
      "INFO:aiohttp.access:127.0.0.1 [15/Feb/2022:22:09:05 +0000] \"GET /v1/models/r5vt2h6t/fits/sczsbbfc HTTP/1.1\" 200 1568629 \"-\" \"Python/3.8 aiohttp/3.8.1\"\n",
      "\n",
      "Sampling: 100%, done.\n",
      "Messages received during sampling:\n",
      "  Rejecting initial value:\n",
      "    Log probability evaluates to log(0), i.e. negative infinity.\n",
      "    Stan can't start sampling from this initial value.\n",
      "  Gradient evaluation took 0.000117 seconds\n",
      "  1000 transitions using 10 leapfrog steps per transition would take 1.17 seconds.\n",
      "  Adjust your expectations accordingly!\n"
     ]
    },
    {
     "name": "stdout",
     "output_type": "stream",
     "text": [
      "Building..."
     ]
    },
    {
     "name": "stderr",
     "output_type": "stream",
     "text": [
      "INFO:aiohttp.access:127.0.0.1 [15/Feb/2022:22:09:05 +0000] \"POST /v1/models/r5vt2h6t/params HTTP/1.1\" 200 386 \"-\" \"Python/3.8 aiohttp/3.8.1\"\n",
      "INFO:httpstan:Found Stan model in cache (`models/r5vt2h6t`).\n",
      "INFO:aiohttp.access:127.0.0.1 [15/Feb/2022:22:09:05 +0000] \"POST /v1/models HTTP/1.1\" 201 234 \"-\" \"Python/3.8 aiohttp/3.8.1\"\n"
     ]
    },
    {
     "name": "stdout",
     "output_type": "stream",
     "text": [
      "\n"
     ]
    },
    {
     "name": "stderr",
     "output_type": "stream",
     "text": [
      "\n",
      "Building: found in cache, done.INFO:aiohttp.access:127.0.0.1 [15/Feb/2022:22:09:05 +0000] \"POST /v1/models/r5vt2h6t/params HTTP/1.1\" 200 386 \"-\" \"Python/3.8 aiohttp/3.8.1\"\n",
      "Sampling:   0%INFO:aiohttp.access:127.0.0.1 [15/Feb/2022:22:09:05 +0000] \"POST /v1/models/r5vt2h6t/fits HTTP/1.1\" 201 325 \"-\" \"Python/3.8 aiohttp/3.8.1\"\n",
      "INFO:aiohttp.access:127.0.0.1 [15/Feb/2022:22:09:05 +0000] \"GET /v1/models/r5vt2h6t/fits/e4t26e55 HTTP/1.1\" 200 1568806 \"-\" \"Python/3.8 aiohttp/3.8.1\"\n",
      "\n",
      "Sampling: 100%, done.\n",
      "Messages received during sampling:\n",
      "  Rejecting initial value:\n",
      "    Log probability evaluates to log(0), i.e. negative infinity.\n",
      "    Stan can't start sampling from this initial value.\n",
      "  Gradient evaluation took 0.000111 seconds\n",
      "  1000 transitions using 10 leapfrog steps per transition would take 1.11 seconds.\n",
      "  Adjust your expectations accordingly!\n"
     ]
    },
    {
     "name": "stdout",
     "output_type": "stream",
     "text": [
      "Building..."
     ]
    },
    {
     "name": "stderr",
     "output_type": "stream",
     "text": [
      "INFO:aiohttp.access:127.0.0.1 [15/Feb/2022:22:09:05 +0000] \"POST /v1/models/r5vt2h6t/params HTTP/1.1\" 200 386 \"-\" \"Python/3.8 aiohttp/3.8.1\"\n",
      "INFO:httpstan:Found Stan model in cache (`models/r5vt2h6t`).\n",
      "INFO:aiohttp.access:127.0.0.1 [15/Feb/2022:22:09:05 +0000] \"POST /v1/models HTTP/1.1\" 201 234 \"-\" \"Python/3.8 aiohttp/3.8.1\"\n"
     ]
    },
    {
     "name": "stdout",
     "output_type": "stream",
     "text": [
      "\n"
     ]
    },
    {
     "name": "stderr",
     "output_type": "stream",
     "text": [
      "\n",
      "Building: found in cache, done.INFO:aiohttp.access:127.0.0.1 [15/Feb/2022:22:09:05 +0000] \"POST /v1/models/r5vt2h6t/params HTTP/1.1\" 200 386 \"-\" \"Python/3.8 aiohttp/3.8.1\"\n",
      "Sampling:   0%INFO:aiohttp.access:127.0.0.1 [15/Feb/2022:22:09:05 +0000] \"POST /v1/models/r5vt2h6t/fits HTTP/1.1\" 201 325 \"-\" \"Python/3.8 aiohttp/3.8.1\"\n",
      "INFO:aiohttp.access:127.0.0.1 [15/Feb/2022:22:09:05 +0000] \"GET /v1/models/r5vt2h6t/fits/dx6ca2vp HTTP/1.1\" 200 1567924 \"-\" \"Python/3.8 aiohttp/3.8.1\"\n",
      "\n",
      "Sampling: 100%, done.\n",
      "Messages received during sampling:\n",
      "  Rejecting initial value:\n",
      "    Log probability evaluates to log(0), i.e. negative infinity.\n",
      "    Stan can't start sampling from this initial value.\n",
      "  Gradient evaluation took 0.000113 seconds\n",
      "  1000 transitions using 10 leapfrog steps per transition would take 1.13 seconds.\n",
      "  Adjust your expectations accordingly!\n"
     ]
    },
    {
     "name": "stdout",
     "output_type": "stream",
     "text": [
      "Building..."
     ]
    },
    {
     "name": "stderr",
     "output_type": "stream",
     "text": [
      "INFO:aiohttp.access:127.0.0.1 [15/Feb/2022:22:09:06 +0000] \"POST /v1/models/r5vt2h6t/params HTTP/1.1\" 200 386 \"-\" \"Python/3.8 aiohttp/3.8.1\"\n",
      "INFO:httpstan:Found Stan model in cache (`models/r5vt2h6t`).\n",
      "INFO:aiohttp.access:127.0.0.1 [15/Feb/2022:22:09:06 +0000] \"POST /v1/models HTTP/1.1\" 201 234 \"-\" \"Python/3.8 aiohttp/3.8.1\"\n"
     ]
    },
    {
     "name": "stdout",
     "output_type": "stream",
     "text": [
      "\n"
     ]
    },
    {
     "name": "stderr",
     "output_type": "stream",
     "text": [
      "\n",
      "Building: found in cache, done.INFO:aiohttp.access:127.0.0.1 [15/Feb/2022:22:09:06 +0000] \"POST /v1/models/r5vt2h6t/params HTTP/1.1\" 200 386 \"-\" \"Python/3.8 aiohttp/3.8.1\"\n",
      "Sampling:   0%INFO:aiohttp.access:127.0.0.1 [15/Feb/2022:22:09:06 +0000] \"POST /v1/models/r5vt2h6t/fits HTTP/1.1\" 201 325 \"-\" \"Python/3.8 aiohttp/3.8.1\"\n",
      "INFO:aiohttp.access:127.0.0.1 [15/Feb/2022:22:09:06 +0000] \"GET /v1/models/r5vt2h6t/fits/3hxrerfp HTTP/1.1\" 200 1566855 \"-\" \"Python/3.8 aiohttp/3.8.1\"\n",
      "\n",
      "Sampling: 100%, done.\n",
      "Messages received during sampling:\n",
      "  Rejecting initial value:\n",
      "    Log probability evaluates to log(0), i.e. negative infinity.\n",
      "    Stan can't start sampling from this initial value.\n",
      "  Gradient evaluation took 0.000111 seconds\n",
      "  1000 transitions using 10 leapfrog steps per transition would take 1.11 seconds.\n",
      "  Adjust your expectations accordingly!\n"
     ]
    },
    {
     "name": "stdout",
     "output_type": "stream",
     "text": [
      "Building..."
     ]
    },
    {
     "name": "stderr",
     "output_type": "stream",
     "text": [
      "INFO:aiohttp.access:127.0.0.1 [15/Feb/2022:22:09:06 +0000] \"POST /v1/models/r5vt2h6t/params HTTP/1.1\" 200 386 \"-\" \"Python/3.8 aiohttp/3.8.1\"\n",
      "INFO:httpstan:Found Stan model in cache (`models/r5vt2h6t`).\n",
      "INFO:aiohttp.access:127.0.0.1 [15/Feb/2022:22:09:06 +0000] \"POST /v1/models HTTP/1.1\" 201 234 \"-\" \"Python/3.8 aiohttp/3.8.1\"\n"
     ]
    },
    {
     "name": "stdout",
     "output_type": "stream",
     "text": [
      "\n"
     ]
    },
    {
     "name": "stderr",
     "output_type": "stream",
     "text": [
      "\n",
      "Building: found in cache, done.INFO:aiohttp.access:127.0.0.1 [15/Feb/2022:22:09:06 +0000] \"POST /v1/models/r5vt2h6t/params HTTP/1.1\" 200 386 \"-\" \"Python/3.8 aiohttp/3.8.1\"\n",
      "Sampling:   0%INFO:aiohttp.access:127.0.0.1 [15/Feb/2022:22:09:06 +0000] \"POST /v1/models/r5vt2h6t/fits HTTP/1.1\" 201 325 \"-\" \"Python/3.8 aiohttp/3.8.1\"\n",
      "INFO:aiohttp.access:127.0.0.1 [15/Feb/2022:22:09:06 +0000] \"GET /v1/models/r5vt2h6t/fits/pradlmjo HTTP/1.1\" 200 1567677 \"-\" \"Python/3.8 aiohttp/3.8.1\"\n",
      "\n",
      "Sampling: 100%, done.\n",
      "Messages received during sampling:\n",
      "  Rejecting initial value:\n",
      "    Log probability evaluates to log(0), i.e. negative infinity.\n",
      "    Stan can't start sampling from this initial value.\n",
      "  Gradient evaluation took 0.000131 seconds\n",
      "  1000 transitions using 10 leapfrog steps per transition would take 1.31 seconds.\n",
      "  Adjust your expectations accordingly!\n"
     ]
    },
    {
     "name": "stdout",
     "output_type": "stream",
     "text": [
      "Building..."
     ]
    },
    {
     "name": "stderr",
     "output_type": "stream",
     "text": [
      "INFO:aiohttp.access:127.0.0.1 [15/Feb/2022:22:09:06 +0000] \"POST /v1/models/r5vt2h6t/params HTTP/1.1\" 200 386 \"-\" \"Python/3.8 aiohttp/3.8.1\"\n",
      "INFO:httpstan:Found Stan model in cache (`models/r5vt2h6t`).\n",
      "INFO:aiohttp.access:127.0.0.1 [15/Feb/2022:22:09:06 +0000] \"POST /v1/models HTTP/1.1\" 201 234 \"-\" \"Python/3.8 aiohttp/3.8.1\"\n"
     ]
    },
    {
     "name": "stdout",
     "output_type": "stream",
     "text": [
      "\n"
     ]
    },
    {
     "name": "stderr",
     "output_type": "stream",
     "text": [
      "\n",
      "Building: found in cache, done.INFO:aiohttp.access:127.0.0.1 [15/Feb/2022:22:09:06 +0000] \"POST /v1/models/r5vt2h6t/params HTTP/1.1\" 200 386 \"-\" \"Python/3.8 aiohttp/3.8.1\"\n",
      "Sampling:   0%INFO:aiohttp.access:127.0.0.1 [15/Feb/2022:22:09:06 +0000] \"POST /v1/models/r5vt2h6t/fits HTTP/1.1\" 201 325 \"-\" \"Python/3.8 aiohttp/3.8.1\"\n",
      "INFO:aiohttp.access:127.0.0.1 [15/Feb/2022:22:09:06 +0000] \"GET /v1/models/r5vt2h6t/fits/qdyt2pnf HTTP/1.1\" 200 1563694 \"-\" \"Python/3.8 aiohttp/3.8.1\"\n",
      "\n",
      "Sampling: 100%, done.\n",
      "Messages received during sampling:\n",
      "  Rejecting initial value:\n",
      "    Log probability evaluates to log(0), i.e. negative infinity.\n",
      "    Stan can't start sampling from this initial value.\n",
      "  Gradient evaluation took 0.000113 seconds\n",
      "  1000 transitions using 10 leapfrog steps per transition would take 1.13 seconds.\n",
      "  Adjust your expectations accordingly!\n"
     ]
    },
    {
     "name": "stdout",
     "output_type": "stream",
     "text": [
      "Building..."
     ]
    },
    {
     "name": "stderr",
     "output_type": "stream",
     "text": [
      "INFO:aiohttp.access:127.0.0.1 [15/Feb/2022:22:09:06 +0000] \"POST /v1/models/r5vt2h6t/params HTTP/1.1\" 200 386 \"-\" \"Python/3.8 aiohttp/3.8.1\"\n",
      "INFO:httpstan:Found Stan model in cache (`models/r5vt2h6t`).\n",
      "INFO:aiohttp.access:127.0.0.1 [15/Feb/2022:22:09:06 +0000] \"POST /v1/models HTTP/1.1\" 201 234 \"-\" \"Python/3.8 aiohttp/3.8.1\"\n"
     ]
    },
    {
     "name": "stdout",
     "output_type": "stream",
     "text": [
      "\n"
     ]
    },
    {
     "name": "stderr",
     "output_type": "stream",
     "text": [
      "\n",
      "Building: found in cache, done.INFO:aiohttp.access:127.0.0.1 [15/Feb/2022:22:09:06 +0000] \"POST /v1/models/r5vt2h6t/params HTTP/1.1\" 200 386 \"-\" \"Python/3.8 aiohttp/3.8.1\"\n",
      "Sampling:   0%INFO:aiohttp.access:127.0.0.1 [15/Feb/2022:22:09:06 +0000] \"POST /v1/models/r5vt2h6t/fits HTTP/1.1\" 201 325 \"-\" \"Python/3.8 aiohttp/3.8.1\"\n",
      "INFO:aiohttp.access:127.0.0.1 [15/Feb/2022:22:09:06 +0000] \"GET /v1/models/r5vt2h6t/fits/cre2kchl HTTP/1.1\" 200 1567700 \"-\" \"Python/3.8 aiohttp/3.8.1\"\n",
      "\n",
      "Sampling: 100%, done.\n",
      "Messages received during sampling:\n",
      "  Rejecting initial value:\n",
      "    Log probability evaluates to log(0), i.e. negative infinity.\n",
      "    Stan can't start sampling from this initial value.\n",
      "  Gradient evaluation took 0.000111 seconds\n",
      "  1000 transitions using 10 leapfrog steps per transition would take 1.11 seconds.\n",
      "  Adjust your expectations accordingly!\n"
     ]
    },
    {
     "name": "stdout",
     "output_type": "stream",
     "text": [
      "Building..."
     ]
    },
    {
     "name": "stderr",
     "output_type": "stream",
     "text": [
      "INFO:aiohttp.access:127.0.0.1 [15/Feb/2022:22:09:06 +0000] \"POST /v1/models/r5vt2h6t/params HTTP/1.1\" 200 386 \"-\" \"Python/3.8 aiohttp/3.8.1\"\n",
      "INFO:httpstan:Found Stan model in cache (`models/r5vt2h6t`).\n",
      "INFO:aiohttp.access:127.0.0.1 [15/Feb/2022:22:09:06 +0000] \"POST /v1/models HTTP/1.1\" 201 234 \"-\" \"Python/3.8 aiohttp/3.8.1\"\n"
     ]
    },
    {
     "name": "stdout",
     "output_type": "stream",
     "text": [
      "\n"
     ]
    },
    {
     "name": "stderr",
     "output_type": "stream",
     "text": [
      "\n",
      "Building: found in cache, done.INFO:aiohttp.access:127.0.0.1 [15/Feb/2022:22:09:06 +0000] \"POST /v1/models/r5vt2h6t/params HTTP/1.1\" 200 386 \"-\" \"Python/3.8 aiohttp/3.8.1\"\n",
      "Sampling:   0%INFO:aiohttp.access:127.0.0.1 [15/Feb/2022:22:09:06 +0000] \"POST /v1/models/r5vt2h6t/fits HTTP/1.1\" 201 325 \"-\" \"Python/3.8 aiohttp/3.8.1\"\n",
      "INFO:aiohttp.access:127.0.0.1 [15/Feb/2022:22:09:06 +0000] \"GET /v1/models/r5vt2h6t/fits/pxsgskzk HTTP/1.1\" 200 1568450 \"-\" \"Python/3.8 aiohttp/3.8.1\"\n",
      "\n",
      "Sampling: 100%, done.\n",
      "Messages received during sampling:\n",
      "  Rejecting initial value:\n",
      "    Log probability evaluates to log(0), i.e. negative infinity.\n",
      "    Stan can't start sampling from this initial value.\n",
      "  Gradient evaluation took 0.000188 seconds\n",
      "  1000 transitions using 10 leapfrog steps per transition would take 1.88 seconds.\n",
      "  Adjust your expectations accordingly!\n"
     ]
    },
    {
     "name": "stdout",
     "output_type": "stream",
     "text": [
      "Building..."
     ]
    },
    {
     "name": "stderr",
     "output_type": "stream",
     "text": [
      "INFO:aiohttp.access:127.0.0.1 [15/Feb/2022:22:09:06 +0000] \"POST /v1/models/r5vt2h6t/params HTTP/1.1\" 200 386 \"-\" \"Python/3.8 aiohttp/3.8.1\"\n",
      "INFO:httpstan:Found Stan model in cache (`models/r5vt2h6t`).\n",
      "INFO:aiohttp.access:127.0.0.1 [15/Feb/2022:22:09:06 +0000] \"POST /v1/models HTTP/1.1\" 201 234 \"-\" \"Python/3.8 aiohttp/3.8.1\"\n"
     ]
    },
    {
     "name": "stdout",
     "output_type": "stream",
     "text": [
      "\n"
     ]
    },
    {
     "name": "stderr",
     "output_type": "stream",
     "text": [
      "\n",
      "Building: found in cache, done.INFO:aiohttp.access:127.0.0.1 [15/Feb/2022:22:09:06 +0000] \"POST /v1/models/r5vt2h6t/params HTTP/1.1\" 200 386 \"-\" \"Python/3.8 aiohttp/3.8.1\"\n",
      "Sampling:   0%INFO:aiohttp.access:127.0.0.1 [15/Feb/2022:22:09:06 +0000] \"POST /v1/models/r5vt2h6t/fits HTTP/1.1\" 201 325 \"-\" \"Python/3.8 aiohttp/3.8.1\"\n",
      "INFO:aiohttp.access:127.0.0.1 [15/Feb/2022:22:09:06 +0000] \"GET /v1/models/r5vt2h6t/fits/chluqcoo HTTP/1.1\" 200 1569141 \"-\" \"Python/3.8 aiohttp/3.8.1\"\n",
      "\n",
      "Sampling: 100%, done.\n",
      "Messages received during sampling:\n",
      "  Rejecting initial value:\n",
      "    Log probability evaluates to log(0), i.e. negative infinity.\n",
      "    Stan can't start sampling from this initial value.\n",
      "  Gradient evaluation took 0.000112 seconds\n",
      "  1000 transitions using 10 leapfrog steps per transition would take 1.12 seconds.\n",
      "  Adjust your expectations accordingly!\n"
     ]
    },
    {
     "name": "stdout",
     "output_type": "stream",
     "text": [
      "Building..."
     ]
    },
    {
     "name": "stderr",
     "output_type": "stream",
     "text": [
      "INFO:aiohttp.access:127.0.0.1 [15/Feb/2022:22:09:06 +0000] \"POST /v1/models/r5vt2h6t/params HTTP/1.1\" 200 386 \"-\" \"Python/3.8 aiohttp/3.8.1\"\n",
      "INFO:httpstan:Found Stan model in cache (`models/r5vt2h6t`).\n",
      "INFO:aiohttp.access:127.0.0.1 [15/Feb/2022:22:09:06 +0000] \"POST /v1/models HTTP/1.1\" 201 234 \"-\" \"Python/3.8 aiohttp/3.8.1\"\n"
     ]
    },
    {
     "name": "stdout",
     "output_type": "stream",
     "text": [
      "\n"
     ]
    },
    {
     "name": "stderr",
     "output_type": "stream",
     "text": [
      "\n",
      "Building: found in cache, done.INFO:aiohttp.access:127.0.0.1 [15/Feb/2022:22:09:06 +0000] \"POST /v1/models/r5vt2h6t/params HTTP/1.1\" 200 386 \"-\" \"Python/3.8 aiohttp/3.8.1\"\n",
      "Sampling:   0%INFO:aiohttp.access:127.0.0.1 [15/Feb/2022:22:09:06 +0000] \"POST /v1/models/r5vt2h6t/fits HTTP/1.1\" 201 325 \"-\" \"Python/3.8 aiohttp/3.8.1\"\n",
      "INFO:aiohttp.access:127.0.0.1 [15/Feb/2022:22:09:06 +0000] \"GET /v1/models/r5vt2h6t/fits/xbgmrmwi HTTP/1.1\" 200 1563523 \"-\" \"Python/3.8 aiohttp/3.8.1\"\n",
      "\n",
      "Sampling: 100%, done.\n",
      "Messages received during sampling:\n",
      "  Rejecting initial value:\n",
      "    Log probability evaluates to log(0), i.e. negative infinity.\n",
      "    Stan can't start sampling from this initial value.\n",
      "  Gradient evaluation took 0.00011 seconds\n",
      "  1000 transitions using 10 leapfrog steps per transition would take 1.1 seconds.\n",
      "  Adjust your expectations accordingly!\n"
     ]
    },
    {
     "name": "stdout",
     "output_type": "stream",
     "text": [
      "Building..."
     ]
    },
    {
     "name": "stderr",
     "output_type": "stream",
     "text": [
      "INFO:aiohttp.access:127.0.0.1 [15/Feb/2022:22:09:07 +0000] \"POST /v1/models/r5vt2h6t/params HTTP/1.1\" 200 386 \"-\" \"Python/3.8 aiohttp/3.8.1\"\n",
      "INFO:httpstan:Found Stan model in cache (`models/r5vt2h6t`).\n",
      "INFO:aiohttp.access:127.0.0.1 [15/Feb/2022:22:09:07 +0000] \"POST /v1/models HTTP/1.1\" 201 234 \"-\" \"Python/3.8 aiohttp/3.8.1\"\n"
     ]
    },
    {
     "name": "stdout",
     "output_type": "stream",
     "text": [
      "\n"
     ]
    },
    {
     "name": "stderr",
     "output_type": "stream",
     "text": [
      "\n",
      "Building: found in cache, done.INFO:aiohttp.access:127.0.0.1 [15/Feb/2022:22:09:07 +0000] \"POST /v1/models/r5vt2h6t/params HTTP/1.1\" 200 386 \"-\" \"Python/3.8 aiohttp/3.8.1\"\n",
      "Sampling:   0%INFO:aiohttp.access:127.0.0.1 [15/Feb/2022:22:09:07 +0000] \"POST /v1/models/r5vt2h6t/fits HTTP/1.1\" 201 325 \"-\" \"Python/3.8 aiohttp/3.8.1\"\n",
      "INFO:aiohttp.access:127.0.0.1 [15/Feb/2022:22:09:07 +0000] \"GET /v1/models/r5vt2h6t/fits/6wlqg6ir HTTP/1.1\" 200 1555387 \"-\" \"Python/3.8 aiohttp/3.8.1\"\n",
      "\n",
      "Sampling: 100%, done.\n",
      "Messages received during sampling:\n",
      "  Rejecting initial value:\n",
      "    Log probability evaluates to log(0), i.e. negative infinity.\n",
      "    Stan can't start sampling from this initial value.\n",
      "  Gradient evaluation took 0.00011 seconds\n",
      "  1000 transitions using 10 leapfrog steps per transition would take 1.1 seconds.\n",
      "  Adjust your expectations accordingly!\n"
     ]
    },
    {
     "name": "stdout",
     "output_type": "stream",
     "text": [
      "Building..."
     ]
    },
    {
     "name": "stderr",
     "output_type": "stream",
     "text": [
      "INFO:aiohttp.access:127.0.0.1 [15/Feb/2022:22:09:07 +0000] \"POST /v1/models/r5vt2h6t/params HTTP/1.1\" 200 386 \"-\" \"Python/3.8 aiohttp/3.8.1\"\n",
      "INFO:httpstan:Found Stan model in cache (`models/r5vt2h6t`).\n",
      "INFO:aiohttp.access:127.0.0.1 [15/Feb/2022:22:09:07 +0000] \"POST /v1/models HTTP/1.1\" 201 234 \"-\" \"Python/3.8 aiohttp/3.8.1\"\n"
     ]
    },
    {
     "name": "stdout",
     "output_type": "stream",
     "text": [
      "\n"
     ]
    },
    {
     "name": "stderr",
     "output_type": "stream",
     "text": [
      "\n",
      "Building: found in cache, done.INFO:aiohttp.access:127.0.0.1 [15/Feb/2022:22:09:07 +0000] \"POST /v1/models/r5vt2h6t/params HTTP/1.1\" 200 386 \"-\" \"Python/3.8 aiohttp/3.8.1\"\n",
      "Sampling:   0%INFO:aiohttp.access:127.0.0.1 [15/Feb/2022:22:09:07 +0000] \"POST /v1/models/r5vt2h6t/fits HTTP/1.1\" 201 325 \"-\" \"Python/3.8 aiohttp/3.8.1\"\n",
      "INFO:aiohttp.access:127.0.0.1 [15/Feb/2022:22:09:07 +0000] \"GET /v1/models/r5vt2h6t/fits/o5t2zc7m HTTP/1.1\" 200 1568038 \"-\" \"Python/3.8 aiohttp/3.8.1\"\n",
      "\n",
      "Sampling: 100%, done.\n",
      "Messages received during sampling:\n",
      "  Rejecting initial value:\n",
      "    Log probability evaluates to log(0), i.e. negative infinity.\n",
      "    Stan can't start sampling from this initial value.\n",
      "  Gradient evaluation took 0.000119 seconds\n",
      "  1000 transitions using 10 leapfrog steps per transition would take 1.19 seconds.\n",
      "  Adjust your expectations accordingly!\n"
     ]
    },
    {
     "name": "stdout",
     "output_type": "stream",
     "text": [
      "Building..."
     ]
    },
    {
     "name": "stderr",
     "output_type": "stream",
     "text": [
      "INFO:aiohttp.access:127.0.0.1 [15/Feb/2022:22:09:07 +0000] \"POST /v1/models/r5vt2h6t/params HTTP/1.1\" 200 386 \"-\" \"Python/3.8 aiohttp/3.8.1\"\n",
      "INFO:httpstan:Found Stan model in cache (`models/r5vt2h6t`).\n",
      "INFO:aiohttp.access:127.0.0.1 [15/Feb/2022:22:09:07 +0000] \"POST /v1/models HTTP/1.1\" 201 234 \"-\" \"Python/3.8 aiohttp/3.8.1\"\n"
     ]
    },
    {
     "name": "stdout",
     "output_type": "stream",
     "text": [
      "\n"
     ]
    },
    {
     "name": "stderr",
     "output_type": "stream",
     "text": [
      "\n",
      "Building: found in cache, done.INFO:aiohttp.access:127.0.0.1 [15/Feb/2022:22:09:07 +0000] \"POST /v1/models/r5vt2h6t/params HTTP/1.1\" 200 386 \"-\" \"Python/3.8 aiohttp/3.8.1\"\n",
      "Sampling:   0%INFO:aiohttp.access:127.0.0.1 [15/Feb/2022:22:09:07 +0000] \"POST /v1/models/r5vt2h6t/fits HTTP/1.1\" 201 325 \"-\" \"Python/3.8 aiohttp/3.8.1\"\n",
      "INFO:aiohttp.access:127.0.0.1 [15/Feb/2022:22:09:07 +0000] \"GET /v1/models/r5vt2h6t/fits/rlaapwv3 HTTP/1.1\" 200 1569697 \"-\" \"Python/3.8 aiohttp/3.8.1\"\n",
      "\n",
      "Sampling: 100%, done.\n",
      "Messages received during sampling:\n",
      "  Rejecting initial value:\n",
      "    Log probability evaluates to log(0), i.e. negative infinity.\n",
      "    Stan can't start sampling from this initial value.\n",
      "  Gradient evaluation took 0.000111 seconds\n",
      "  1000 transitions using 10 leapfrog steps per transition would take 1.11 seconds.\n",
      "  Adjust your expectations accordingly!\n"
     ]
    },
    {
     "name": "stdout",
     "output_type": "stream",
     "text": [
      "Building..."
     ]
    },
    {
     "name": "stderr",
     "output_type": "stream",
     "text": [
      "INFO:aiohttp.access:127.0.0.1 [15/Feb/2022:22:09:07 +0000] \"POST /v1/models/r5vt2h6t/params HTTP/1.1\" 200 386 \"-\" \"Python/3.8 aiohttp/3.8.1\"\n",
      "INFO:httpstan:Found Stan model in cache (`models/r5vt2h6t`).\n",
      "INFO:aiohttp.access:127.0.0.1 [15/Feb/2022:22:09:07 +0000] \"POST /v1/models HTTP/1.1\" 201 234 \"-\" \"Python/3.8 aiohttp/3.8.1\"\n"
     ]
    },
    {
     "name": "stdout",
     "output_type": "stream",
     "text": [
      "\n"
     ]
    },
    {
     "name": "stderr",
     "output_type": "stream",
     "text": [
      "\n",
      "Building: found in cache, done.INFO:aiohttp.access:127.0.0.1 [15/Feb/2022:22:09:07 +0000] \"POST /v1/models/r5vt2h6t/params HTTP/1.1\" 200 386 \"-\" \"Python/3.8 aiohttp/3.8.1\"\n",
      "Sampling:   0%INFO:aiohttp.access:127.0.0.1 [15/Feb/2022:22:09:07 +0000] \"POST /v1/models/r5vt2h6t/fits HTTP/1.1\" 201 325 \"-\" \"Python/3.8 aiohttp/3.8.1\"\n",
      "INFO:aiohttp.access:127.0.0.1 [15/Feb/2022:22:09:07 +0000] \"GET /v1/models/r5vt2h6t/fits/w2kw337d HTTP/1.1\" 200 1569006 \"-\" \"Python/3.8 aiohttp/3.8.1\"\n",
      "\n",
      "Sampling: 100%, done.\n",
      "Messages received during sampling:\n",
      "  Rejecting initial value:\n",
      "    Log probability evaluates to log(0), i.e. negative infinity.\n",
      "    Stan can't start sampling from this initial value.\n",
      "  Gradient evaluation took 0.000117 seconds\n",
      "  1000 transitions using 10 leapfrog steps per transition would take 1.17 seconds.\n",
      "  Adjust your expectations accordingly!\n"
     ]
    },
    {
     "name": "stdout",
     "output_type": "stream",
     "text": [
      "Building..."
     ]
    },
    {
     "name": "stderr",
     "output_type": "stream",
     "text": [
      "INFO:aiohttp.access:127.0.0.1 [15/Feb/2022:22:09:07 +0000] \"POST /v1/models/r5vt2h6t/params HTTP/1.1\" 200 386 \"-\" \"Python/3.8 aiohttp/3.8.1\"\n",
      "INFO:httpstan:Found Stan model in cache (`models/r5vt2h6t`).\n",
      "INFO:aiohttp.access:127.0.0.1 [15/Feb/2022:22:09:07 +0000] \"POST /v1/models HTTP/1.1\" 201 234 \"-\" \"Python/3.8 aiohttp/3.8.1\"\n"
     ]
    },
    {
     "name": "stdout",
     "output_type": "stream",
     "text": [
      "\n"
     ]
    },
    {
     "name": "stderr",
     "output_type": "stream",
     "text": [
      "\n",
      "Building: found in cache, done.INFO:aiohttp.access:127.0.0.1 [15/Feb/2022:22:09:07 +0000] \"POST /v1/models/r5vt2h6t/params HTTP/1.1\" 200 386 \"-\" \"Python/3.8 aiohttp/3.8.1\"\n",
      "Sampling:   0%INFO:aiohttp.access:127.0.0.1 [15/Feb/2022:22:09:07 +0000] \"POST /v1/models/r5vt2h6t/fits HTTP/1.1\" 201 325 \"-\" \"Python/3.8 aiohttp/3.8.1\"\n",
      "INFO:aiohttp.access:127.0.0.1 [15/Feb/2022:22:09:07 +0000] \"GET /v1/models/r5vt2h6t/fits/xxqdy7n2 HTTP/1.1\" 200 1568046 \"-\" \"Python/3.8 aiohttp/3.8.1\"\n",
      "\n",
      "Sampling: 100%, done.\n",
      "Messages received during sampling:\n",
      "  Rejecting initial value:\n",
      "    Log probability evaluates to log(0), i.e. negative infinity.\n",
      "    Stan can't start sampling from this initial value.\n",
      "  Gradient evaluation took 0.000111 seconds\n",
      "  1000 transitions using 10 leapfrog steps per transition would take 1.11 seconds.\n",
      "  Adjust your expectations accordingly!\n"
     ]
    },
    {
     "name": "stdout",
     "output_type": "stream",
     "text": [
      "Building..."
     ]
    },
    {
     "name": "stderr",
     "output_type": "stream",
     "text": [
      "INFO:aiohttp.access:127.0.0.1 [15/Feb/2022:22:09:07 +0000] \"POST /v1/models/r5vt2h6t/params HTTP/1.1\" 200 386 \"-\" \"Python/3.8 aiohttp/3.8.1\"\n",
      "INFO:httpstan:Found Stan model in cache (`models/r5vt2h6t`).\n",
      "INFO:aiohttp.access:127.0.0.1 [15/Feb/2022:22:09:07 +0000] \"POST /v1/models HTTP/1.1\" 201 234 \"-\" \"Python/3.8 aiohttp/3.8.1\"\n"
     ]
    },
    {
     "name": "stdout",
     "output_type": "stream",
     "text": [
      "\n"
     ]
    },
    {
     "name": "stderr",
     "output_type": "stream",
     "text": [
      "\n",
      "Building: found in cache, done.INFO:aiohttp.access:127.0.0.1 [15/Feb/2022:22:09:07 +0000] \"POST /v1/models/r5vt2h6t/params HTTP/1.1\" 200 386 \"-\" \"Python/3.8 aiohttp/3.8.1\"\n",
      "Sampling:   0%INFO:aiohttp.access:127.0.0.1 [15/Feb/2022:22:09:07 +0000] \"POST /v1/models/r5vt2h6t/fits HTTP/1.1\" 201 325 \"-\" \"Python/3.8 aiohttp/3.8.1\"\n",
      "INFO:aiohttp.access:127.0.0.1 [15/Feb/2022:22:09:07 +0000] \"GET /v1/models/r5vt2h6t/fits/wwcdqmwn HTTP/1.1\" 200 1569638 \"-\" \"Python/3.8 aiohttp/3.8.1\"\n",
      "\n",
      "Sampling: 100%, done.\n",
      "Messages received during sampling:\n",
      "  Rejecting initial value:\n",
      "    Log probability evaluates to log(0), i.e. negative infinity.\n",
      "    Stan can't start sampling from this initial value.\n",
      "  Gradient evaluation took 0.00011 seconds\n",
      "  1000 transitions using 10 leapfrog steps per transition would take 1.1 seconds.\n",
      "  Adjust your expectations accordingly!\n"
     ]
    },
    {
     "name": "stdout",
     "output_type": "stream",
     "text": [
      "Building..."
     ]
    },
    {
     "name": "stderr",
     "output_type": "stream",
     "text": [
      "INFO:aiohttp.access:127.0.0.1 [15/Feb/2022:22:09:08 +0000] \"POST /v1/models/r5vt2h6t/params HTTP/1.1\" 200 386 \"-\" \"Python/3.8 aiohttp/3.8.1\"\n",
      "INFO:httpstan:Found Stan model in cache (`models/r5vt2h6t`).\n",
      "INFO:aiohttp.access:127.0.0.1 [15/Feb/2022:22:09:08 +0000] \"POST /v1/models HTTP/1.1\" 201 234 \"-\" \"Python/3.8 aiohttp/3.8.1\"\n"
     ]
    },
    {
     "name": "stdout",
     "output_type": "stream",
     "text": [
      "\n"
     ]
    },
    {
     "name": "stderr",
     "output_type": "stream",
     "text": [
      "\n",
      "Building: found in cache, done.INFO:aiohttp.access:127.0.0.1 [15/Feb/2022:22:09:08 +0000] \"POST /v1/models/r5vt2h6t/params HTTP/1.1\" 200 386 \"-\" \"Python/3.8 aiohttp/3.8.1\"\n",
      "Sampling:   0%INFO:aiohttp.access:127.0.0.1 [15/Feb/2022:22:09:08 +0000] \"POST /v1/models/r5vt2h6t/fits HTTP/1.1\" 201 325 \"-\" \"Python/3.8 aiohttp/3.8.1\"\n",
      "INFO:aiohttp.access:127.0.0.1 [15/Feb/2022:22:09:08 +0000] \"GET /v1/models/r5vt2h6t/fits/7kcpdd5v HTTP/1.1\" 200 1567506 \"-\" \"Python/3.8 aiohttp/3.8.1\"\n",
      "\n",
      "Sampling: 100%, done.\n",
      "Messages received during sampling:\n",
      "  Rejecting initial value:\n",
      "    Log probability evaluates to log(0), i.e. negative infinity.\n",
      "    Stan can't start sampling from this initial value.\n",
      "  Gradient evaluation took 0.000159 seconds\n",
      "  1000 transitions using 10 leapfrog steps per transition would take 1.59 seconds.\n",
      "  Adjust your expectations accordingly!\n"
     ]
    },
    {
     "name": "stdout",
     "output_type": "stream",
     "text": [
      "Building..."
     ]
    },
    {
     "name": "stderr",
     "output_type": "stream",
     "text": [
      "INFO:aiohttp.access:127.0.0.1 [15/Feb/2022:22:09:08 +0000] \"POST /v1/models/r5vt2h6t/params HTTP/1.1\" 200 386 \"-\" \"Python/3.8 aiohttp/3.8.1\"\n",
      "INFO:httpstan:Found Stan model in cache (`models/r5vt2h6t`).\n",
      "INFO:aiohttp.access:127.0.0.1 [15/Feb/2022:22:09:08 +0000] \"POST /v1/models HTTP/1.1\" 201 234 \"-\" \"Python/3.8 aiohttp/3.8.1\"\n"
     ]
    },
    {
     "name": "stdout",
     "output_type": "stream",
     "text": [
      "\n"
     ]
    },
    {
     "name": "stderr",
     "output_type": "stream",
     "text": [
      "\n",
      "Building: found in cache, done.INFO:aiohttp.access:127.0.0.1 [15/Feb/2022:22:09:08 +0000] \"POST /v1/models/r5vt2h6t/params HTTP/1.1\" 200 386 \"-\" \"Python/3.8 aiohttp/3.8.1\"\n",
      "Sampling:   0%INFO:aiohttp.access:127.0.0.1 [15/Feb/2022:22:09:08 +0000] \"POST /v1/models/r5vt2h6t/fits HTTP/1.1\" 201 325 \"-\" \"Python/3.8 aiohttp/3.8.1\"\n",
      "INFO:aiohttp.access:127.0.0.1 [15/Feb/2022:22:09:08 +0000] \"GET /v1/models/r5vt2h6t/fits/gcjgvl3t HTTP/1.1\" 200 1568358 \"-\" \"Python/3.8 aiohttp/3.8.1\"\n",
      "\n",
      "Sampling: 100%, done.\n",
      "Messages received during sampling:\n",
      "  Rejecting initial value:\n",
      "    Log probability evaluates to log(0), i.e. negative infinity.\n",
      "    Stan can't start sampling from this initial value.\n",
      "  Gradient evaluation took 0.00011 seconds\n",
      "  1000 transitions using 10 leapfrog steps per transition would take 1.1 seconds.\n",
      "  Adjust your expectations accordingly!\n"
     ]
    },
    {
     "name": "stdout",
     "output_type": "stream",
     "text": [
      "Building..."
     ]
    },
    {
     "name": "stderr",
     "output_type": "stream",
     "text": [
      "INFO:aiohttp.access:127.0.0.1 [15/Feb/2022:22:09:08 +0000] \"POST /v1/models/r5vt2h6t/params HTTP/1.1\" 200 386 \"-\" \"Python/3.8 aiohttp/3.8.1\"\n",
      "INFO:httpstan:Found Stan model in cache (`models/r5vt2h6t`).\n",
      "INFO:aiohttp.access:127.0.0.1 [15/Feb/2022:22:09:08 +0000] \"POST /v1/models HTTP/1.1\" 201 234 \"-\" \"Python/3.8 aiohttp/3.8.1\"\n"
     ]
    },
    {
     "name": "stdout",
     "output_type": "stream",
     "text": [
      "\n"
     ]
    },
    {
     "name": "stderr",
     "output_type": "stream",
     "text": [
      "\n",
      "Building: found in cache, done.INFO:aiohttp.access:127.0.0.1 [15/Feb/2022:22:09:08 +0000] \"POST /v1/models/r5vt2h6t/params HTTP/1.1\" 200 386 \"-\" \"Python/3.8 aiohttp/3.8.1\"\n",
      "Sampling:   0%INFO:aiohttp.access:127.0.0.1 [15/Feb/2022:22:09:08 +0000] \"POST /v1/models/r5vt2h6t/fits HTTP/1.1\" 201 325 \"-\" \"Python/3.8 aiohttp/3.8.1\"\n",
      "INFO:aiohttp.access:127.0.0.1 [15/Feb/2022:22:09:08 +0000] \"GET /v1/models/r5vt2h6t/fits/aipkzoxq HTTP/1.1\" 200 1567822 \"-\" \"Python/3.8 aiohttp/3.8.1\"\n",
      "\n",
      "Sampling: 100%, done.\n",
      "Messages received during sampling:\n",
      "  Rejecting initial value:\n",
      "    Log probability evaluates to log(0), i.e. negative infinity.\n",
      "    Stan can't start sampling from this initial value.\n",
      "  Gradient evaluation took 0.000116 seconds\n",
      "  1000 transitions using 10 leapfrog steps per transition would take 1.16 seconds.\n",
      "  Adjust your expectations accordingly!\n"
     ]
    },
    {
     "name": "stdout",
     "output_type": "stream",
     "text": [
      "Building..."
     ]
    },
    {
     "name": "stderr",
     "output_type": "stream",
     "text": [
      "INFO:aiohttp.access:127.0.0.1 [15/Feb/2022:22:09:08 +0000] \"POST /v1/models/r5vt2h6t/params HTTP/1.1\" 200 386 \"-\" \"Python/3.8 aiohttp/3.8.1\"\n",
      "INFO:httpstan:Found Stan model in cache (`models/r5vt2h6t`).\n",
      "INFO:aiohttp.access:127.0.0.1 [15/Feb/2022:22:09:08 +0000] \"POST /v1/models HTTP/1.1\" 201 234 \"-\" \"Python/3.8 aiohttp/3.8.1\"\n"
     ]
    },
    {
     "name": "stdout",
     "output_type": "stream",
     "text": [
      "\n"
     ]
    },
    {
     "name": "stderr",
     "output_type": "stream",
     "text": [
      "\n",
      "Building: found in cache, done.INFO:aiohttp.access:127.0.0.1 [15/Feb/2022:22:09:08 +0000] \"POST /v1/models/r5vt2h6t/params HTTP/1.1\" 200 386 \"-\" \"Python/3.8 aiohttp/3.8.1\"\n",
      "Sampling:   0%INFO:aiohttp.access:127.0.0.1 [15/Feb/2022:22:09:08 +0000] \"POST /v1/models/r5vt2h6t/fits HTTP/1.1\" 201 325 \"-\" \"Python/3.8 aiohttp/3.8.1\"\n",
      "INFO:aiohttp.access:127.0.0.1 [15/Feb/2022:22:09:08 +0000] \"GET /v1/models/r5vt2h6t/fits/pizdzj3p HTTP/1.1\" 200 1568644 \"-\" \"Python/3.8 aiohttp/3.8.1\"\n",
      "\n",
      "Sampling: 100%, done.\n",
      "Messages received during sampling:\n",
      "  Rejecting initial value:\n",
      "    Log probability evaluates to log(0), i.e. negative infinity.\n",
      "    Stan can't start sampling from this initial value.\n",
      "  Gradient evaluation took 0.000123 seconds\n",
      "  1000 transitions using 10 leapfrog steps per transition would take 1.23 seconds.\n",
      "  Adjust your expectations accordingly!\n"
     ]
    },
    {
     "name": "stdout",
     "output_type": "stream",
     "text": [
      "Building..."
     ]
    },
    {
     "name": "stderr",
     "output_type": "stream",
     "text": [
      "INFO:aiohttp.access:127.0.0.1 [15/Feb/2022:22:09:08 +0000] \"POST /v1/models/r5vt2h6t/params HTTP/1.1\" 200 386 \"-\" \"Python/3.8 aiohttp/3.8.1\"\n",
      "INFO:httpstan:Found Stan model in cache (`models/r5vt2h6t`).\n",
      "INFO:aiohttp.access:127.0.0.1 [15/Feb/2022:22:09:08 +0000] \"POST /v1/models HTTP/1.1\" 201 234 \"-\" \"Python/3.8 aiohttp/3.8.1\"\n"
     ]
    },
    {
     "name": "stdout",
     "output_type": "stream",
     "text": [
      "\n"
     ]
    },
    {
     "name": "stderr",
     "output_type": "stream",
     "text": [
      "\n",
      "Building: found in cache, done.INFO:aiohttp.access:127.0.0.1 [15/Feb/2022:22:09:08 +0000] \"POST /v1/models/r5vt2h6t/params HTTP/1.1\" 200 386 \"-\" \"Python/3.8 aiohttp/3.8.1\"\n",
      "Sampling:   0%INFO:aiohttp.access:127.0.0.1 [15/Feb/2022:22:09:08 +0000] \"POST /v1/models/r5vt2h6t/fits HTTP/1.1\" 201 325 \"-\" \"Python/3.8 aiohttp/3.8.1\"\n",
      "INFO:aiohttp.access:127.0.0.1 [15/Feb/2022:22:09:08 +0000] \"GET /v1/models/r5vt2h6t/fits/j7s3cuxi HTTP/1.1\" 200 1569348 \"-\" \"Python/3.8 aiohttp/3.8.1\"\n",
      "\n",
      "Sampling: 100%, done.\n",
      "Messages received during sampling:\n",
      "  Rejecting initial value:\n",
      "    Log probability evaluates to log(0), i.e. negative infinity.\n",
      "    Stan can't start sampling from this initial value.\n",
      "  Gradient evaluation took 0.000136 seconds\n",
      "  1000 transitions using 10 leapfrog steps per transition would take 1.36 seconds.\n",
      "  Adjust your expectations accordingly!\n"
     ]
    },
    {
     "name": "stdout",
     "output_type": "stream",
     "text": [
      "Building..."
     ]
    },
    {
     "name": "stderr",
     "output_type": "stream",
     "text": [
      "INFO:aiohttp.access:127.0.0.1 [15/Feb/2022:22:09:08 +0000] \"POST /v1/models/r5vt2h6t/params HTTP/1.1\" 200 386 \"-\" \"Python/3.8 aiohttp/3.8.1\"\n",
      "INFO:httpstan:Found Stan model in cache (`models/r5vt2h6t`).\n",
      "INFO:aiohttp.access:127.0.0.1 [15/Feb/2022:22:09:08 +0000] \"POST /v1/models HTTP/1.1\" 201 234 \"-\" \"Python/3.8 aiohttp/3.8.1\"\n"
     ]
    },
    {
     "name": "stdout",
     "output_type": "stream",
     "text": [
      "\n"
     ]
    },
    {
     "name": "stderr",
     "output_type": "stream",
     "text": [
      "\n",
      "Building: found in cache, done.INFO:aiohttp.access:127.0.0.1 [15/Feb/2022:22:09:08 +0000] \"POST /v1/models/r5vt2h6t/params HTTP/1.1\" 200 386 \"-\" \"Python/3.8 aiohttp/3.8.1\"\n",
      "Sampling:   0%INFO:aiohttp.access:127.0.0.1 [15/Feb/2022:22:09:08 +0000] \"POST /v1/models/r5vt2h6t/fits HTTP/1.1\" 201 325 \"-\" \"Python/3.8 aiohttp/3.8.1\"\n",
      "INFO:aiohttp.access:127.0.0.1 [15/Feb/2022:22:09:08 +0000] \"GET /v1/models/r5vt2h6t/fits/be5piequ HTTP/1.1\" 200 1567643 \"-\" \"Python/3.8 aiohttp/3.8.1\"\n",
      "\n",
      "Sampling: 100%, done.\n",
      "Messages received during sampling:\n",
      "  Rejecting initial value:\n",
      "    Log probability evaluates to log(0), i.e. negative infinity.\n",
      "    Stan can't start sampling from this initial value.\n",
      "  Gradient evaluation took 0.000114 seconds\n",
      "  1000 transitions using 10 leapfrog steps per transition would take 1.14 seconds.\n",
      "  Adjust your expectations accordingly!\n"
     ]
    },
    {
     "name": "stdout",
     "output_type": "stream",
     "text": [
      "Building..."
     ]
    },
    {
     "name": "stderr",
     "output_type": "stream",
     "text": [
      "INFO:aiohttp.access:127.0.0.1 [15/Feb/2022:22:09:08 +0000] \"POST /v1/models/r5vt2h6t/params HTTP/1.1\" 200 386 \"-\" \"Python/3.8 aiohttp/3.8.1\"\n",
      "INFO:httpstan:Found Stan model in cache (`models/r5vt2h6t`).\n",
      "INFO:aiohttp.access:127.0.0.1 [15/Feb/2022:22:09:08 +0000] \"POST /v1/models HTTP/1.1\" 201 234 \"-\" \"Python/3.8 aiohttp/3.8.1\"\n"
     ]
    },
    {
     "name": "stdout",
     "output_type": "stream",
     "text": [
      "\n"
     ]
    },
    {
     "name": "stderr",
     "output_type": "stream",
     "text": [
      "\n",
      "Building: found in cache, done.INFO:aiohttp.access:127.0.0.1 [15/Feb/2022:22:09:08 +0000] \"POST /v1/models/r5vt2h6t/params HTTP/1.1\" 200 386 \"-\" \"Python/3.8 aiohttp/3.8.1\"\n",
      "Sampling:   0%INFO:aiohttp.access:127.0.0.1 [15/Feb/2022:22:09:08 +0000] \"POST /v1/models/r5vt2h6t/fits HTTP/1.1\" 201 325 \"-\" \"Python/3.8 aiohttp/3.8.1\"\n",
      "INFO:aiohttp.access:127.0.0.1 [15/Feb/2022:22:09:08 +0000] \"GET /v1/models/r5vt2h6t/fits/uwha4tj4 HTTP/1.1\" 200 1565410 \"-\" \"Python/3.8 aiohttp/3.8.1\"\n",
      "\n",
      "Sampling: 100%, done.\n",
      "Messages received during sampling:\n",
      "  Rejecting initial value:\n",
      "    Log probability evaluates to log(0), i.e. negative infinity.\n",
      "    Stan can't start sampling from this initial value.\n",
      "  Gradient evaluation took 0.000113 seconds\n",
      "  1000 transitions using 10 leapfrog steps per transition would take 1.13 seconds.\n",
      "  Adjust your expectations accordingly!\n"
     ]
    },
    {
     "name": "stdout",
     "output_type": "stream",
     "text": [
      "Building..."
     ]
    },
    {
     "name": "stderr",
     "output_type": "stream",
     "text": [
      "INFO:aiohttp.access:127.0.0.1 [15/Feb/2022:22:09:09 +0000] \"POST /v1/models/r5vt2h6t/params HTTP/1.1\" 200 386 \"-\" \"Python/3.8 aiohttp/3.8.1\"\n",
      "INFO:httpstan:Found Stan model in cache (`models/r5vt2h6t`).\n",
      "INFO:aiohttp.access:127.0.0.1 [15/Feb/2022:22:09:09 +0000] \"POST /v1/models HTTP/1.1\" 201 234 \"-\" \"Python/3.8 aiohttp/3.8.1\"\n"
     ]
    },
    {
     "name": "stdout",
     "output_type": "stream",
     "text": [
      "\n"
     ]
    },
    {
     "name": "stderr",
     "output_type": "stream",
     "text": [
      "\n",
      "Building: found in cache, done.INFO:aiohttp.access:127.0.0.1 [15/Feb/2022:22:09:09 +0000] \"POST /v1/models/r5vt2h6t/params HTTP/1.1\" 200 386 \"-\" \"Python/3.8 aiohttp/3.8.1\"\n",
      "Sampling:   0%INFO:aiohttp.access:127.0.0.1 [15/Feb/2022:22:09:09 +0000] \"POST /v1/models/r5vt2h6t/fits HTTP/1.1\" 201 325 \"-\" \"Python/3.8 aiohttp/3.8.1\"\n",
      "INFO:aiohttp.access:127.0.0.1 [15/Feb/2022:22:09:09 +0000] \"GET /v1/models/r5vt2h6t/fits/l66m44m3 HTTP/1.1\" 200 1569397 \"-\" \"Python/3.8 aiohttp/3.8.1\"\n",
      "\n",
      "Sampling: 100%, done.\n",
      "Messages received during sampling:\n",
      "  Rejecting initial value:\n",
      "    Log probability evaluates to log(0), i.e. negative infinity.\n",
      "    Stan can't start sampling from this initial value.\n",
      "  Gradient evaluation took 0.000133 seconds\n",
      "  1000 transitions using 10 leapfrog steps per transition would take 1.33 seconds.\n",
      "  Adjust your expectations accordingly!\n"
     ]
    },
    {
     "name": "stdout",
     "output_type": "stream",
     "text": [
      "Building..."
     ]
    },
    {
     "name": "stderr",
     "output_type": "stream",
     "text": [
      "INFO:aiohttp.access:127.0.0.1 [15/Feb/2022:22:09:09 +0000] \"POST /v1/models/r5vt2h6t/params HTTP/1.1\" 200 386 \"-\" \"Python/3.8 aiohttp/3.8.1\"\n",
      "INFO:httpstan:Found Stan model in cache (`models/r5vt2h6t`).\n",
      "INFO:aiohttp.access:127.0.0.1 [15/Feb/2022:22:09:09 +0000] \"POST /v1/models HTTP/1.1\" 201 234 \"-\" \"Python/3.8 aiohttp/3.8.1\"\n"
     ]
    },
    {
     "name": "stdout",
     "output_type": "stream",
     "text": [
      "\n"
     ]
    },
    {
     "name": "stderr",
     "output_type": "stream",
     "text": [
      "\n",
      "Building: found in cache, done.INFO:aiohttp.access:127.0.0.1 [15/Feb/2022:22:09:09 +0000] \"POST /v1/models/r5vt2h6t/params HTTP/1.1\" 200 386 \"-\" \"Python/3.8 aiohttp/3.8.1\"\n",
      "Sampling:   0%INFO:aiohttp.access:127.0.0.1 [15/Feb/2022:22:09:09 +0000] \"POST /v1/models/r5vt2h6t/fits HTTP/1.1\" 201 325 \"-\" \"Python/3.8 aiohttp/3.8.1\"\n",
      "INFO:aiohttp.access:127.0.0.1 [15/Feb/2022:22:09:09 +0000] \"GET /v1/models/r5vt2h6t/fits/oszqut32 HTTP/1.1\" 200 1563674 \"-\" \"Python/3.8 aiohttp/3.8.1\"\n",
      "\n",
      "Sampling: 100%, done.\n",
      "Messages received during sampling:\n",
      "  Rejecting initial value:\n",
      "    Log probability evaluates to log(0), i.e. negative infinity.\n",
      "    Stan can't start sampling from this initial value.\n",
      "  Gradient evaluation took 0.000145 seconds\n",
      "  1000 transitions using 10 leapfrog steps per transition would take 1.45 seconds.\n",
      "  Adjust your expectations accordingly!\n"
     ]
    },
    {
     "name": "stdout",
     "output_type": "stream",
     "text": [
      "Building..."
     ]
    },
    {
     "name": "stderr",
     "output_type": "stream",
     "text": [
      "INFO:aiohttp.access:127.0.0.1 [15/Feb/2022:22:09:09 +0000] \"POST /v1/models/r5vt2h6t/params HTTP/1.1\" 200 386 \"-\" \"Python/3.8 aiohttp/3.8.1\"\n",
      "INFO:httpstan:Found Stan model in cache (`models/r5vt2h6t`).\n",
      "INFO:aiohttp.access:127.0.0.1 [15/Feb/2022:22:09:09 +0000] \"POST /v1/models HTTP/1.1\" 201 234 \"-\" \"Python/3.8 aiohttp/3.8.1\"\n"
     ]
    },
    {
     "name": "stdout",
     "output_type": "stream",
     "text": [
      "\n"
     ]
    },
    {
     "name": "stderr",
     "output_type": "stream",
     "text": [
      "\n",
      "Building: found in cache, done.INFO:aiohttp.access:127.0.0.1 [15/Feb/2022:22:09:09 +0000] \"POST /v1/models/r5vt2h6t/params HTTP/1.1\" 200 386 \"-\" \"Python/3.8 aiohttp/3.8.1\"\n",
      "Sampling:   0%INFO:aiohttp.access:127.0.0.1 [15/Feb/2022:22:09:09 +0000] \"POST /v1/models/r5vt2h6t/fits HTTP/1.1\" 201 325 \"-\" \"Python/3.8 aiohttp/3.8.1\"\n",
      "INFO:aiohttp.access:127.0.0.1 [15/Feb/2022:22:09:09 +0000] \"GET /v1/models/r5vt2h6t/fits/icg45ubi HTTP/1.1\" 200 1567463 \"-\" \"Python/3.8 aiohttp/3.8.1\"\n",
      "\n",
      "Sampling: 100%, done.\n",
      "Messages received during sampling:\n",
      "  Rejecting initial value:\n",
      "    Log probability evaluates to log(0), i.e. negative infinity.\n",
      "    Stan can't start sampling from this initial value.\n",
      "  Gradient evaluation took 0.000125 seconds\n",
      "  1000 transitions using 10 leapfrog steps per transition would take 1.25 seconds.\n",
      "  Adjust your expectations accordingly!\n"
     ]
    },
    {
     "name": "stdout",
     "output_type": "stream",
     "text": [
      "Building..."
     ]
    },
    {
     "name": "stderr",
     "output_type": "stream",
     "text": [
      "INFO:aiohttp.access:127.0.0.1 [15/Feb/2022:22:09:09 +0000] \"POST /v1/models/r5vt2h6t/params HTTP/1.1\" 200 386 \"-\" \"Python/3.8 aiohttp/3.8.1\"\n",
      "INFO:httpstan:Found Stan model in cache (`models/r5vt2h6t`).\n",
      "INFO:aiohttp.access:127.0.0.1 [15/Feb/2022:22:09:09 +0000] \"POST /v1/models HTTP/1.1\" 201 234 \"-\" \"Python/3.8 aiohttp/3.8.1\"\n"
     ]
    },
    {
     "name": "stdout",
     "output_type": "stream",
     "text": [
      "\n"
     ]
    },
    {
     "name": "stderr",
     "output_type": "stream",
     "text": [
      "\n",
      "Building: found in cache, done.INFO:aiohttp.access:127.0.0.1 [15/Feb/2022:22:09:09 +0000] \"POST /v1/models/r5vt2h6t/params HTTP/1.1\" 200 386 \"-\" \"Python/3.8 aiohttp/3.8.1\"\n",
      "Sampling:   0%INFO:aiohttp.access:127.0.0.1 [15/Feb/2022:22:09:09 +0000] \"POST /v1/models/r5vt2h6t/fits HTTP/1.1\" 201 325 \"-\" \"Python/3.8 aiohttp/3.8.1\"\n",
      "INFO:aiohttp.access:127.0.0.1 [15/Feb/2022:22:09:09 +0000] \"GET /v1/models/r5vt2h6t/fits/asio5xcb HTTP/1.1\" 200 1569183 \"-\" \"Python/3.8 aiohttp/3.8.1\"\n",
      "\n",
      "Sampling: 100%, done.\n",
      "Messages received during sampling:\n",
      "  Rejecting initial value:\n",
      "    Log probability evaluates to log(0), i.e. negative infinity.\n",
      "    Stan can't start sampling from this initial value.\n",
      "  Gradient evaluation took 0.000113 seconds\n",
      "  1000 transitions using 10 leapfrog steps per transition would take 1.13 seconds.\n",
      "  Adjust your expectations accordingly!\n"
     ]
    },
    {
     "name": "stdout",
     "output_type": "stream",
     "text": [
      "Building..."
     ]
    },
    {
     "name": "stderr",
     "output_type": "stream",
     "text": [
      "INFO:aiohttp.access:127.0.0.1 [15/Feb/2022:22:09:09 +0000] \"POST /v1/models/r5vt2h6t/params HTTP/1.1\" 200 386 \"-\" \"Python/3.8 aiohttp/3.8.1\"\n",
      "INFO:httpstan:Found Stan model in cache (`models/r5vt2h6t`).\n",
      "INFO:aiohttp.access:127.0.0.1 [15/Feb/2022:22:09:09 +0000] \"POST /v1/models HTTP/1.1\" 201 234 \"-\" \"Python/3.8 aiohttp/3.8.1\"\n"
     ]
    },
    {
     "name": "stdout",
     "output_type": "stream",
     "text": [
      "\n"
     ]
    },
    {
     "name": "stderr",
     "output_type": "stream",
     "text": [
      "\n",
      "Building: found in cache, done.INFO:aiohttp.access:127.0.0.1 [15/Feb/2022:22:09:09 +0000] \"POST /v1/models/r5vt2h6t/params HTTP/1.1\" 200 386 \"-\" \"Python/3.8 aiohttp/3.8.1\"\n",
      "Sampling:   0%INFO:aiohttp.access:127.0.0.1 [15/Feb/2022:22:09:09 +0000] \"POST /v1/models/r5vt2h6t/fits HTTP/1.1\" 201 325 \"-\" \"Python/3.8 aiohttp/3.8.1\"\n",
      "INFO:aiohttp.access:127.0.0.1 [15/Feb/2022:22:09:09 +0000] \"GET /v1/models/r5vt2h6t/fits/yjuz3dj7 HTTP/1.1\" 200 1568475 \"-\" \"Python/3.8 aiohttp/3.8.1\"\n",
      "\n",
      "Sampling: 100%, done.\n",
      "Messages received during sampling:\n",
      "  Rejecting initial value:\n",
      "    Log probability evaluates to log(0), i.e. negative infinity.\n",
      "    Stan can't start sampling from this initial value.\n",
      "  Gradient evaluation took 0.000112 seconds\n",
      "  1000 transitions using 10 leapfrog steps per transition would take 1.12 seconds.\n",
      "  Adjust your expectations accordingly!\n"
     ]
    },
    {
     "name": "stdout",
     "output_type": "stream",
     "text": [
      "Building..."
     ]
    },
    {
     "name": "stderr",
     "output_type": "stream",
     "text": [
      "INFO:aiohttp.access:127.0.0.1 [15/Feb/2022:22:09:09 +0000] \"POST /v1/models/r5vt2h6t/params HTTP/1.1\" 200 386 \"-\" \"Python/3.8 aiohttp/3.8.1\"\n",
      "INFO:httpstan:Found Stan model in cache (`models/r5vt2h6t`).\n",
      "INFO:aiohttp.access:127.0.0.1 [15/Feb/2022:22:09:09 +0000] \"POST /v1/models HTTP/1.1\" 201 234 \"-\" \"Python/3.8 aiohttp/3.8.1\"\n"
     ]
    },
    {
     "name": "stdout",
     "output_type": "stream",
     "text": [
      "\n"
     ]
    },
    {
     "name": "stderr",
     "output_type": "stream",
     "text": [
      "\n",
      "Building: found in cache, done.INFO:aiohttp.access:127.0.0.1 [15/Feb/2022:22:09:09 +0000] \"POST /v1/models/r5vt2h6t/params HTTP/1.1\" 200 386 \"-\" \"Python/3.8 aiohttp/3.8.1\"\n",
      "Sampling:   0%INFO:aiohttp.access:127.0.0.1 [15/Feb/2022:22:09:09 +0000] \"POST /v1/models/r5vt2h6t/fits HTTP/1.1\" 201 325 \"-\" \"Python/3.8 aiohttp/3.8.1\"\n",
      "INFO:aiohttp.access:127.0.0.1 [15/Feb/2022:22:09:09 +0000] \"GET /v1/models/r5vt2h6t/fits/ym7nrp47 HTTP/1.1\" 200 1568778 \"-\" \"Python/3.8 aiohttp/3.8.1\"\n",
      "\n",
      "Sampling: 100%, done.\n",
      "Messages received during sampling:\n",
      "  Rejecting initial value:\n",
      "    Log probability evaluates to log(0), i.e. negative infinity.\n",
      "    Stan can't start sampling from this initial value.\n",
      "  Gradient evaluation took 0.00011 seconds\n",
      "  1000 transitions using 10 leapfrog steps per transition would take 1.1 seconds.\n",
      "  Adjust your expectations accordingly!\n"
     ]
    },
    {
     "name": "stdout",
     "output_type": "stream",
     "text": [
      "Building..."
     ]
    },
    {
     "name": "stderr",
     "output_type": "stream",
     "text": [
      "INFO:aiohttp.access:127.0.0.1 [15/Feb/2022:22:09:10 +0000] \"POST /v1/models/r5vt2h6t/params HTTP/1.1\" 200 386 \"-\" \"Python/3.8 aiohttp/3.8.1\"\n",
      "INFO:httpstan:Found Stan model in cache (`models/r5vt2h6t`).\n",
      "INFO:aiohttp.access:127.0.0.1 [15/Feb/2022:22:09:10 +0000] \"POST /v1/models HTTP/1.1\" 201 234 \"-\" \"Python/3.8 aiohttp/3.8.1\"\n"
     ]
    },
    {
     "name": "stdout",
     "output_type": "stream",
     "text": [
      "\n"
     ]
    },
    {
     "name": "stderr",
     "output_type": "stream",
     "text": [
      "\n",
      "Building: found in cache, done.INFO:aiohttp.access:127.0.0.1 [15/Feb/2022:22:09:10 +0000] \"POST /v1/models/r5vt2h6t/params HTTP/1.1\" 200 386 \"-\" \"Python/3.8 aiohttp/3.8.1\"\n",
      "Sampling:   0%INFO:aiohttp.access:127.0.0.1 [15/Feb/2022:22:09:10 +0000] \"POST /v1/models/r5vt2h6t/fits HTTP/1.1\" 201 325 \"-\" \"Python/3.8 aiohttp/3.8.1\"\n",
      "INFO:aiohttp.access:127.0.0.1 [15/Feb/2022:22:09:10 +0000] \"GET /v1/models/r5vt2h6t/fits/fki66jbt HTTP/1.1\" 200 1567543 \"-\" \"Python/3.8 aiohttp/3.8.1\"\n",
      "\n",
      "Sampling: 100%, done.\n",
      "Messages received during sampling:\n",
      "  Rejecting initial value:\n",
      "    Log probability evaluates to log(0), i.e. negative infinity.\n",
      "    Stan can't start sampling from this initial value.\n",
      "  Gradient evaluation took 0.000111 seconds\n",
      "  1000 transitions using 10 leapfrog steps per transition would take 1.11 seconds.\n",
      "  Adjust your expectations accordingly!\n"
     ]
    },
    {
     "name": "stdout",
     "output_type": "stream",
     "text": [
      "Building..."
     ]
    },
    {
     "name": "stderr",
     "output_type": "stream",
     "text": [
      "INFO:aiohttp.access:127.0.0.1 [15/Feb/2022:22:09:10 +0000] \"POST /v1/models/r5vt2h6t/params HTTP/1.1\" 200 386 \"-\" \"Python/3.8 aiohttp/3.8.1\"\n",
      "INFO:httpstan:Found Stan model in cache (`models/r5vt2h6t`).\n",
      "INFO:aiohttp.access:127.0.0.1 [15/Feb/2022:22:09:10 +0000] \"POST /v1/models HTTP/1.1\" 201 234 \"-\" \"Python/3.8 aiohttp/3.8.1\"\n"
     ]
    },
    {
     "name": "stdout",
     "output_type": "stream",
     "text": [
      "\n"
     ]
    },
    {
     "name": "stderr",
     "output_type": "stream",
     "text": [
      "\n",
      "Building: found in cache, done.INFO:aiohttp.access:127.0.0.1 [15/Feb/2022:22:09:10 +0000] \"POST /v1/models/r5vt2h6t/params HTTP/1.1\" 200 386 \"-\" \"Python/3.8 aiohttp/3.8.1\"\n",
      "Sampling:   0%INFO:aiohttp.access:127.0.0.1 [15/Feb/2022:22:09:10 +0000] \"POST /v1/models/r5vt2h6t/fits HTTP/1.1\" 201 325 \"-\" \"Python/3.8 aiohttp/3.8.1\"\n",
      "INFO:aiohttp.access:127.0.0.1 [15/Feb/2022:22:09:10 +0000] \"GET /v1/models/r5vt2h6t/fits/zelytvdl HTTP/1.1\" 200 1569026 \"-\" \"Python/3.8 aiohttp/3.8.1\"\n",
      "\n",
      "Sampling: 100%, done.\n",
      "Messages received during sampling:\n",
      "  Rejecting initial value:\n",
      "    Log probability evaluates to log(0), i.e. negative infinity.\n",
      "    Stan can't start sampling from this initial value.\n",
      "  Gradient evaluation took 0.000112 seconds\n",
      "  1000 transitions using 10 leapfrog steps per transition would take 1.12 seconds.\n",
      "  Adjust your expectations accordingly!\n"
     ]
    },
    {
     "name": "stdout",
     "output_type": "stream",
     "text": [
      "Building..."
     ]
    },
    {
     "name": "stderr",
     "output_type": "stream",
     "text": [
      "INFO:aiohttp.access:127.0.0.1 [15/Feb/2022:22:09:10 +0000] \"POST /v1/models/r5vt2h6t/params HTTP/1.1\" 200 386 \"-\" \"Python/3.8 aiohttp/3.8.1\"\n",
      "INFO:httpstan:Found Stan model in cache (`models/r5vt2h6t`).\n",
      "INFO:aiohttp.access:127.0.0.1 [15/Feb/2022:22:09:10 +0000] \"POST /v1/models HTTP/1.1\" 201 234 \"-\" \"Python/3.8 aiohttp/3.8.1\"\n"
     ]
    },
    {
     "name": "stdout",
     "output_type": "stream",
     "text": [
      "\n"
     ]
    },
    {
     "name": "stderr",
     "output_type": "stream",
     "text": [
      "\n",
      "Building: found in cache, done.INFO:aiohttp.access:127.0.0.1 [15/Feb/2022:22:09:10 +0000] \"POST /v1/models/r5vt2h6t/params HTTP/1.1\" 200 386 \"-\" \"Python/3.8 aiohttp/3.8.1\"\n",
      "Sampling:   0%INFO:aiohttp.access:127.0.0.1 [15/Feb/2022:22:09:10 +0000] \"POST /v1/models/r5vt2h6t/fits HTTP/1.1\" 201 325 \"-\" \"Python/3.8 aiohttp/3.8.1\"\n",
      "INFO:aiohttp.access:127.0.0.1 [15/Feb/2022:22:09:10 +0000] \"GET /v1/models/r5vt2h6t/fits/tqenfxla HTTP/1.1\" 200 1568909 \"-\" \"Python/3.8 aiohttp/3.8.1\"\n",
      "\n",
      "Sampling: 100%, done.\n",
      "Messages received during sampling:\n",
      "  Rejecting initial value:\n",
      "    Log probability evaluates to log(0), i.e. negative infinity.\n",
      "    Stan can't start sampling from this initial value.\n",
      "  Gradient evaluation took 0.000115 seconds\n",
      "  1000 transitions using 10 leapfrog steps per transition would take 1.15 seconds.\n",
      "  Adjust your expectations accordingly!\n"
     ]
    },
    {
     "name": "stdout",
     "output_type": "stream",
     "text": [
      "Building..."
     ]
    },
    {
     "name": "stderr",
     "output_type": "stream",
     "text": [
      "INFO:aiohttp.access:127.0.0.1 [15/Feb/2022:22:09:10 +0000] \"POST /v1/models/r5vt2h6t/params HTTP/1.1\" 200 386 \"-\" \"Python/3.8 aiohttp/3.8.1\"\n",
      "INFO:httpstan:Found Stan model in cache (`models/r5vt2h6t`).\n",
      "INFO:aiohttp.access:127.0.0.1 [15/Feb/2022:22:09:10 +0000] \"POST /v1/models HTTP/1.1\" 201 234 \"-\" \"Python/3.8 aiohttp/3.8.1\"\n"
     ]
    },
    {
     "name": "stdout",
     "output_type": "stream",
     "text": [
      "\n"
     ]
    },
    {
     "name": "stderr",
     "output_type": "stream",
     "text": [
      "\n",
      "Building: found in cache, done.INFO:aiohttp.access:127.0.0.1 [15/Feb/2022:22:09:10 +0000] \"POST /v1/models/r5vt2h6t/params HTTP/1.1\" 200 386 \"-\" \"Python/3.8 aiohttp/3.8.1\"\n",
      "Sampling:   0%INFO:aiohttp.access:127.0.0.1 [15/Feb/2022:22:09:10 +0000] \"POST /v1/models/r5vt2h6t/fits HTTP/1.1\" 201 325 \"-\" \"Python/3.8 aiohttp/3.8.1\"\n",
      "INFO:aiohttp.access:127.0.0.1 [15/Feb/2022:22:09:10 +0000] \"GET /v1/models/r5vt2h6t/fits/iwzzn3vv HTTP/1.1\" 200 1567645 \"-\" \"Python/3.8 aiohttp/3.8.1\"\n",
      "\n",
      "Sampling: 100%, done.\n",
      "Messages received during sampling:\n",
      "  Rejecting initial value:\n",
      "    Log probability evaluates to log(0), i.e. negative infinity.\n",
      "    Stan can't start sampling from this initial value.\n",
      "  Gradient evaluation took 0.000111 seconds\n",
      "  1000 transitions using 10 leapfrog steps per transition would take 1.11 seconds.\n",
      "  Adjust your expectations accordingly!\n"
     ]
    },
    {
     "name": "stdout",
     "output_type": "stream",
     "text": [
      "Building..."
     ]
    },
    {
     "name": "stderr",
     "output_type": "stream",
     "text": [
      "INFO:aiohttp.access:127.0.0.1 [15/Feb/2022:22:09:10 +0000] \"POST /v1/models/r5vt2h6t/params HTTP/1.1\" 200 386 \"-\" \"Python/3.8 aiohttp/3.8.1\"\n",
      "INFO:httpstan:Found Stan model in cache (`models/r5vt2h6t`).\n",
      "INFO:aiohttp.access:127.0.0.1 [15/Feb/2022:22:09:10 +0000] \"POST /v1/models HTTP/1.1\" 201 234 \"-\" \"Python/3.8 aiohttp/3.8.1\"\n"
     ]
    },
    {
     "name": "stdout",
     "output_type": "stream",
     "text": [
      "\n"
     ]
    },
    {
     "name": "stderr",
     "output_type": "stream",
     "text": [
      "\n",
      "Building: found in cache, done.INFO:aiohttp.access:127.0.0.1 [15/Feb/2022:22:09:10 +0000] \"POST /v1/models/r5vt2h6t/params HTTP/1.1\" 200 386 \"-\" \"Python/3.8 aiohttp/3.8.1\"\n",
      "Sampling:   0%INFO:aiohttp.access:127.0.0.1 [15/Feb/2022:22:09:10 +0000] \"POST /v1/models/r5vt2h6t/fits HTTP/1.1\" 201 325 \"-\" \"Python/3.8 aiohttp/3.8.1\"\n",
      "INFO:aiohttp.access:127.0.0.1 [15/Feb/2022:22:09:10 +0000] \"GET /v1/models/r5vt2h6t/fits/cb76wlvr HTTP/1.1\" 200 1555197 \"-\" \"Python/3.8 aiohttp/3.8.1\"\n",
      "\n",
      "Sampling: 100%, done.\n",
      "Messages received during sampling:\n",
      "  Rejecting initial value:\n",
      "    Log probability evaluates to log(0), i.e. negative infinity.\n",
      "    Stan can't start sampling from this initial value.\n",
      "  Gradient evaluation took 0.000107 seconds\n",
      "  1000 transitions using 10 leapfrog steps per transition would take 1.07 seconds.\n",
      "  Adjust your expectations accordingly!\n"
     ]
    },
    {
     "name": "stdout",
     "output_type": "stream",
     "text": [
      "Building..."
     ]
    },
    {
     "name": "stderr",
     "output_type": "stream",
     "text": [
      "INFO:aiohttp.access:127.0.0.1 [15/Feb/2022:22:09:10 +0000] \"POST /v1/models/r5vt2h6t/params HTTP/1.1\" 200 386 \"-\" \"Python/3.8 aiohttp/3.8.1\"\n",
      "INFO:httpstan:Found Stan model in cache (`models/r5vt2h6t`).\n",
      "INFO:aiohttp.access:127.0.0.1 [15/Feb/2022:22:09:10 +0000] \"POST /v1/models HTTP/1.1\" 201 234 \"-\" \"Python/3.8 aiohttp/3.8.1\"\n"
     ]
    },
    {
     "name": "stdout",
     "output_type": "stream",
     "text": [
      "\n"
     ]
    },
    {
     "name": "stderr",
     "output_type": "stream",
     "text": [
      "\n",
      "Building: found in cache, done.INFO:aiohttp.access:127.0.0.1 [15/Feb/2022:22:09:10 +0000] \"POST /v1/models/r5vt2h6t/params HTTP/1.1\" 200 386 \"-\" \"Python/3.8 aiohttp/3.8.1\"\n",
      "Sampling:   0%INFO:aiohttp.access:127.0.0.1 [15/Feb/2022:22:09:10 +0000] \"POST /v1/models/r5vt2h6t/fits HTTP/1.1\" 201 325 \"-\" \"Python/3.8 aiohttp/3.8.1\"\n",
      "INFO:aiohttp.access:127.0.0.1 [15/Feb/2022:22:09:10 +0000] \"GET /v1/models/r5vt2h6t/fits/26ph3v5k HTTP/1.1\" 200 1569291 \"-\" \"Python/3.8 aiohttp/3.8.1\"\n",
      "\n",
      "Sampling: 100%, done.\n",
      "Messages received during sampling:\n",
      "  Rejecting initial value:\n",
      "    Log probability evaluates to log(0), i.e. negative infinity.\n",
      "    Stan can't start sampling from this initial value.\n",
      "  Gradient evaluation took 0.000112 seconds\n",
      "  1000 transitions using 10 leapfrog steps per transition would take 1.12 seconds.\n",
      "  Adjust your expectations accordingly!\n"
     ]
    },
    {
     "name": "stdout",
     "output_type": "stream",
     "text": [
      "Building..."
     ]
    },
    {
     "name": "stderr",
     "output_type": "stream",
     "text": [
      "INFO:aiohttp.access:127.0.0.1 [15/Feb/2022:22:09:10 +0000] \"POST /v1/models/r5vt2h6t/params HTTP/1.1\" 200 386 \"-\" \"Python/3.8 aiohttp/3.8.1\"\n",
      "INFO:httpstan:Found Stan model in cache (`models/r5vt2h6t`).\n",
      "INFO:aiohttp.access:127.0.0.1 [15/Feb/2022:22:09:10 +0000] \"POST /v1/models HTTP/1.1\" 201 234 \"-\" \"Python/3.8 aiohttp/3.8.1\"\n"
     ]
    },
    {
     "name": "stdout",
     "output_type": "stream",
     "text": [
      "\n"
     ]
    },
    {
     "name": "stderr",
     "output_type": "stream",
     "text": [
      "\n",
      "Building: found in cache, done.INFO:aiohttp.access:127.0.0.1 [15/Feb/2022:22:09:10 +0000] \"POST /v1/models/r5vt2h6t/params HTTP/1.1\" 200 386 \"-\" \"Python/3.8 aiohttp/3.8.1\"\n",
      "Sampling:   0%INFO:aiohttp.access:127.0.0.1 [15/Feb/2022:22:09:10 +0000] \"POST /v1/models/r5vt2h6t/fits HTTP/1.1\" 201 325 \"-\" \"Python/3.8 aiohttp/3.8.1\"\n",
      "INFO:aiohttp.access:127.0.0.1 [15/Feb/2022:22:09:10 +0000] \"GET /v1/models/r5vt2h6t/fits/h2f3d632 HTTP/1.1\" 200 1564693 \"-\" \"Python/3.8 aiohttp/3.8.1\"\n",
      "\n",
      "Sampling: 100%, done.\n",
      "Messages received during sampling:\n",
      "  Rejecting initial value:\n",
      "    Log probability evaluates to log(0), i.e. negative infinity.\n",
      "    Stan can't start sampling from this initial value.\n",
      "  Gradient evaluation took 0.000111 seconds\n",
      "  1000 transitions using 10 leapfrog steps per transition would take 1.11 seconds.\n",
      "  Adjust your expectations accordingly!\n"
     ]
    },
    {
     "name": "stdout",
     "output_type": "stream",
     "text": [
      "Building..."
     ]
    },
    {
     "name": "stderr",
     "output_type": "stream",
     "text": [
      "INFO:aiohttp.access:127.0.0.1 [15/Feb/2022:22:09:11 +0000] \"POST /v1/models/r5vt2h6t/params HTTP/1.1\" 200 386 \"-\" \"Python/3.8 aiohttp/3.8.1\"\n",
      "INFO:httpstan:Found Stan model in cache (`models/r5vt2h6t`).\n",
      "INFO:aiohttp.access:127.0.0.1 [15/Feb/2022:22:09:11 +0000] \"POST /v1/models HTTP/1.1\" 201 234 \"-\" \"Python/3.8 aiohttp/3.8.1\"\n"
     ]
    },
    {
     "name": "stdout",
     "output_type": "stream",
     "text": [
      "\n"
     ]
    },
    {
     "name": "stderr",
     "output_type": "stream",
     "text": [
      "\n",
      "Building: found in cache, done.INFO:aiohttp.access:127.0.0.1 [15/Feb/2022:22:09:11 +0000] \"POST /v1/models/r5vt2h6t/params HTTP/1.1\" 200 386 \"-\" \"Python/3.8 aiohttp/3.8.1\"\n",
      "Sampling:   0%INFO:aiohttp.access:127.0.0.1 [15/Feb/2022:22:09:11 +0000] \"POST /v1/models/r5vt2h6t/fits HTTP/1.1\" 201 325 \"-\" \"Python/3.8 aiohttp/3.8.1\"\n",
      "INFO:aiohttp.access:127.0.0.1 [15/Feb/2022:22:09:11 +0000] \"GET /v1/models/r5vt2h6t/fits/4facpdm3 HTTP/1.1\" 200 1567454 \"-\" \"Python/3.8 aiohttp/3.8.1\"\n",
      "\n",
      "Sampling: 100%, done.\n",
      "Messages received during sampling:\n",
      "  Rejecting initial value:\n",
      "    Log probability evaluates to log(0), i.e. negative infinity.\n",
      "    Stan can't start sampling from this initial value.\n",
      "  Gradient evaluation took 0.000112 seconds\n",
      "  1000 transitions using 10 leapfrog steps per transition would take 1.12 seconds.\n",
      "  Adjust your expectations accordingly!\n"
     ]
    },
    {
     "name": "stdout",
     "output_type": "stream",
     "text": [
      "Building..."
     ]
    },
    {
     "name": "stderr",
     "output_type": "stream",
     "text": [
      "INFO:aiohttp.access:127.0.0.1 [15/Feb/2022:22:09:11 +0000] \"POST /v1/models/r5vt2h6t/params HTTP/1.1\" 200 386 \"-\" \"Python/3.8 aiohttp/3.8.1\"\n",
      "INFO:httpstan:Found Stan model in cache (`models/r5vt2h6t`).\n",
      "INFO:aiohttp.access:127.0.0.1 [15/Feb/2022:22:09:11 +0000] \"POST /v1/models HTTP/1.1\" 201 234 \"-\" \"Python/3.8 aiohttp/3.8.1\"\n"
     ]
    },
    {
     "name": "stdout",
     "output_type": "stream",
     "text": [
      "\n"
     ]
    },
    {
     "name": "stderr",
     "output_type": "stream",
     "text": [
      "\n",
      "Building: found in cache, done.INFO:aiohttp.access:127.0.0.1 [15/Feb/2022:22:09:11 +0000] \"POST /v1/models/r5vt2h6t/params HTTP/1.1\" 200 386 \"-\" \"Python/3.8 aiohttp/3.8.1\"\n",
      "Sampling:   0%INFO:aiohttp.access:127.0.0.1 [15/Feb/2022:22:09:11 +0000] \"POST /v1/models/r5vt2h6t/fits HTTP/1.1\" 201 325 \"-\" \"Python/3.8 aiohttp/3.8.1\"\n",
      "INFO:aiohttp.access:127.0.0.1 [15/Feb/2022:22:09:11 +0000] \"GET /v1/models/r5vt2h6t/fits/iku7x3ew HTTP/1.1\" 200 1567645 \"-\" \"Python/3.8 aiohttp/3.8.1\"\n",
      "\n",
      "Sampling: 100%, done.\n",
      "Messages received during sampling:\n",
      "  Rejecting initial value:\n",
      "    Log probability evaluates to log(0), i.e. negative infinity.\n",
      "    Stan can't start sampling from this initial value.\n",
      "  Gradient evaluation took 0.000119 seconds\n",
      "  1000 transitions using 10 leapfrog steps per transition would take 1.19 seconds.\n",
      "  Adjust your expectations accordingly!\n"
     ]
    },
    {
     "name": "stdout",
     "output_type": "stream",
     "text": [
      "Building..."
     ]
    },
    {
     "name": "stderr",
     "output_type": "stream",
     "text": [
      "INFO:aiohttp.access:127.0.0.1 [15/Feb/2022:22:09:11 +0000] \"POST /v1/models/r5vt2h6t/params HTTP/1.1\" 200 386 \"-\" \"Python/3.8 aiohttp/3.8.1\"\n",
      "INFO:httpstan:Found Stan model in cache (`models/r5vt2h6t`).\n",
      "INFO:aiohttp.access:127.0.0.1 [15/Feb/2022:22:09:11 +0000] \"POST /v1/models HTTP/1.1\" 201 234 \"-\" \"Python/3.8 aiohttp/3.8.1\"\n"
     ]
    },
    {
     "name": "stdout",
     "output_type": "stream",
     "text": [
      "\n"
     ]
    },
    {
     "name": "stderr",
     "output_type": "stream",
     "text": [
      "\n",
      "Building: found in cache, done.INFO:aiohttp.access:127.0.0.1 [15/Feb/2022:22:09:11 +0000] \"POST /v1/models/r5vt2h6t/params HTTP/1.1\" 200 386 \"-\" \"Python/3.8 aiohttp/3.8.1\"\n",
      "Sampling:   0%INFO:aiohttp.access:127.0.0.1 [15/Feb/2022:22:09:11 +0000] \"POST /v1/models/r5vt2h6t/fits HTTP/1.1\" 201 325 \"-\" \"Python/3.8 aiohttp/3.8.1\"\n",
      "INFO:aiohttp.access:127.0.0.1 [15/Feb/2022:22:09:11 +0000] \"GET /v1/models/r5vt2h6t/fits/wwuaxjso HTTP/1.1\" 200 1565117 \"-\" \"Python/3.8 aiohttp/3.8.1\"\n",
      "\n",
      "Sampling: 100%, done.\n",
      "Messages received during sampling:\n",
      "  Rejecting initial value:\n",
      "    Log probability evaluates to log(0), i.e. negative infinity.\n",
      "    Stan can't start sampling from this initial value.\n",
      "  Gradient evaluation took 0.000115 seconds\n",
      "  1000 transitions using 10 leapfrog steps per transition would take 1.15 seconds.\n",
      "  Adjust your expectations accordingly!\n"
     ]
    },
    {
     "name": "stdout",
     "output_type": "stream",
     "text": [
      "Building..."
     ]
    },
    {
     "name": "stderr",
     "output_type": "stream",
     "text": [
      "INFO:aiohttp.access:127.0.0.1 [15/Feb/2022:22:09:11 +0000] \"POST /v1/models/r5vt2h6t/params HTTP/1.1\" 200 386 \"-\" \"Python/3.8 aiohttp/3.8.1\"\n",
      "INFO:httpstan:Found Stan model in cache (`models/r5vt2h6t`).\n",
      "INFO:aiohttp.access:127.0.0.1 [15/Feb/2022:22:09:11 +0000] \"POST /v1/models HTTP/1.1\" 201 234 \"-\" \"Python/3.8 aiohttp/3.8.1\"\n"
     ]
    },
    {
     "name": "stdout",
     "output_type": "stream",
     "text": [
      "\n"
     ]
    },
    {
     "name": "stderr",
     "output_type": "stream",
     "text": [
      "\n",
      "Building: found in cache, done.INFO:aiohttp.access:127.0.0.1 [15/Feb/2022:22:09:11 +0000] \"POST /v1/models/r5vt2h6t/params HTTP/1.1\" 200 386 \"-\" \"Python/3.8 aiohttp/3.8.1\"\n",
      "Sampling:   0%INFO:aiohttp.access:127.0.0.1 [15/Feb/2022:22:09:11 +0000] \"POST /v1/models/r5vt2h6t/fits HTTP/1.1\" 201 325 \"-\" \"Python/3.8 aiohttp/3.8.1\"\n",
      "INFO:aiohttp.access:127.0.0.1 [15/Feb/2022:22:09:11 +0000] \"GET /v1/models/r5vt2h6t/fits/lhvmz3m5 HTTP/1.1\" 200 1568720 \"-\" \"Python/3.8 aiohttp/3.8.1\"\n",
      "\n",
      "Sampling: 100%, done.\n",
      "Messages received during sampling:\n",
      "  Rejecting initial value:\n",
      "    Log probability evaluates to log(0), i.e. negative infinity.\n",
      "    Stan can't start sampling from this initial value.\n",
      "  Gradient evaluation took 0.000108 seconds\n",
      "  1000 transitions using 10 leapfrog steps per transition would take 1.08 seconds.\n",
      "  Adjust your expectations accordingly!\n"
     ]
    },
    {
     "name": "stdout",
     "output_type": "stream",
     "text": [
      "Building..."
     ]
    },
    {
     "name": "stderr",
     "output_type": "stream",
     "text": [
      "INFO:aiohttp.access:127.0.0.1 [15/Feb/2022:22:09:11 +0000] \"POST /v1/models/r5vt2h6t/params HTTP/1.1\" 200 386 \"-\" \"Python/3.8 aiohttp/3.8.1\"\n",
      "INFO:httpstan:Found Stan model in cache (`models/r5vt2h6t`).\n",
      "INFO:aiohttp.access:127.0.0.1 [15/Feb/2022:22:09:11 +0000] \"POST /v1/models HTTP/1.1\" 201 234 \"-\" \"Python/3.8 aiohttp/3.8.1\"\n"
     ]
    },
    {
     "name": "stdout",
     "output_type": "stream",
     "text": [
      "\n"
     ]
    },
    {
     "name": "stderr",
     "output_type": "stream",
     "text": [
      "\n",
      "Building: found in cache, done.INFO:aiohttp.access:127.0.0.1 [15/Feb/2022:22:09:11 +0000] \"POST /v1/models/r5vt2h6t/params HTTP/1.1\" 200 386 \"-\" \"Python/3.8 aiohttp/3.8.1\"\n",
      "Sampling:   0%INFO:aiohttp.access:127.0.0.1 [15/Feb/2022:22:09:11 +0000] \"POST /v1/models/r5vt2h6t/fits HTTP/1.1\" 201 325 \"-\" \"Python/3.8 aiohttp/3.8.1\"\n",
      "INFO:aiohttp.access:127.0.0.1 [15/Feb/2022:22:09:11 +0000] \"GET /v1/models/r5vt2h6t/fits/ucy7ead7 HTTP/1.1\" 200 1563780 \"-\" \"Python/3.8 aiohttp/3.8.1\"\n",
      "\n",
      "Sampling: 100%, done.\n",
      "Messages received during sampling:\n",
      "  Rejecting initial value:\n",
      "    Log probability evaluates to log(0), i.e. negative infinity.\n",
      "    Stan can't start sampling from this initial value.\n",
      "  Gradient evaluation took 0.000113 seconds\n",
      "  1000 transitions using 10 leapfrog steps per transition would take 1.13 seconds.\n",
      "  Adjust your expectations accordingly!\n"
     ]
    },
    {
     "name": "stdout",
     "output_type": "stream",
     "text": [
      "Building..."
     ]
    },
    {
     "name": "stderr",
     "output_type": "stream",
     "text": [
      "INFO:aiohttp.access:127.0.0.1 [15/Feb/2022:22:09:11 +0000] \"POST /v1/models/r5vt2h6t/params HTTP/1.1\" 200 386 \"-\" \"Python/3.8 aiohttp/3.8.1\"\n",
      "INFO:httpstan:Found Stan model in cache (`models/r5vt2h6t`).\n",
      "INFO:aiohttp.access:127.0.0.1 [15/Feb/2022:22:09:11 +0000] \"POST /v1/models HTTP/1.1\" 201 234 \"-\" \"Python/3.8 aiohttp/3.8.1\"\n"
     ]
    },
    {
     "name": "stdout",
     "output_type": "stream",
     "text": [
      "\n"
     ]
    },
    {
     "name": "stderr",
     "output_type": "stream",
     "text": [
      "\n",
      "Building: found in cache, done.INFO:aiohttp.access:127.0.0.1 [15/Feb/2022:22:09:11 +0000] \"POST /v1/models/r5vt2h6t/params HTTP/1.1\" 200 386 \"-\" \"Python/3.8 aiohttp/3.8.1\"\n",
      "Sampling:   0%INFO:aiohttp.access:127.0.0.1 [15/Feb/2022:22:09:11 +0000] \"POST /v1/models/r5vt2h6t/fits HTTP/1.1\" 201 325 \"-\" \"Python/3.8 aiohttp/3.8.1\"\n",
      "INFO:aiohttp.access:127.0.0.1 [15/Feb/2022:22:09:11 +0000] \"GET /v1/models/r5vt2h6t/fits/inuslevm HTTP/1.1\" 200 1568290 \"-\" \"Python/3.8 aiohttp/3.8.1\"\n",
      "\n",
      "Sampling: 100%, done.\n",
      "Messages received during sampling:\n",
      "  Rejecting initial value:\n",
      "    Log probability evaluates to log(0), i.e. negative infinity.\n",
      "    Stan can't start sampling from this initial value.\n",
      "  Gradient evaluation took 0.000153 seconds\n",
      "  1000 transitions using 10 leapfrog steps per transition would take 1.53 seconds.\n",
      "  Adjust your expectations accordingly!\n"
     ]
    },
    {
     "name": "stdout",
     "output_type": "stream",
     "text": [
      "Building..."
     ]
    },
    {
     "name": "stderr",
     "output_type": "stream",
     "text": [
      "INFO:aiohttp.access:127.0.0.1 [15/Feb/2022:22:09:12 +0000] \"POST /v1/models/r5vt2h6t/params HTTP/1.1\" 200 386 \"-\" \"Python/3.8 aiohttp/3.8.1\"\n",
      "INFO:httpstan:Found Stan model in cache (`models/r5vt2h6t`).\n",
      "INFO:aiohttp.access:127.0.0.1 [15/Feb/2022:22:09:12 +0000] \"POST /v1/models HTTP/1.1\" 201 234 \"-\" \"Python/3.8 aiohttp/3.8.1\"\n"
     ]
    },
    {
     "name": "stdout",
     "output_type": "stream",
     "text": [
      "\n"
     ]
    },
    {
     "name": "stderr",
     "output_type": "stream",
     "text": [
      "\n",
      "Building: found in cache, done.INFO:aiohttp.access:127.0.0.1 [15/Feb/2022:22:09:12 +0000] \"POST /v1/models/r5vt2h6t/params HTTP/1.1\" 200 386 \"-\" \"Python/3.8 aiohttp/3.8.1\"\n",
      "Sampling:   0%INFO:aiohttp.access:127.0.0.1 [15/Feb/2022:22:09:12 +0000] \"POST /v1/models/r5vt2h6t/fits HTTP/1.1\" 201 325 \"-\" \"Python/3.8 aiohttp/3.8.1\"\n",
      "INFO:aiohttp.access:127.0.0.1 [15/Feb/2022:22:09:12 +0000] \"GET /v1/models/r5vt2h6t/fits/bjjdnbo5 HTTP/1.1\" 200 1564452 \"-\" \"Python/3.8 aiohttp/3.8.1\"\n",
      "\n",
      "Sampling: 100%, done.\n",
      "Messages received during sampling:\n",
      "  Rejecting initial value:\n",
      "    Log probability evaluates to log(0), i.e. negative infinity.\n",
      "    Stan can't start sampling from this initial value.\n",
      "  Gradient evaluation took 0.000122 seconds\n",
      "  1000 transitions using 10 leapfrog steps per transition would take 1.22 seconds.\n",
      "  Adjust your expectations accordingly!\n"
     ]
    },
    {
     "name": "stdout",
     "output_type": "stream",
     "text": [
      "Building..."
     ]
    },
    {
     "name": "stderr",
     "output_type": "stream",
     "text": [
      "INFO:aiohttp.access:127.0.0.1 [15/Feb/2022:22:09:12 +0000] \"POST /v1/models/r5vt2h6t/params HTTP/1.1\" 200 386 \"-\" \"Python/3.8 aiohttp/3.8.1\"\n",
      "INFO:httpstan:Found Stan model in cache (`models/r5vt2h6t`).\n",
      "INFO:aiohttp.access:127.0.0.1 [15/Feb/2022:22:09:12 +0000] \"POST /v1/models HTTP/1.1\" 201 234 \"-\" \"Python/3.8 aiohttp/3.8.1\"\n"
     ]
    },
    {
     "name": "stdout",
     "output_type": "stream",
     "text": [
      "\n"
     ]
    },
    {
     "name": "stderr",
     "output_type": "stream",
     "text": [
      "\n",
      "Building: found in cache, done.INFO:aiohttp.access:127.0.0.1 [15/Feb/2022:22:09:12 +0000] \"POST /v1/models/r5vt2h6t/params HTTP/1.1\" 200 386 \"-\" \"Python/3.8 aiohttp/3.8.1\"\n",
      "Sampling:   0%INFO:aiohttp.access:127.0.0.1 [15/Feb/2022:22:09:12 +0000] \"POST /v1/models/r5vt2h6t/fits HTTP/1.1\" 201 325 \"-\" \"Python/3.8 aiohttp/3.8.1\"\n",
      "INFO:aiohttp.access:127.0.0.1 [15/Feb/2022:22:09:12 +0000] \"GET /v1/models/r5vt2h6t/fits/6nabfevt HTTP/1.1\" 200 1567234 \"-\" \"Python/3.8 aiohttp/3.8.1\"\n",
      "\n",
      "Sampling: 100%, done.\n",
      "Messages received during sampling:\n",
      "  Rejecting initial value:\n",
      "    Log probability evaluates to log(0), i.e. negative infinity.\n",
      "    Stan can't start sampling from this initial value.\n",
      "  Gradient evaluation took 0.000113 seconds\n",
      "  1000 transitions using 10 leapfrog steps per transition would take 1.13 seconds.\n",
      "  Adjust your expectations accordingly!\n"
     ]
    },
    {
     "name": "stdout",
     "output_type": "stream",
     "text": [
      "Building..."
     ]
    },
    {
     "name": "stderr",
     "output_type": "stream",
     "text": [
      "INFO:aiohttp.access:127.0.0.1 [15/Feb/2022:22:09:12 +0000] \"POST /v1/models/r5vt2h6t/params HTTP/1.1\" 200 386 \"-\" \"Python/3.8 aiohttp/3.8.1\"\n",
      "INFO:httpstan:Found Stan model in cache (`models/r5vt2h6t`).\n",
      "INFO:aiohttp.access:127.0.0.1 [15/Feb/2022:22:09:12 +0000] \"POST /v1/models HTTP/1.1\" 201 234 \"-\" \"Python/3.8 aiohttp/3.8.1\"\n"
     ]
    },
    {
     "name": "stdout",
     "output_type": "stream",
     "text": [
      "\n"
     ]
    },
    {
     "name": "stderr",
     "output_type": "stream",
     "text": [
      "\n",
      "Building: found in cache, done.INFO:aiohttp.access:127.0.0.1 [15/Feb/2022:22:09:12 +0000] \"POST /v1/models/r5vt2h6t/params HTTP/1.1\" 200 386 \"-\" \"Python/3.8 aiohttp/3.8.1\"\n",
      "Sampling:   0%INFO:aiohttp.access:127.0.0.1 [15/Feb/2022:22:09:12 +0000] \"POST /v1/models/r5vt2h6t/fits HTTP/1.1\" 201 325 \"-\" \"Python/3.8 aiohttp/3.8.1\"\n",
      "INFO:aiohttp.access:127.0.0.1 [15/Feb/2022:22:09:12 +0000] \"GET /v1/models/r5vt2h6t/fits/htedlsyg HTTP/1.1\" 200 1569132 \"-\" \"Python/3.8 aiohttp/3.8.1\"\n",
      "\n",
      "Sampling: 100%, done.\n",
      "Messages received during sampling:\n",
      "  Rejecting initial value:\n",
      "    Log probability evaluates to log(0), i.e. negative infinity.\n",
      "    Stan can't start sampling from this initial value.\n",
      "  Gradient evaluation took 0.000116 seconds\n",
      "  1000 transitions using 10 leapfrog steps per transition would take 1.16 seconds.\n",
      "  Adjust your expectations accordingly!\n"
     ]
    },
    {
     "name": "stdout",
     "output_type": "stream",
     "text": [
      "Building..."
     ]
    },
    {
     "name": "stderr",
     "output_type": "stream",
     "text": [
      "INFO:aiohttp.access:127.0.0.1 [15/Feb/2022:22:09:12 +0000] \"POST /v1/models/r5vt2h6t/params HTTP/1.1\" 200 386 \"-\" \"Python/3.8 aiohttp/3.8.1\"\n",
      "INFO:httpstan:Found Stan model in cache (`models/r5vt2h6t`).\n",
      "INFO:aiohttp.access:127.0.0.1 [15/Feb/2022:22:09:12 +0000] \"POST /v1/models HTTP/1.1\" 201 234 \"-\" \"Python/3.8 aiohttp/3.8.1\"\n"
     ]
    },
    {
     "name": "stdout",
     "output_type": "stream",
     "text": [
      "\n"
     ]
    },
    {
     "name": "stderr",
     "output_type": "stream",
     "text": [
      "\n",
      "Building: found in cache, done.INFO:aiohttp.access:127.0.0.1 [15/Feb/2022:22:09:12 +0000] \"POST /v1/models/r5vt2h6t/params HTTP/1.1\" 200 386 \"-\" \"Python/3.8 aiohttp/3.8.1\"\n",
      "Sampling:   0%INFO:aiohttp.access:127.0.0.1 [15/Feb/2022:22:09:12 +0000] \"POST /v1/models/r5vt2h6t/fits HTTP/1.1\" 201 325 \"-\" \"Python/3.8 aiohttp/3.8.1\"\n",
      "INFO:aiohttp.access:127.0.0.1 [15/Feb/2022:22:09:12 +0000] \"GET /v1/models/r5vt2h6t/fits/67lwhpno HTTP/1.1\" 200 1568457 \"-\" \"Python/3.8 aiohttp/3.8.1\"\n",
      "\n",
      "Sampling: 100%, done.\n",
      "Messages received during sampling:\n",
      "  Rejecting initial value:\n",
      "    Log probability evaluates to log(0), i.e. negative infinity.\n",
      "    Stan can't start sampling from this initial value.\n",
      "  Gradient evaluation took 0.000107 seconds\n",
      "  1000 transitions using 10 leapfrog steps per transition would take 1.07 seconds.\n",
      "  Adjust your expectations accordingly!\n"
     ]
    },
    {
     "name": "stdout",
     "output_type": "stream",
     "text": [
      "Building..."
     ]
    },
    {
     "name": "stderr",
     "output_type": "stream",
     "text": [
      "INFO:aiohttp.access:127.0.0.1 [15/Feb/2022:22:09:12 +0000] \"POST /v1/models/r5vt2h6t/params HTTP/1.1\" 200 386 \"-\" \"Python/3.8 aiohttp/3.8.1\"\n",
      "INFO:httpstan:Found Stan model in cache (`models/r5vt2h6t`).\n",
      "INFO:aiohttp.access:127.0.0.1 [15/Feb/2022:22:09:12 +0000] \"POST /v1/models HTTP/1.1\" 201 234 \"-\" \"Python/3.8 aiohttp/3.8.1\"\n"
     ]
    },
    {
     "name": "stdout",
     "output_type": "stream",
     "text": [
      "\n"
     ]
    },
    {
     "name": "stderr",
     "output_type": "stream",
     "text": [
      "\n",
      "Building: found in cache, done.INFO:aiohttp.access:127.0.0.1 [15/Feb/2022:22:09:12 +0000] \"POST /v1/models/r5vt2h6t/params HTTP/1.1\" 200 386 \"-\" \"Python/3.8 aiohttp/3.8.1\"\n",
      "Sampling:   0%INFO:aiohttp.access:127.0.0.1 [15/Feb/2022:22:09:12 +0000] \"POST /v1/models/r5vt2h6t/fits HTTP/1.1\" 201 325 \"-\" \"Python/3.8 aiohttp/3.8.1\"\n",
      "INFO:aiohttp.access:127.0.0.1 [15/Feb/2022:22:09:12 +0000] \"GET /v1/models/r5vt2h6t/fits/hr7yfriv HTTP/1.1\" 200 1568521 \"-\" \"Python/3.8 aiohttp/3.8.1\"\n",
      "\n",
      "Sampling: 100%, done.\n",
      "Messages received during sampling:\n",
      "  Rejecting initial value:\n",
      "    Log probability evaluates to log(0), i.e. negative infinity.\n",
      "    Stan can't start sampling from this initial value.\n",
      "  Gradient evaluation took 0.000112 seconds\n",
      "  1000 transitions using 10 leapfrog steps per transition would take 1.12 seconds.\n",
      "  Adjust your expectations accordingly!\n"
     ]
    },
    {
     "name": "stdout",
     "output_type": "stream",
     "text": [
      "Building..."
     ]
    },
    {
     "name": "stderr",
     "output_type": "stream",
     "text": [
      "INFO:aiohttp.access:127.0.0.1 [15/Feb/2022:22:09:12 +0000] \"POST /v1/models/r5vt2h6t/params HTTP/1.1\" 200 386 \"-\" \"Python/3.8 aiohttp/3.8.1\"\n",
      "INFO:httpstan:Found Stan model in cache (`models/r5vt2h6t`).\n",
      "INFO:aiohttp.access:127.0.0.1 [15/Feb/2022:22:09:12 +0000] \"POST /v1/models HTTP/1.1\" 201 234 \"-\" \"Python/3.8 aiohttp/3.8.1\"\n"
     ]
    },
    {
     "name": "stdout",
     "output_type": "stream",
     "text": [
      "\n"
     ]
    },
    {
     "name": "stderr",
     "output_type": "stream",
     "text": [
      "\n",
      "Building: found in cache, done.INFO:aiohttp.access:127.0.0.1 [15/Feb/2022:22:09:12 +0000] \"POST /v1/models/r5vt2h6t/params HTTP/1.1\" 200 386 \"-\" \"Python/3.8 aiohttp/3.8.1\"\n",
      "Sampling:   0%INFO:aiohttp.access:127.0.0.1 [15/Feb/2022:22:09:12 +0000] \"POST /v1/models/r5vt2h6t/fits HTTP/1.1\" 201 325 \"-\" \"Python/3.8 aiohttp/3.8.1\"\n",
      "INFO:aiohttp.access:127.0.0.1 [15/Feb/2022:22:09:12 +0000] \"GET /v1/models/r5vt2h6t/fits/hon4qlab HTTP/1.1\" 200 1565048 \"-\" \"Python/3.8 aiohttp/3.8.1\"\n",
      "\n",
      "Sampling: 100%, done.\n",
      "Messages received during sampling:\n",
      "  Rejecting initial value:\n",
      "    Log probability evaluates to log(0), i.e. negative infinity.\n",
      "    Stan can't start sampling from this initial value.\n",
      "  Gradient evaluation took 0.00011 seconds\n",
      "  1000 transitions using 10 leapfrog steps per transition would take 1.1 seconds.\n",
      "  Adjust your expectations accordingly!\n"
     ]
    },
    {
     "name": "stdout",
     "output_type": "stream",
     "text": [
      "Building..."
     ]
    },
    {
     "name": "stderr",
     "output_type": "stream",
     "text": [
      "INFO:aiohttp.access:127.0.0.1 [15/Feb/2022:22:09:13 +0000] \"POST /v1/models/r5vt2h6t/params HTTP/1.1\" 200 386 \"-\" \"Python/3.8 aiohttp/3.8.1\"\n",
      "INFO:httpstan:Found Stan model in cache (`models/r5vt2h6t`).\n",
      "INFO:aiohttp.access:127.0.0.1 [15/Feb/2022:22:09:13 +0000] \"POST /v1/models HTTP/1.1\" 201 234 \"-\" \"Python/3.8 aiohttp/3.8.1\"\n"
     ]
    },
    {
     "name": "stdout",
     "output_type": "stream",
     "text": [
      "\n"
     ]
    },
    {
     "name": "stderr",
     "output_type": "stream",
     "text": [
      "\n",
      "Building: found in cache, done.INFO:aiohttp.access:127.0.0.1 [15/Feb/2022:22:09:13 +0000] \"POST /v1/models/r5vt2h6t/params HTTP/1.1\" 200 386 \"-\" \"Python/3.8 aiohttp/3.8.1\"\n",
      "Sampling:   0%INFO:aiohttp.access:127.0.0.1 [15/Feb/2022:22:09:13 +0000] \"POST /v1/models/r5vt2h6t/fits HTTP/1.1\" 201 325 \"-\" \"Python/3.8 aiohttp/3.8.1\"\n",
      "INFO:aiohttp.access:127.0.0.1 [15/Feb/2022:22:09:13 +0000] \"GET /v1/models/r5vt2h6t/fits/7j2mer3l HTTP/1.1\" 200 1563527 \"-\" \"Python/3.8 aiohttp/3.8.1\"\n",
      "\n",
      "Sampling: 100%, done.\n",
      "Messages received during sampling:\n",
      "  Rejecting initial value:\n",
      "    Log probability evaluates to log(0), i.e. negative infinity.\n",
      "    Stan can't start sampling from this initial value.\n",
      "  Gradient evaluation took 0.00011 seconds\n",
      "  1000 transitions using 10 leapfrog steps per transition would take 1.1 seconds.\n",
      "  Adjust your expectations accordingly!\n"
     ]
    },
    {
     "name": "stdout",
     "output_type": "stream",
     "text": [
      "Building..."
     ]
    },
    {
     "name": "stderr",
     "output_type": "stream",
     "text": [
      "INFO:aiohttp.access:127.0.0.1 [15/Feb/2022:22:09:13 +0000] \"POST /v1/models/r5vt2h6t/params HTTP/1.1\" 200 386 \"-\" \"Python/3.8 aiohttp/3.8.1\"\n",
      "INFO:httpstan:Found Stan model in cache (`models/r5vt2h6t`).\n",
      "INFO:aiohttp.access:127.0.0.1 [15/Feb/2022:22:09:13 +0000] \"POST /v1/models HTTP/1.1\" 201 234 \"-\" \"Python/3.8 aiohttp/3.8.1\"\n"
     ]
    },
    {
     "name": "stdout",
     "output_type": "stream",
     "text": [
      "\n"
     ]
    },
    {
     "name": "stderr",
     "output_type": "stream",
     "text": [
      "\n",
      "Building: found in cache, done.INFO:aiohttp.access:127.0.0.1 [15/Feb/2022:22:09:13 +0000] \"POST /v1/models/r5vt2h6t/params HTTP/1.1\" 200 386 \"-\" \"Python/3.8 aiohttp/3.8.1\"\n",
      "Sampling:   0%INFO:aiohttp.access:127.0.0.1 [15/Feb/2022:22:09:13 +0000] \"POST /v1/models/r5vt2h6t/fits HTTP/1.1\" 201 325 \"-\" \"Python/3.8 aiohttp/3.8.1\"\n",
      "INFO:aiohttp.access:127.0.0.1 [15/Feb/2022:22:09:13 +0000] \"GET /v1/models/r5vt2h6t/fits/dz45jsrl HTTP/1.1\" 200 1568262 \"-\" \"Python/3.8 aiohttp/3.8.1\"\n",
      "\n",
      "Sampling: 100%, done.\n",
      "Messages received during sampling:\n",
      "  Rejecting initial value:\n",
      "    Log probability evaluates to log(0), i.e. negative infinity.\n",
      "    Stan can't start sampling from this initial value.\n",
      "  Gradient evaluation took 0.000138 seconds\n",
      "  1000 transitions using 10 leapfrog steps per transition would take 1.38 seconds.\n",
      "  Adjust your expectations accordingly!\n"
     ]
    },
    {
     "name": "stdout",
     "output_type": "stream",
     "text": [
      "Building..."
     ]
    },
    {
     "name": "stderr",
     "output_type": "stream",
     "text": [
      "INFO:aiohttp.access:127.0.0.1 [15/Feb/2022:22:09:13 +0000] \"POST /v1/models/r5vt2h6t/params HTTP/1.1\" 200 386 \"-\" \"Python/3.8 aiohttp/3.8.1\"\n",
      "INFO:httpstan:Found Stan model in cache (`models/r5vt2h6t`).\n",
      "INFO:aiohttp.access:127.0.0.1 [15/Feb/2022:22:09:13 +0000] \"POST /v1/models HTTP/1.1\" 201 234 \"-\" \"Python/3.8 aiohttp/3.8.1\"\n"
     ]
    },
    {
     "name": "stdout",
     "output_type": "stream",
     "text": [
      "\n"
     ]
    },
    {
     "name": "stderr",
     "output_type": "stream",
     "text": [
      "\n",
      "Building: found in cache, done.INFO:aiohttp.access:127.0.0.1 [15/Feb/2022:22:09:13 +0000] \"POST /v1/models/r5vt2h6t/params HTTP/1.1\" 200 386 \"-\" \"Python/3.8 aiohttp/3.8.1\"\n",
      "Sampling:   0%INFO:aiohttp.access:127.0.0.1 [15/Feb/2022:22:09:13 +0000] \"POST /v1/models/r5vt2h6t/fits HTTP/1.1\" 201 325 \"-\" \"Python/3.8 aiohttp/3.8.1\"\n",
      "INFO:aiohttp.access:127.0.0.1 [15/Feb/2022:22:09:13 +0000] \"GET /v1/models/r5vt2h6t/fits/g4hz6dro HTTP/1.1\" 200 1557067 \"-\" \"Python/3.8 aiohttp/3.8.1\"\n",
      "\n",
      "Sampling: 100%, done.\n",
      "Messages received during sampling:\n",
      "  Rejecting initial value:\n",
      "    Log probability evaluates to log(0), i.e. negative infinity.\n",
      "    Stan can't start sampling from this initial value.\n",
      "  Gradient evaluation took 0.000111 seconds\n",
      "  1000 transitions using 10 leapfrog steps per transition would take 1.11 seconds.\n",
      "  Adjust your expectations accordingly!\n"
     ]
    },
    {
     "name": "stdout",
     "output_type": "stream",
     "text": [
      "Building..."
     ]
    },
    {
     "name": "stderr",
     "output_type": "stream",
     "text": [
      "INFO:aiohttp.access:127.0.0.1 [15/Feb/2022:22:09:13 +0000] \"POST /v1/models/r5vt2h6t/params HTTP/1.1\" 200 386 \"-\" \"Python/3.8 aiohttp/3.8.1\"\n",
      "INFO:httpstan:Found Stan model in cache (`models/r5vt2h6t`).\n",
      "INFO:aiohttp.access:127.0.0.1 [15/Feb/2022:22:09:13 +0000] \"POST /v1/models HTTP/1.1\" 201 234 \"-\" \"Python/3.8 aiohttp/3.8.1\"\n"
     ]
    },
    {
     "name": "stdout",
     "output_type": "stream",
     "text": [
      "\n"
     ]
    },
    {
     "name": "stderr",
     "output_type": "stream",
     "text": [
      "\n",
      "Building: found in cache, done.INFO:aiohttp.access:127.0.0.1 [15/Feb/2022:22:09:13 +0000] \"POST /v1/models/r5vt2h6t/params HTTP/1.1\" 200 386 \"-\" \"Python/3.8 aiohttp/3.8.1\"\n",
      "Sampling:   0%INFO:aiohttp.access:127.0.0.1 [15/Feb/2022:22:09:13 +0000] \"POST /v1/models/r5vt2h6t/fits HTTP/1.1\" 201 325 \"-\" \"Python/3.8 aiohttp/3.8.1\"\n",
      "INFO:aiohttp.access:127.0.0.1 [15/Feb/2022:22:09:13 +0000] \"GET /v1/models/r5vt2h6t/fits/ftwy7sgb HTTP/1.1\" 200 1568533 \"-\" \"Python/3.8 aiohttp/3.8.1\"\n",
      "\n",
      "Sampling: 100%, done.\n",
      "Messages received during sampling:\n",
      "  Rejecting initial value:\n",
      "    Log probability evaluates to log(0), i.e. negative infinity.\n",
      "    Stan can't start sampling from this initial value.\n",
      "  Gradient evaluation took 0.000121 seconds\n",
      "  1000 transitions using 10 leapfrog steps per transition would take 1.21 seconds.\n",
      "  Adjust your expectations accordingly!\n"
     ]
    },
    {
     "name": "stdout",
     "output_type": "stream",
     "text": [
      "Building..."
     ]
    },
    {
     "name": "stderr",
     "output_type": "stream",
     "text": [
      "INFO:aiohttp.access:127.0.0.1 [15/Feb/2022:22:09:13 +0000] \"POST /v1/models/r5vt2h6t/params HTTP/1.1\" 200 386 \"-\" \"Python/3.8 aiohttp/3.8.1\"\n",
      "INFO:httpstan:Found Stan model in cache (`models/r5vt2h6t`).\n",
      "INFO:aiohttp.access:127.0.0.1 [15/Feb/2022:22:09:13 +0000] \"POST /v1/models HTTP/1.1\" 201 234 \"-\" \"Python/3.8 aiohttp/3.8.1\"\n"
     ]
    },
    {
     "name": "stdout",
     "output_type": "stream",
     "text": [
      "\n"
     ]
    },
    {
     "name": "stderr",
     "output_type": "stream",
     "text": [
      "\n",
      "Building: found in cache, done.INFO:aiohttp.access:127.0.0.1 [15/Feb/2022:22:09:13 +0000] \"POST /v1/models/r5vt2h6t/params HTTP/1.1\" 200 386 \"-\" \"Python/3.8 aiohttp/3.8.1\"\n",
      "Sampling:   0%INFO:aiohttp.access:127.0.0.1 [15/Feb/2022:22:09:13 +0000] \"POST /v1/models/r5vt2h6t/fits HTTP/1.1\" 201 325 \"-\" \"Python/3.8 aiohttp/3.8.1\"\n",
      "INFO:aiohttp.access:127.0.0.1 [15/Feb/2022:22:09:13 +0000] \"GET /v1/models/r5vt2h6t/fits/chb55ibx HTTP/1.1\" 200 1568467 \"-\" \"Python/3.8 aiohttp/3.8.1\"\n",
      "\n",
      "Sampling: 100%, done.\n",
      "Messages received during sampling:\n",
      "  Rejecting initial value:\n",
      "    Log probability evaluates to log(0), i.e. negative infinity.\n",
      "    Stan can't start sampling from this initial value.\n",
      "  Gradient evaluation took 0.000113 seconds\n",
      "  1000 transitions using 10 leapfrog steps per transition would take 1.13 seconds.\n",
      "  Adjust your expectations accordingly!\n"
     ]
    },
    {
     "name": "stdout",
     "output_type": "stream",
     "text": [
      "Building..."
     ]
    },
    {
     "name": "stderr",
     "output_type": "stream",
     "text": [
      "INFO:aiohttp.access:127.0.0.1 [15/Feb/2022:22:09:13 +0000] \"POST /v1/models/r5vt2h6t/params HTTP/1.1\" 200 386 \"-\" \"Python/3.8 aiohttp/3.8.1\"\n",
      "INFO:httpstan:Found Stan model in cache (`models/r5vt2h6t`).\n",
      "INFO:aiohttp.access:127.0.0.1 [15/Feb/2022:22:09:13 +0000] \"POST /v1/models HTTP/1.1\" 201 234 \"-\" \"Python/3.8 aiohttp/3.8.1\"\n"
     ]
    },
    {
     "name": "stdout",
     "output_type": "stream",
     "text": [
      "\n"
     ]
    },
    {
     "name": "stderr",
     "output_type": "stream",
     "text": [
      "\n",
      "Building: found in cache, done.INFO:aiohttp.access:127.0.0.1 [15/Feb/2022:22:09:13 +0000] \"POST /v1/models/r5vt2h6t/params HTTP/1.1\" 200 386 \"-\" \"Python/3.8 aiohttp/3.8.1\"\n",
      "Sampling:   0%INFO:aiohttp.access:127.0.0.1 [15/Feb/2022:22:09:13 +0000] \"POST /v1/models/r5vt2h6t/fits HTTP/1.1\" 201 325 \"-\" \"Python/3.8 aiohttp/3.8.1\"\n",
      "INFO:aiohttp.access:127.0.0.1 [15/Feb/2022:22:09:13 +0000] \"GET /v1/models/r5vt2h6t/fits/xii77hzs HTTP/1.1\" 200 1569325 \"-\" \"Python/3.8 aiohttp/3.8.1\"\n",
      "\n",
      "Sampling: 100%, done.\n",
      "Messages received during sampling:\n",
      "  Rejecting initial value:\n",
      "    Log probability evaluates to log(0), i.e. negative infinity.\n",
      "    Stan can't start sampling from this initial value.\n",
      "  Gradient evaluation took 0.000129 seconds\n",
      "  1000 transitions using 10 leapfrog steps per transition would take 1.29 seconds.\n",
      "  Adjust your expectations accordingly!\n"
     ]
    },
    {
     "name": "stdout",
     "output_type": "stream",
     "text": [
      "Building..."
     ]
    },
    {
     "name": "stderr",
     "output_type": "stream",
     "text": [
      "INFO:aiohttp.access:127.0.0.1 [15/Feb/2022:22:09:13 +0000] \"POST /v1/models/r5vt2h6t/params HTTP/1.1\" 200 386 \"-\" \"Python/3.8 aiohttp/3.8.1\"\n",
      "INFO:httpstan:Found Stan model in cache (`models/r5vt2h6t`).\n",
      "INFO:aiohttp.access:127.0.0.1 [15/Feb/2022:22:09:13 +0000] \"POST /v1/models HTTP/1.1\" 201 234 \"-\" \"Python/3.8 aiohttp/3.8.1\"\n"
     ]
    },
    {
     "name": "stdout",
     "output_type": "stream",
     "text": [
      "\n"
     ]
    },
    {
     "name": "stderr",
     "output_type": "stream",
     "text": [
      "\n",
      "Building: found in cache, done.INFO:aiohttp.access:127.0.0.1 [15/Feb/2022:22:09:13 +0000] \"POST /v1/models/r5vt2h6t/params HTTP/1.1\" 200 386 \"-\" \"Python/3.8 aiohttp/3.8.1\"\n",
      "Sampling:   0%INFO:aiohttp.access:127.0.0.1 [15/Feb/2022:22:09:13 +0000] \"POST /v1/models/r5vt2h6t/fits HTTP/1.1\" 201 325 \"-\" \"Python/3.8 aiohttp/3.8.1\"\n",
      "INFO:aiohttp.access:127.0.0.1 [15/Feb/2022:22:09:13 +0000] \"GET /v1/models/r5vt2h6t/fits/fwny64cj HTTP/1.1\" 200 1563376 \"-\" \"Python/3.8 aiohttp/3.8.1\"\n",
      "\n",
      "Sampling: 100%, done.\n",
      "Messages received during sampling:\n",
      "  Rejecting initial value:\n",
      "    Log probability evaluates to log(0), i.e. negative infinity.\n",
      "    Stan can't start sampling from this initial value.\n",
      "  Gradient evaluation took 0.000113 seconds\n",
      "  1000 transitions using 10 leapfrog steps per transition would take 1.13 seconds.\n",
      "  Adjust your expectations accordingly!\n"
     ]
    },
    {
     "name": "stdout",
     "output_type": "stream",
     "text": [
      "Building..."
     ]
    },
    {
     "name": "stderr",
     "output_type": "stream",
     "text": [
      "INFO:aiohttp.access:127.0.0.1 [15/Feb/2022:22:09:14 +0000] \"POST /v1/models/r5vt2h6t/params HTTP/1.1\" 200 386 \"-\" \"Python/3.8 aiohttp/3.8.1\"\n",
      "INFO:httpstan:Found Stan model in cache (`models/r5vt2h6t`).\n",
      "INFO:aiohttp.access:127.0.0.1 [15/Feb/2022:22:09:14 +0000] \"POST /v1/models HTTP/1.1\" 201 234 \"-\" \"Python/3.8 aiohttp/3.8.1\"\n"
     ]
    },
    {
     "name": "stdout",
     "output_type": "stream",
     "text": [
      "\n"
     ]
    },
    {
     "name": "stderr",
     "output_type": "stream",
     "text": [
      "\n",
      "Building: found in cache, done.INFO:aiohttp.access:127.0.0.1 [15/Feb/2022:22:09:14 +0000] \"POST /v1/models/r5vt2h6t/params HTTP/1.1\" 200 386 \"-\" \"Python/3.8 aiohttp/3.8.1\"\n",
      "Sampling:   0%INFO:aiohttp.access:127.0.0.1 [15/Feb/2022:22:09:14 +0000] \"POST /v1/models/r5vt2h6t/fits HTTP/1.1\" 201 325 \"-\" \"Python/3.8 aiohttp/3.8.1\"\n",
      "INFO:aiohttp.access:127.0.0.1 [15/Feb/2022:22:09:14 +0000] \"GET /v1/models/r5vt2h6t/fits/agnrp6lz HTTP/1.1\" 200 1568772 \"-\" \"Python/3.8 aiohttp/3.8.1\"\n",
      "\n",
      "Sampling: 100%, done.\n",
      "Messages received during sampling:\n",
      "  Rejecting initial value:\n",
      "    Log probability evaluates to log(0), i.e. negative infinity.\n",
      "    Stan can't start sampling from this initial value.\n",
      "  Gradient evaluation took 0.000109 seconds\n",
      "  1000 transitions using 10 leapfrog steps per transition would take 1.09 seconds.\n",
      "  Adjust your expectations accordingly!\n"
     ]
    },
    {
     "name": "stdout",
     "output_type": "stream",
     "text": [
      "Building..."
     ]
    },
    {
     "name": "stderr",
     "output_type": "stream",
     "text": [
      "INFO:aiohttp.access:127.0.0.1 [15/Feb/2022:22:09:14 +0000] \"POST /v1/models/r5vt2h6t/params HTTP/1.1\" 200 386 \"-\" \"Python/3.8 aiohttp/3.8.1\"\n",
      "INFO:httpstan:Found Stan model in cache (`models/r5vt2h6t`).\n",
      "INFO:aiohttp.access:127.0.0.1 [15/Feb/2022:22:09:14 +0000] \"POST /v1/models HTTP/1.1\" 201 234 \"-\" \"Python/3.8 aiohttp/3.8.1\"\n"
     ]
    },
    {
     "name": "stdout",
     "output_type": "stream",
     "text": [
      "\n"
     ]
    },
    {
     "name": "stderr",
     "output_type": "stream",
     "text": [
      "\n",
      "Building: found in cache, done.INFO:aiohttp.access:127.0.0.1 [15/Feb/2022:22:09:14 +0000] \"POST /v1/models/r5vt2h6t/params HTTP/1.1\" 200 386 \"-\" \"Python/3.8 aiohttp/3.8.1\"\n",
      "Sampling:   0%INFO:aiohttp.access:127.0.0.1 [15/Feb/2022:22:09:14 +0000] \"POST /v1/models/r5vt2h6t/fits HTTP/1.1\" 201 325 \"-\" \"Python/3.8 aiohttp/3.8.1\"\n",
      "INFO:aiohttp.access:127.0.0.1 [15/Feb/2022:22:09:14 +0000] \"GET /v1/models/r5vt2h6t/fits/njbom2cc HTTP/1.1\" 200 1570089 \"-\" \"Python/3.8 aiohttp/3.8.1\"\n",
      "\n",
      "Sampling: 100%, done.\n",
      "Messages received during sampling:\n",
      "  Rejecting initial value:\n",
      "    Log probability evaluates to log(0), i.e. negative infinity.\n",
      "    Stan can't start sampling from this initial value.\n",
      "  Gradient evaluation took 0.000111 seconds\n",
      "  1000 transitions using 10 leapfrog steps per transition would take 1.11 seconds.\n",
      "  Adjust your expectations accordingly!\n"
     ]
    },
    {
     "name": "stdout",
     "output_type": "stream",
     "text": [
      "Building..."
     ]
    },
    {
     "name": "stderr",
     "output_type": "stream",
     "text": [
      "INFO:aiohttp.access:127.0.0.1 [15/Feb/2022:22:09:14 +0000] \"POST /v1/models/r5vt2h6t/params HTTP/1.1\" 200 386 \"-\" \"Python/3.8 aiohttp/3.8.1\"\n",
      "INFO:httpstan:Found Stan model in cache (`models/r5vt2h6t`).\n",
      "INFO:aiohttp.access:127.0.0.1 [15/Feb/2022:22:09:14 +0000] \"POST /v1/models HTTP/1.1\" 201 234 \"-\" \"Python/3.8 aiohttp/3.8.1\"\n"
     ]
    },
    {
     "name": "stdout",
     "output_type": "stream",
     "text": [
      "\n"
     ]
    },
    {
     "name": "stderr",
     "output_type": "stream",
     "text": [
      "\n",
      "Building: found in cache, done.INFO:aiohttp.access:127.0.0.1 [15/Feb/2022:22:09:14 +0000] \"POST /v1/models/r5vt2h6t/params HTTP/1.1\" 200 386 \"-\" \"Python/3.8 aiohttp/3.8.1\"\n",
      "Sampling:   0%INFO:aiohttp.access:127.0.0.1 [15/Feb/2022:22:09:14 +0000] \"POST /v1/models/r5vt2h6t/fits HTTP/1.1\" 201 325 \"-\" \"Python/3.8 aiohttp/3.8.1\"\n",
      "INFO:aiohttp.access:127.0.0.1 [15/Feb/2022:22:09:14 +0000] \"GET /v1/models/r5vt2h6t/fits/o725jrzw HTTP/1.1\" 200 1569095 \"-\" \"Python/3.8 aiohttp/3.8.1\"\n",
      "\n",
      "Sampling: 100%, done.\n",
      "Messages received during sampling:\n",
      "  Rejecting initial value:\n",
      "    Log probability evaluates to log(0), i.e. negative infinity.\n",
      "    Stan can't start sampling from this initial value.\n",
      "  Gradient evaluation took 0.000273 seconds\n",
      "  1000 transitions using 10 leapfrog steps per transition would take 2.73 seconds.\n",
      "  Adjust your expectations accordingly!\n"
     ]
    },
    {
     "name": "stdout",
     "output_type": "stream",
     "text": [
      "Building..."
     ]
    },
    {
     "name": "stderr",
     "output_type": "stream",
     "text": [
      "INFO:aiohttp.access:127.0.0.1 [15/Feb/2022:22:09:14 +0000] \"POST /v1/models/r5vt2h6t/params HTTP/1.1\" 200 386 \"-\" \"Python/3.8 aiohttp/3.8.1\"\n",
      "INFO:httpstan:Found Stan model in cache (`models/r5vt2h6t`).\n",
      "INFO:aiohttp.access:127.0.0.1 [15/Feb/2022:22:09:14 +0000] \"POST /v1/models HTTP/1.1\" 201 234 \"-\" \"Python/3.8 aiohttp/3.8.1\"\n"
     ]
    },
    {
     "name": "stdout",
     "output_type": "stream",
     "text": [
      "\n"
     ]
    },
    {
     "name": "stderr",
     "output_type": "stream",
     "text": [
      "\n",
      "Building: found in cache, done.INFO:aiohttp.access:127.0.0.1 [15/Feb/2022:22:09:14 +0000] \"POST /v1/models/r5vt2h6t/params HTTP/1.1\" 200 386 \"-\" \"Python/3.8 aiohttp/3.8.1\"\n",
      "Sampling:   0%INFO:aiohttp.access:127.0.0.1 [15/Feb/2022:22:09:14 +0000] \"POST /v1/models/r5vt2h6t/fits HTTP/1.1\" 201 325 \"-\" \"Python/3.8 aiohttp/3.8.1\"\n",
      "INFO:aiohttp.access:127.0.0.1 [15/Feb/2022:22:09:14 +0000] \"GET /v1/models/r5vt2h6t/fits/jqukodkg HTTP/1.1\" 200 1564480 \"-\" \"Python/3.8 aiohttp/3.8.1\"\n",
      "\n",
      "Sampling: 100%, done.\n",
      "Messages received during sampling:\n",
      "  Rejecting initial value:\n",
      "    Log probability evaluates to log(0), i.e. negative infinity.\n",
      "    Stan can't start sampling from this initial value.\n",
      "  Gradient evaluation took 0.000112 seconds\n",
      "  1000 transitions using 10 leapfrog steps per transition would take 1.12 seconds.\n",
      "  Adjust your expectations accordingly!\n"
     ]
    },
    {
     "name": "stdout",
     "output_type": "stream",
     "text": [
      "Building..."
     ]
    },
    {
     "name": "stderr",
     "output_type": "stream",
     "text": [
      "INFO:aiohttp.access:127.0.0.1 [15/Feb/2022:22:09:14 +0000] \"POST /v1/models/r5vt2h6t/params HTTP/1.1\" 200 386 \"-\" \"Python/3.8 aiohttp/3.8.1\"\n",
      "INFO:httpstan:Found Stan model in cache (`models/r5vt2h6t`).\n",
      "INFO:aiohttp.access:127.0.0.1 [15/Feb/2022:22:09:14 +0000] \"POST /v1/models HTTP/1.1\" 201 234 \"-\" \"Python/3.8 aiohttp/3.8.1\"\n"
     ]
    },
    {
     "name": "stdout",
     "output_type": "stream",
     "text": [
      "\n"
     ]
    },
    {
     "name": "stderr",
     "output_type": "stream",
     "text": [
      "\n",
      "Building: found in cache, done.INFO:aiohttp.access:127.0.0.1 [15/Feb/2022:22:09:14 +0000] \"POST /v1/models/r5vt2h6t/params HTTP/1.1\" 200 386 \"-\" \"Python/3.8 aiohttp/3.8.1\"\n",
      "Sampling:   0%INFO:aiohttp.access:127.0.0.1 [15/Feb/2022:22:09:14 +0000] \"POST /v1/models/r5vt2h6t/fits HTTP/1.1\" 201 325 \"-\" \"Python/3.8 aiohttp/3.8.1\"\n",
      "INFO:aiohttp.access:127.0.0.1 [15/Feb/2022:22:09:14 +0000] \"GET /v1/models/r5vt2h6t/fits/j6sv3zhh HTTP/1.1\" 200 1568113 \"-\" \"Python/3.8 aiohttp/3.8.1\"\n",
      "\n",
      "Sampling: 100%, done.\n",
      "Messages received during sampling:\n",
      "  Rejecting initial value:\n",
      "    Log probability evaluates to log(0), i.e. negative infinity.\n",
      "    Stan can't start sampling from this initial value.\n",
      "  Gradient evaluation took 0.00011 seconds\n",
      "  1000 transitions using 10 leapfrog steps per transition would take 1.1 seconds.\n",
      "  Adjust your expectations accordingly!\n"
     ]
    },
    {
     "name": "stdout",
     "output_type": "stream",
     "text": [
      "Building..."
     ]
    },
    {
     "name": "stderr",
     "output_type": "stream",
     "text": [
      "INFO:aiohttp.access:127.0.0.1 [15/Feb/2022:22:09:15 +0000] \"POST /v1/models/r5vt2h6t/params HTTP/1.1\" 200 386 \"-\" \"Python/3.8 aiohttp/3.8.1\"\n",
      "INFO:httpstan:Found Stan model in cache (`models/r5vt2h6t`).\n",
      "INFO:aiohttp.access:127.0.0.1 [15/Feb/2022:22:09:15 +0000] \"POST /v1/models HTTP/1.1\" 201 234 \"-\" \"Python/3.8 aiohttp/3.8.1\"\n"
     ]
    },
    {
     "name": "stdout",
     "output_type": "stream",
     "text": [
      "\n"
     ]
    },
    {
     "name": "stderr",
     "output_type": "stream",
     "text": [
      "\n",
      "Building: found in cache, done.INFO:aiohttp.access:127.0.0.1 [15/Feb/2022:22:09:15 +0000] \"POST /v1/models/r5vt2h6t/params HTTP/1.1\" 200 386 \"-\" \"Python/3.8 aiohttp/3.8.1\"\n",
      "Sampling:   0%INFO:aiohttp.access:127.0.0.1 [15/Feb/2022:22:09:15 +0000] \"POST /v1/models/r5vt2h6t/fits HTTP/1.1\" 201 325 \"-\" \"Python/3.8 aiohttp/3.8.1\"\n",
      "INFO:aiohttp.access:127.0.0.1 [15/Feb/2022:22:09:15 +0000] \"GET /v1/models/r5vt2h6t/fits/u3uoynyd HTTP/1.1\" 200 1567463 \"-\" \"Python/3.8 aiohttp/3.8.1\"\n",
      "\n",
      "Sampling: 100%, done.\n",
      "Messages received during sampling:\n",
      "  Rejecting initial value:\n",
      "    Log probability evaluates to log(0), i.e. negative infinity.\n",
      "    Stan can't start sampling from this initial value.\n",
      "  Gradient evaluation took 0.00011 seconds\n",
      "  1000 transitions using 10 leapfrog steps per transition would take 1.1 seconds.\n",
      "  Adjust your expectations accordingly!\n"
     ]
    },
    {
     "name": "stdout",
     "output_type": "stream",
     "text": [
      "Building..."
     ]
    },
    {
     "name": "stderr",
     "output_type": "stream",
     "text": [
      "INFO:aiohttp.access:127.0.0.1 [15/Feb/2022:22:09:15 +0000] \"POST /v1/models/r5vt2h6t/params HTTP/1.1\" 200 386 \"-\" \"Python/3.8 aiohttp/3.8.1\"\n",
      "INFO:httpstan:Found Stan model in cache (`models/r5vt2h6t`).\n",
      "INFO:aiohttp.access:127.0.0.1 [15/Feb/2022:22:09:15 +0000] \"POST /v1/models HTTP/1.1\" 201 234 \"-\" \"Python/3.8 aiohttp/3.8.1\"\n"
     ]
    },
    {
     "name": "stdout",
     "output_type": "stream",
     "text": [
      "\n"
     ]
    },
    {
     "name": "stderr",
     "output_type": "stream",
     "text": [
      "\n",
      "Building: found in cache, done.INFO:aiohttp.access:127.0.0.1 [15/Feb/2022:22:09:15 +0000] \"POST /v1/models/r5vt2h6t/params HTTP/1.1\" 200 386 \"-\" \"Python/3.8 aiohttp/3.8.1\"\n",
      "Sampling:   0%INFO:aiohttp.access:127.0.0.1 [15/Feb/2022:22:09:15 +0000] \"POST /v1/models/r5vt2h6t/fits HTTP/1.1\" 201 325 \"-\" \"Python/3.8 aiohttp/3.8.1\"\n",
      "INFO:aiohttp.access:127.0.0.1 [15/Feb/2022:22:09:15 +0000] \"GET /v1/models/r5vt2h6t/fits/6b4eb46d HTTP/1.1\" 200 1568449 \"-\" \"Python/3.8 aiohttp/3.8.1\"\n",
      "\n",
      "Sampling: 100%, done.\n",
      "Messages received during sampling:\n",
      "  Rejecting initial value:\n",
      "    Log probability evaluates to log(0), i.e. negative infinity.\n",
      "    Stan can't start sampling from this initial value.\n",
      "  Gradient evaluation took 0.00011 seconds\n",
      "  1000 transitions using 10 leapfrog steps per transition would take 1.1 seconds.\n",
      "  Adjust your expectations accordingly!\n"
     ]
    },
    {
     "name": "stdout",
     "output_type": "stream",
     "text": [
      "Building..."
     ]
    },
    {
     "name": "stderr",
     "output_type": "stream",
     "text": [
      "INFO:aiohttp.access:127.0.0.1 [15/Feb/2022:22:09:15 +0000] \"POST /v1/models/r5vt2h6t/params HTTP/1.1\" 200 386 \"-\" \"Python/3.8 aiohttp/3.8.1\"\n",
      "INFO:httpstan:Found Stan model in cache (`models/r5vt2h6t`).\n",
      "INFO:aiohttp.access:127.0.0.1 [15/Feb/2022:22:09:15 +0000] \"POST /v1/models HTTP/1.1\" 201 234 \"-\" \"Python/3.8 aiohttp/3.8.1\"\n"
     ]
    },
    {
     "name": "stdout",
     "output_type": "stream",
     "text": [
      "\n"
     ]
    },
    {
     "name": "stderr",
     "output_type": "stream",
     "text": [
      "\n",
      "Building: found in cache, done.INFO:aiohttp.access:127.0.0.1 [15/Feb/2022:22:09:15 +0000] \"POST /v1/models/r5vt2h6t/params HTTP/1.1\" 200 386 \"-\" \"Python/3.8 aiohttp/3.8.1\"\n",
      "Sampling:   0%INFO:aiohttp.access:127.0.0.1 [15/Feb/2022:22:09:15 +0000] \"POST /v1/models/r5vt2h6t/fits HTTP/1.1\" 201 325 \"-\" \"Python/3.8 aiohttp/3.8.1\"\n",
      "INFO:aiohttp.access:127.0.0.1 [15/Feb/2022:22:09:15 +0000] \"GET /v1/models/r5vt2h6t/fits/vgyna5j2 HTTP/1.1\" 200 1566298 \"-\" \"Python/3.8 aiohttp/3.8.1\"\n",
      "\n",
      "Sampling: 100%, done.\n",
      "Messages received during sampling:\n",
      "  Rejecting initial value:\n",
      "    Log probability evaluates to log(0), i.e. negative infinity.\n",
      "    Stan can't start sampling from this initial value.\n",
      "  Gradient evaluation took 0.00011 seconds\n",
      "  1000 transitions using 10 leapfrog steps per transition would take 1.1 seconds.\n",
      "  Adjust your expectations accordingly!\n"
     ]
    },
    {
     "name": "stdout",
     "output_type": "stream",
     "text": [
      "Building..."
     ]
    },
    {
     "name": "stderr",
     "output_type": "stream",
     "text": [
      "INFO:aiohttp.access:127.0.0.1 [15/Feb/2022:22:09:15 +0000] \"POST /v1/models/r5vt2h6t/params HTTP/1.1\" 200 386 \"-\" \"Python/3.8 aiohttp/3.8.1\"\n",
      "INFO:httpstan:Found Stan model in cache (`models/r5vt2h6t`).\n",
      "INFO:aiohttp.access:127.0.0.1 [15/Feb/2022:22:09:15 +0000] \"POST /v1/models HTTP/1.1\" 201 234 \"-\" \"Python/3.8 aiohttp/3.8.1\"\n"
     ]
    },
    {
     "name": "stdout",
     "output_type": "stream",
     "text": [
      "\n"
     ]
    },
    {
     "name": "stderr",
     "output_type": "stream",
     "text": [
      "\n",
      "Building: found in cache, done.INFO:aiohttp.access:127.0.0.1 [15/Feb/2022:22:09:15 +0000] \"POST /v1/models/r5vt2h6t/params HTTP/1.1\" 200 386 \"-\" \"Python/3.8 aiohttp/3.8.1\"\n",
      "Sampling:   0%INFO:aiohttp.access:127.0.0.1 [15/Feb/2022:22:09:15 +0000] \"POST /v1/models/r5vt2h6t/fits HTTP/1.1\" 201 325 \"-\" \"Python/3.8 aiohttp/3.8.1\"\n",
      "INFO:aiohttp.access:127.0.0.1 [15/Feb/2022:22:09:15 +0000] \"GET /v1/models/r5vt2h6t/fits/llpr7r4y HTTP/1.1\" 200 1568566 \"-\" \"Python/3.8 aiohttp/3.8.1\"\n",
      "\n",
      "Sampling: 100%, done.\n",
      "Messages received during sampling:\n",
      "  Rejecting initial value:\n",
      "    Log probability evaluates to log(0), i.e. negative infinity.\n",
      "    Stan can't start sampling from this initial value.\n",
      "  Gradient evaluation took 0.00011 seconds\n",
      "  1000 transitions using 10 leapfrog steps per transition would take 1.1 seconds.\n",
      "  Adjust your expectations accordingly!\n"
     ]
    },
    {
     "name": "stdout",
     "output_type": "stream",
     "text": [
      "Building..."
     ]
    },
    {
     "name": "stderr",
     "output_type": "stream",
     "text": [
      "INFO:aiohttp.access:127.0.0.1 [15/Feb/2022:22:09:15 +0000] \"POST /v1/models/r5vt2h6t/params HTTP/1.1\" 200 386 \"-\" \"Python/3.8 aiohttp/3.8.1\"\n",
      "INFO:httpstan:Found Stan model in cache (`models/r5vt2h6t`).\n",
      "INFO:aiohttp.access:127.0.0.1 [15/Feb/2022:22:09:15 +0000] \"POST /v1/models HTTP/1.1\" 201 234 \"-\" \"Python/3.8 aiohttp/3.8.1\"\n"
     ]
    },
    {
     "name": "stdout",
     "output_type": "stream",
     "text": [
      "\n"
     ]
    },
    {
     "name": "stderr",
     "output_type": "stream",
     "text": [
      "\n",
      "Building: found in cache, done.INFO:aiohttp.access:127.0.0.1 [15/Feb/2022:22:09:15 +0000] \"POST /v1/models/r5vt2h6t/params HTTP/1.1\" 200 386 \"-\" \"Python/3.8 aiohttp/3.8.1\"\n",
      "Sampling:   0%INFO:aiohttp.access:127.0.0.1 [15/Feb/2022:22:09:15 +0000] \"POST /v1/models/r5vt2h6t/fits HTTP/1.1\" 201 325 \"-\" \"Python/3.8 aiohttp/3.8.1\"\n",
      "INFO:aiohttp.access:127.0.0.1 [15/Feb/2022:22:09:15 +0000] \"GET /v1/models/r5vt2h6t/fits/l2upj2o5 HTTP/1.1\" 200 1567983 \"-\" \"Python/3.8 aiohttp/3.8.1\"\n",
      "\n",
      "Sampling: 100%, done.\n",
      "Messages received during sampling:\n",
      "  Rejecting initial value:\n",
      "    Log probability evaluates to log(0), i.e. negative infinity.\n",
      "    Stan can't start sampling from this initial value.\n",
      "  Gradient evaluation took 0.000111 seconds\n",
      "  1000 transitions using 10 leapfrog steps per transition would take 1.11 seconds.\n",
      "  Adjust your expectations accordingly!\n"
     ]
    },
    {
     "name": "stdout",
     "output_type": "stream",
     "text": [
      "Building..."
     ]
    },
    {
     "name": "stderr",
     "output_type": "stream",
     "text": [
      "INFO:aiohttp.access:127.0.0.1 [15/Feb/2022:22:09:15 +0000] \"POST /v1/models/r5vt2h6t/params HTTP/1.1\" 200 386 \"-\" \"Python/3.8 aiohttp/3.8.1\"\n",
      "INFO:httpstan:Found Stan model in cache (`models/r5vt2h6t`).\n",
      "INFO:aiohttp.access:127.0.0.1 [15/Feb/2022:22:09:15 +0000] \"POST /v1/models HTTP/1.1\" 201 234 \"-\" \"Python/3.8 aiohttp/3.8.1\"\n"
     ]
    },
    {
     "name": "stdout",
     "output_type": "stream",
     "text": [
      "\n"
     ]
    },
    {
     "name": "stderr",
     "output_type": "stream",
     "text": [
      "\n",
      "Building: found in cache, done.INFO:aiohttp.access:127.0.0.1 [15/Feb/2022:22:09:15 +0000] \"POST /v1/models/r5vt2h6t/params HTTP/1.1\" 200 386 \"-\" \"Python/3.8 aiohttp/3.8.1\"\n",
      "Sampling:   0%INFO:aiohttp.access:127.0.0.1 [15/Feb/2022:22:09:15 +0000] \"POST /v1/models/r5vt2h6t/fits HTTP/1.1\" 201 325 \"-\" \"Python/3.8 aiohttp/3.8.1\"\n",
      "INFO:aiohttp.access:127.0.0.1 [15/Feb/2022:22:09:15 +0000] \"GET /v1/models/r5vt2h6t/fits/vy5yk4pj HTTP/1.1\" 200 1568099 \"-\" \"Python/3.8 aiohttp/3.8.1\"\n",
      "\n",
      "Sampling: 100%, done.\n",
      "Messages received during sampling:\n",
      "  Rejecting initial value:\n",
      "    Log probability evaluates to log(0), i.e. negative infinity.\n",
      "    Stan can't start sampling from this initial value.\n",
      "  Gradient evaluation took 0.00011 seconds\n",
      "  1000 transitions using 10 leapfrog steps per transition would take 1.1 seconds.\n",
      "  Adjust your expectations accordingly!\n"
     ]
    },
    {
     "name": "stdout",
     "output_type": "stream",
     "text": [
      "Building..."
     ]
    },
    {
     "name": "stderr",
     "output_type": "stream",
     "text": [
      "INFO:aiohttp.access:127.0.0.1 [15/Feb/2022:22:09:16 +0000] \"POST /v1/models/r5vt2h6t/params HTTP/1.1\" 200 386 \"-\" \"Python/3.8 aiohttp/3.8.1\"\n",
      "INFO:httpstan:Found Stan model in cache (`models/r5vt2h6t`).\n",
      "INFO:aiohttp.access:127.0.0.1 [15/Feb/2022:22:09:16 +0000] \"POST /v1/models HTTP/1.1\" 201 234 \"-\" \"Python/3.8 aiohttp/3.8.1\"\n"
     ]
    },
    {
     "name": "stdout",
     "output_type": "stream",
     "text": [
      "\n"
     ]
    },
    {
     "name": "stderr",
     "output_type": "stream",
     "text": [
      "\n",
      "Building: found in cache, done.INFO:aiohttp.access:127.0.0.1 [15/Feb/2022:22:09:16 +0000] \"POST /v1/models/r5vt2h6t/params HTTP/1.1\" 200 386 \"-\" \"Python/3.8 aiohttp/3.8.1\"\n",
      "Sampling:   0%INFO:aiohttp.access:127.0.0.1 [15/Feb/2022:22:09:16 +0000] \"POST /v1/models/r5vt2h6t/fits HTTP/1.1\" 201 325 \"-\" \"Python/3.8 aiohttp/3.8.1\"\n",
      "INFO:aiohttp.access:127.0.0.1 [15/Feb/2022:22:09:16 +0000] \"GET /v1/models/r5vt2h6t/fits/aerp3wf7 HTTP/1.1\" 200 1560437 \"-\" \"Python/3.8 aiohttp/3.8.1\"\n",
      "\n",
      "Sampling: 100%, done.\n",
      "Messages received during sampling:\n",
      "  Rejecting initial value:\n",
      "    Log probability evaluates to log(0), i.e. negative infinity.\n",
      "    Stan can't start sampling from this initial value.\n",
      "  Gradient evaluation took 0.000111 seconds\n",
      "  1000 transitions using 10 leapfrog steps per transition would take 1.11 seconds.\n",
      "  Adjust your expectations accordingly!\n"
     ]
    },
    {
     "name": "stdout",
     "output_type": "stream",
     "text": [
      "Building..."
     ]
    },
    {
     "name": "stderr",
     "output_type": "stream",
     "text": [
      "INFO:aiohttp.access:127.0.0.1 [15/Feb/2022:22:09:16 +0000] \"POST /v1/models/r5vt2h6t/params HTTP/1.1\" 200 386 \"-\" \"Python/3.8 aiohttp/3.8.1\"\n",
      "INFO:httpstan:Found Stan model in cache (`models/r5vt2h6t`).\n",
      "INFO:aiohttp.access:127.0.0.1 [15/Feb/2022:22:09:16 +0000] \"POST /v1/models HTTP/1.1\" 201 234 \"-\" \"Python/3.8 aiohttp/3.8.1\"\n"
     ]
    },
    {
     "name": "stdout",
     "output_type": "stream",
     "text": [
      "\n"
     ]
    },
    {
     "name": "stderr",
     "output_type": "stream",
     "text": [
      "\n",
      "Building: found in cache, done.INFO:aiohttp.access:127.0.0.1 [15/Feb/2022:22:09:16 +0000] \"POST /v1/models/r5vt2h6t/params HTTP/1.1\" 200 386 \"-\" \"Python/3.8 aiohttp/3.8.1\"\n",
      "Sampling:   0%INFO:aiohttp.access:127.0.0.1 [15/Feb/2022:22:09:16 +0000] \"POST /v1/models/r5vt2h6t/fits HTTP/1.1\" 201 325 \"-\" \"Python/3.8 aiohttp/3.8.1\"\n",
      "INFO:aiohttp.access:127.0.0.1 [15/Feb/2022:22:09:16 +0000] \"GET /v1/models/r5vt2h6t/fits/3c3ngdos HTTP/1.1\" 200 1564392 \"-\" \"Python/3.8 aiohttp/3.8.1\"\n",
      "\n",
      "Sampling: 100%, done.\n",
      "Messages received during sampling:\n",
      "  Rejecting initial value:\n",
      "    Log probability evaluates to log(0), i.e. negative infinity.\n",
      "    Stan can't start sampling from this initial value.\n",
      "  Gradient evaluation took 0.00011 seconds\n",
      "  1000 transitions using 10 leapfrog steps per transition would take 1.1 seconds.\n",
      "  Adjust your expectations accordingly!\n"
     ]
    },
    {
     "name": "stdout",
     "output_type": "stream",
     "text": [
      "Building..."
     ]
    },
    {
     "name": "stderr",
     "output_type": "stream",
     "text": [
      "INFO:aiohttp.access:127.0.0.1 [15/Feb/2022:22:09:16 +0000] \"POST /v1/models/r5vt2h6t/params HTTP/1.1\" 200 386 \"-\" \"Python/3.8 aiohttp/3.8.1\"\n",
      "INFO:httpstan:Found Stan model in cache (`models/r5vt2h6t`).\n",
      "INFO:aiohttp.access:127.0.0.1 [15/Feb/2022:22:09:16 +0000] \"POST /v1/models HTTP/1.1\" 201 234 \"-\" \"Python/3.8 aiohttp/3.8.1\"\n"
     ]
    },
    {
     "name": "stdout",
     "output_type": "stream",
     "text": [
      "\n"
     ]
    },
    {
     "name": "stderr",
     "output_type": "stream",
     "text": [
      "\n",
      "Building: found in cache, done.INFO:aiohttp.access:127.0.0.1 [15/Feb/2022:22:09:16 +0000] \"POST /v1/models/r5vt2h6t/params HTTP/1.1\" 200 386 \"-\" \"Python/3.8 aiohttp/3.8.1\"\n",
      "Sampling:   0%INFO:aiohttp.access:127.0.0.1 [15/Feb/2022:22:09:16 +0000] \"POST /v1/models/r5vt2h6t/fits HTTP/1.1\" 201 325 \"-\" \"Python/3.8 aiohttp/3.8.1\"\n",
      "INFO:aiohttp.access:127.0.0.1 [15/Feb/2022:22:09:16 +0000] \"GET /v1/models/r5vt2h6t/fits/cny3lfo2 HTTP/1.1\" 200 1569021 \"-\" \"Python/3.8 aiohttp/3.8.1\"\n",
      "\n",
      "Sampling: 100%, done.\n",
      "Messages received during sampling:\n",
      "  Rejecting initial value:\n",
      "    Log probability evaluates to log(0), i.e. negative infinity.\n",
      "    Stan can't start sampling from this initial value.\n",
      "  Gradient evaluation took 0.000114 seconds\n",
      "  1000 transitions using 10 leapfrog steps per transition would take 1.14 seconds.\n",
      "  Adjust your expectations accordingly!\n"
     ]
    },
    {
     "name": "stdout",
     "output_type": "stream",
     "text": [
      "Building..."
     ]
    },
    {
     "name": "stderr",
     "output_type": "stream",
     "text": [
      "INFO:aiohttp.access:127.0.0.1 [15/Feb/2022:22:09:16 +0000] \"POST /v1/models/r5vt2h6t/params HTTP/1.1\" 200 386 \"-\" \"Python/3.8 aiohttp/3.8.1\"\n",
      "INFO:httpstan:Found Stan model in cache (`models/r5vt2h6t`).\n",
      "INFO:aiohttp.access:127.0.0.1 [15/Feb/2022:22:09:16 +0000] \"POST /v1/models HTTP/1.1\" 201 234 \"-\" \"Python/3.8 aiohttp/3.8.1\"\n"
     ]
    },
    {
     "name": "stdout",
     "output_type": "stream",
     "text": [
      "\n"
     ]
    },
    {
     "name": "stderr",
     "output_type": "stream",
     "text": [
      "\n",
      "Building: found in cache, done.INFO:aiohttp.access:127.0.0.1 [15/Feb/2022:22:09:16 +0000] \"POST /v1/models/r5vt2h6t/params HTTP/1.1\" 200 386 \"-\" \"Python/3.8 aiohttp/3.8.1\"\n",
      "Sampling:   0%INFO:aiohttp.access:127.0.0.1 [15/Feb/2022:22:09:16 +0000] \"POST /v1/models/r5vt2h6t/fits HTTP/1.1\" 201 325 \"-\" \"Python/3.8 aiohttp/3.8.1\"\n",
      "INFO:aiohttp.access:127.0.0.1 [15/Feb/2022:22:09:16 +0000] \"GET /v1/models/r5vt2h6t/fits/payalxti HTTP/1.1\" 200 1563988 \"-\" \"Python/3.8 aiohttp/3.8.1\"\n",
      "\n",
      "Sampling: 100%, done.\n",
      "Messages received during sampling:\n",
      "  Rejecting initial value:\n",
      "    Log probability evaluates to log(0), i.e. negative infinity.\n",
      "    Stan can't start sampling from this initial value.\n",
      "  Gradient evaluation took 0.000109 seconds\n",
      "  1000 transitions using 10 leapfrog steps per transition would take 1.09 seconds.\n",
      "  Adjust your expectations accordingly!\n"
     ]
    },
    {
     "name": "stdout",
     "output_type": "stream",
     "text": [
      "Building..."
     ]
    },
    {
     "name": "stderr",
     "output_type": "stream",
     "text": [
      "INFO:aiohttp.access:127.0.0.1 [15/Feb/2022:22:09:16 +0000] \"POST /v1/models/r5vt2h6t/params HTTP/1.1\" 200 386 \"-\" \"Python/3.8 aiohttp/3.8.1\"\n",
      "INFO:httpstan:Found Stan model in cache (`models/r5vt2h6t`).\n",
      "INFO:aiohttp.access:127.0.0.1 [15/Feb/2022:22:09:16 +0000] \"POST /v1/models HTTP/1.1\" 201 234 \"-\" \"Python/3.8 aiohttp/3.8.1\"\n"
     ]
    },
    {
     "name": "stdout",
     "output_type": "stream",
     "text": [
      "\n"
     ]
    },
    {
     "name": "stderr",
     "output_type": "stream",
     "text": [
      "\n",
      "Building: found in cache, done.INFO:aiohttp.access:127.0.0.1 [15/Feb/2022:22:09:16 +0000] \"POST /v1/models/r5vt2h6t/params HTTP/1.1\" 200 386 \"-\" \"Python/3.8 aiohttp/3.8.1\"\n",
      "Sampling:   0%INFO:aiohttp.access:127.0.0.1 [15/Feb/2022:22:09:16 +0000] \"POST /v1/models/r5vt2h6t/fits HTTP/1.1\" 201 325 \"-\" \"Python/3.8 aiohttp/3.8.1\"\n",
      "INFO:aiohttp.access:127.0.0.1 [15/Feb/2022:22:09:16 +0000] \"GET /v1/models/r5vt2h6t/fits/brab4qqh HTTP/1.1\" 200 1569377 \"-\" \"Python/3.8 aiohttp/3.8.1\"\n",
      "\n",
      "Sampling: 100%, done.\n",
      "Messages received during sampling:\n",
      "  Rejecting initial value:\n",
      "    Log probability evaluates to log(0), i.e. negative infinity.\n",
      "    Stan can't start sampling from this initial value.\n",
      "  Gradient evaluation took 0.000111 seconds\n",
      "  1000 transitions using 10 leapfrog steps per transition would take 1.11 seconds.\n",
      "  Adjust your expectations accordingly!\n"
     ]
    },
    {
     "name": "stdout",
     "output_type": "stream",
     "text": [
      "Building..."
     ]
    },
    {
     "name": "stderr",
     "output_type": "stream",
     "text": [
      "INFO:aiohttp.access:127.0.0.1 [15/Feb/2022:22:09:16 +0000] \"POST /v1/models/r5vt2h6t/params HTTP/1.1\" 200 386 \"-\" \"Python/3.8 aiohttp/3.8.1\"\n",
      "INFO:httpstan:Found Stan model in cache (`models/r5vt2h6t`).\n",
      "INFO:aiohttp.access:127.0.0.1 [15/Feb/2022:22:09:16 +0000] \"POST /v1/models HTTP/1.1\" 201 234 \"-\" \"Python/3.8 aiohttp/3.8.1\"\n"
     ]
    },
    {
     "name": "stdout",
     "output_type": "stream",
     "text": [
      "\n"
     ]
    },
    {
     "name": "stderr",
     "output_type": "stream",
     "text": [
      "\n",
      "Building: found in cache, done.INFO:aiohttp.access:127.0.0.1 [15/Feb/2022:22:09:16 +0000] \"POST /v1/models/r5vt2h6t/params HTTP/1.1\" 200 386 \"-\" \"Python/3.8 aiohttp/3.8.1\"\n",
      "Sampling:   0%INFO:aiohttp.access:127.0.0.1 [15/Feb/2022:22:09:16 +0000] \"POST /v1/models/r5vt2h6t/fits HTTP/1.1\" 201 325 \"-\" \"Python/3.8 aiohttp/3.8.1\"\n",
      "INFO:aiohttp.access:127.0.0.1 [15/Feb/2022:22:09:16 +0000] \"GET /v1/models/r5vt2h6t/fits/quvd7opj HTTP/1.1\" 200 1567346 \"-\" \"Python/3.8 aiohttp/3.8.1\"\n",
      "\n",
      "Sampling: 100%, done.\n",
      "Messages received during sampling:\n",
      "  Rejecting initial value:\n",
      "    Log probability evaluates to log(0), i.e. negative infinity.\n",
      "    Stan can't start sampling from this initial value.\n",
      "  Gradient evaluation took 0.000123 seconds\n",
      "  1000 transitions using 10 leapfrog steps per transition would take 1.23 seconds.\n",
      "  Adjust your expectations accordingly!\n"
     ]
    },
    {
     "name": "stdout",
     "output_type": "stream",
     "text": [
      "Building..."
     ]
    },
    {
     "name": "stderr",
     "output_type": "stream",
     "text": [
      "INFO:aiohttp.access:127.0.0.1 [15/Feb/2022:22:09:17 +0000] \"POST /v1/models/r5vt2h6t/params HTTP/1.1\" 200 386 \"-\" \"Python/3.8 aiohttp/3.8.1\"\n",
      "INFO:httpstan:Found Stan model in cache (`models/r5vt2h6t`).\n",
      "INFO:aiohttp.access:127.0.0.1 [15/Feb/2022:22:09:17 +0000] \"POST /v1/models HTTP/1.1\" 201 234 \"-\" \"Python/3.8 aiohttp/3.8.1\"\n"
     ]
    },
    {
     "name": "stdout",
     "output_type": "stream",
     "text": [
      "\n"
     ]
    },
    {
     "name": "stderr",
     "output_type": "stream",
     "text": [
      "\n",
      "Building: found in cache, done.INFO:aiohttp.access:127.0.0.1 [15/Feb/2022:22:09:17 +0000] \"POST /v1/models/r5vt2h6t/params HTTP/1.1\" 200 386 \"-\" \"Python/3.8 aiohttp/3.8.1\"\n",
      "Sampling:   0%INFO:aiohttp.access:127.0.0.1 [15/Feb/2022:22:09:17 +0000] \"POST /v1/models/r5vt2h6t/fits HTTP/1.1\" 201 325 \"-\" \"Python/3.8 aiohttp/3.8.1\"\n",
      "INFO:aiohttp.access:127.0.0.1 [15/Feb/2022:22:09:17 +0000] \"GET /v1/models/r5vt2h6t/fits/sljxj3dl HTTP/1.1\" 200 1568450 \"-\" \"Python/3.8 aiohttp/3.8.1\"\n",
      "\n",
      "Sampling: 100%, done.\n",
      "Messages received during sampling:\n",
      "  Rejecting initial value:\n",
      "    Log probability evaluates to log(0), i.e. negative infinity.\n",
      "    Stan can't start sampling from this initial value.\n",
      "  Gradient evaluation took 0.00011 seconds\n",
      "  1000 transitions using 10 leapfrog steps per transition would take 1.1 seconds.\n",
      "  Adjust your expectations accordingly!\n"
     ]
    },
    {
     "name": "stdout",
     "output_type": "stream",
     "text": [
      "Building..."
     ]
    },
    {
     "name": "stderr",
     "output_type": "stream",
     "text": [
      "INFO:aiohttp.access:127.0.0.1 [15/Feb/2022:22:09:17 +0000] \"POST /v1/models/r5vt2h6t/params HTTP/1.1\" 200 386 \"-\" \"Python/3.8 aiohttp/3.8.1\"\n",
      "INFO:httpstan:Found Stan model in cache (`models/r5vt2h6t`).\n",
      "INFO:aiohttp.access:127.0.0.1 [15/Feb/2022:22:09:17 +0000] \"POST /v1/models HTTP/1.1\" 201 234 \"-\" \"Python/3.8 aiohttp/3.8.1\"\n"
     ]
    },
    {
     "name": "stdout",
     "output_type": "stream",
     "text": [
      "\n"
     ]
    },
    {
     "name": "stderr",
     "output_type": "stream",
     "text": [
      "\n",
      "Building: found in cache, done.INFO:aiohttp.access:127.0.0.1 [15/Feb/2022:22:09:17 +0000] \"POST /v1/models/r5vt2h6t/params HTTP/1.1\" 200 386 \"-\" \"Python/3.8 aiohttp/3.8.1\"\n",
      "Sampling:   0%INFO:aiohttp.access:127.0.0.1 [15/Feb/2022:22:09:17 +0000] \"POST /v1/models/r5vt2h6t/fits HTTP/1.1\" 201 325 \"-\" \"Python/3.8 aiohttp/3.8.1\"\n",
      "INFO:aiohttp.access:127.0.0.1 [15/Feb/2022:22:09:17 +0000] \"GET /v1/models/r5vt2h6t/fits/3ldl2om5 HTTP/1.1\" 200 1563502 \"-\" \"Python/3.8 aiohttp/3.8.1\"\n",
      "\n",
      "Sampling: 100%, done.\n",
      "Messages received during sampling:\n",
      "  Rejecting initial value:\n",
      "    Log probability evaluates to log(0), i.e. negative infinity.\n",
      "    Stan can't start sampling from this initial value.\n",
      "  Gradient evaluation took 0.000116 seconds\n",
      "  1000 transitions using 10 leapfrog steps per transition would take 1.16 seconds.\n",
      "  Adjust your expectations accordingly!\n"
     ]
    },
    {
     "name": "stdout",
     "output_type": "stream",
     "text": [
      "Building..."
     ]
    },
    {
     "name": "stderr",
     "output_type": "stream",
     "text": [
      "INFO:aiohttp.access:127.0.0.1 [15/Feb/2022:22:09:17 +0000] \"POST /v1/models/r5vt2h6t/params HTTP/1.1\" 200 386 \"-\" \"Python/3.8 aiohttp/3.8.1\"\n",
      "INFO:httpstan:Found Stan model in cache (`models/r5vt2h6t`).\n",
      "INFO:aiohttp.access:127.0.0.1 [15/Feb/2022:22:09:17 +0000] \"POST /v1/models HTTP/1.1\" 201 234 \"-\" \"Python/3.8 aiohttp/3.8.1\"\n"
     ]
    },
    {
     "name": "stdout",
     "output_type": "stream",
     "text": [
      "\n"
     ]
    },
    {
     "name": "stderr",
     "output_type": "stream",
     "text": [
      "\n",
      "Building: found in cache, done.INFO:aiohttp.access:127.0.0.1 [15/Feb/2022:22:09:17 +0000] \"POST /v1/models/r5vt2h6t/params HTTP/1.1\" 200 386 \"-\" \"Python/3.8 aiohttp/3.8.1\"\n",
      "Sampling:   0%INFO:aiohttp.access:127.0.0.1 [15/Feb/2022:22:09:17 +0000] \"POST /v1/models/r5vt2h6t/fits HTTP/1.1\" 201 325 \"-\" \"Python/3.8 aiohttp/3.8.1\"\n",
      "INFO:aiohttp.access:127.0.0.1 [15/Feb/2022:22:09:17 +0000] \"GET /v1/models/r5vt2h6t/fits/zpob5cau HTTP/1.1\" 200 1567426 \"-\" \"Python/3.8 aiohttp/3.8.1\"\n",
      "\n",
      "Sampling: 100%, done.\n",
      "Messages received during sampling:\n",
      "  Rejecting initial value:\n",
      "    Log probability evaluates to log(0), i.e. negative infinity.\n",
      "    Stan can't start sampling from this initial value.\n",
      "  Gradient evaluation took 0.000113 seconds\n",
      "  1000 transitions using 10 leapfrog steps per transition would take 1.13 seconds.\n",
      "  Adjust your expectations accordingly!\n"
     ]
    },
    {
     "name": "stdout",
     "output_type": "stream",
     "text": [
      "Building..."
     ]
    },
    {
     "name": "stderr",
     "output_type": "stream",
     "text": [
      "INFO:aiohttp.access:127.0.0.1 [15/Feb/2022:22:09:17 +0000] \"POST /v1/models/r5vt2h6t/params HTTP/1.1\" 200 386 \"-\" \"Python/3.8 aiohttp/3.8.1\"\n",
      "INFO:httpstan:Found Stan model in cache (`models/r5vt2h6t`).\n",
      "INFO:aiohttp.access:127.0.0.1 [15/Feb/2022:22:09:17 +0000] \"POST /v1/models HTTP/1.1\" 201 234 \"-\" \"Python/3.8 aiohttp/3.8.1\"\n"
     ]
    },
    {
     "name": "stdout",
     "output_type": "stream",
     "text": [
      "\n"
     ]
    },
    {
     "name": "stderr",
     "output_type": "stream",
     "text": [
      "\n",
      "Building: found in cache, done.INFO:aiohttp.access:127.0.0.1 [15/Feb/2022:22:09:17 +0000] \"POST /v1/models/r5vt2h6t/params HTTP/1.1\" 200 386 \"-\" \"Python/3.8 aiohttp/3.8.1\"\n",
      "Sampling:   0%INFO:aiohttp.access:127.0.0.1 [15/Feb/2022:22:09:17 +0000] \"POST /v1/models/r5vt2h6t/fits HTTP/1.1\" 201 325 \"-\" \"Python/3.8 aiohttp/3.8.1\"\n",
      "INFO:aiohttp.access:127.0.0.1 [15/Feb/2022:22:09:17 +0000] \"GET /v1/models/r5vt2h6t/fits/ezls7h6h HTTP/1.1\" 200 1568398 \"-\" \"Python/3.8 aiohttp/3.8.1\"\n",
      "\n",
      "Sampling: 100%, done.\n",
      "Messages received during sampling:\n",
      "  Rejecting initial value:\n",
      "    Log probability evaluates to log(0), i.e. negative infinity.\n",
      "    Stan can't start sampling from this initial value.\n",
      "  Gradient evaluation took 0.000112 seconds\n",
      "  1000 transitions using 10 leapfrog steps per transition would take 1.12 seconds.\n",
      "  Adjust your expectations accordingly!\n"
     ]
    },
    {
     "name": "stdout",
     "output_type": "stream",
     "text": [
      "Building..."
     ]
    },
    {
     "name": "stderr",
     "output_type": "stream",
     "text": [
      "INFO:aiohttp.access:127.0.0.1 [15/Feb/2022:22:09:17 +0000] \"POST /v1/models/r5vt2h6t/params HTTP/1.1\" 200 386 \"-\" \"Python/3.8 aiohttp/3.8.1\"\n",
      "INFO:httpstan:Found Stan model in cache (`models/r5vt2h6t`).\n",
      "INFO:aiohttp.access:127.0.0.1 [15/Feb/2022:22:09:17 +0000] \"POST /v1/models HTTP/1.1\" 201 234 \"-\" \"Python/3.8 aiohttp/3.8.1\"\n"
     ]
    },
    {
     "name": "stdout",
     "output_type": "stream",
     "text": [
      "\n"
     ]
    },
    {
     "name": "stderr",
     "output_type": "stream",
     "text": [
      "\n",
      "Building: found in cache, done.INFO:aiohttp.access:127.0.0.1 [15/Feb/2022:22:09:17 +0000] \"POST /v1/models/r5vt2h6t/params HTTP/1.1\" 200 386 \"-\" \"Python/3.8 aiohttp/3.8.1\"\n",
      "Sampling:   0%INFO:aiohttp.access:127.0.0.1 [15/Feb/2022:22:09:17 +0000] \"POST /v1/models/r5vt2h6t/fits HTTP/1.1\" 201 325 \"-\" \"Python/3.8 aiohttp/3.8.1\"\n",
      "INFO:aiohttp.access:127.0.0.1 [15/Feb/2022:22:09:17 +0000] \"GET /v1/models/r5vt2h6t/fits/auorw4nd HTTP/1.1\" 200 1568186 \"-\" \"Python/3.8 aiohttp/3.8.1\"\n",
      "\n",
      "Sampling: 100%, done.\n",
      "Messages received during sampling:\n",
      "  Rejecting initial value:\n",
      "    Log probability evaluates to log(0), i.e. negative infinity.\n",
      "    Stan can't start sampling from this initial value.\n",
      "  Gradient evaluation took 0.00011 seconds\n",
      "  1000 transitions using 10 leapfrog steps per transition would take 1.1 seconds.\n",
      "  Adjust your expectations accordingly!\n"
     ]
    },
    {
     "name": "stdout",
     "output_type": "stream",
     "text": [
      "Building..."
     ]
    },
    {
     "name": "stderr",
     "output_type": "stream",
     "text": [
      "INFO:aiohttp.access:127.0.0.1 [15/Feb/2022:22:09:17 +0000] \"POST /v1/models/r5vt2h6t/params HTTP/1.1\" 200 386 \"-\" \"Python/3.8 aiohttp/3.8.1\"\n",
      "INFO:httpstan:Found Stan model in cache (`models/r5vt2h6t`).\n",
      "INFO:aiohttp.access:127.0.0.1 [15/Feb/2022:22:09:17 +0000] \"POST /v1/models HTTP/1.1\" 201 234 \"-\" \"Python/3.8 aiohttp/3.8.1\"\n"
     ]
    },
    {
     "name": "stdout",
     "output_type": "stream",
     "text": [
      "\n"
     ]
    },
    {
     "name": "stderr",
     "output_type": "stream",
     "text": [
      "\n",
      "Building: found in cache, done.INFO:aiohttp.access:127.0.0.1 [15/Feb/2022:22:09:17 +0000] \"POST /v1/models/r5vt2h6t/params HTTP/1.1\" 200 386 \"-\" \"Python/3.8 aiohttp/3.8.1\"\n",
      "Sampling:   0%INFO:aiohttp.access:127.0.0.1 [15/Feb/2022:22:09:17 +0000] \"POST /v1/models/r5vt2h6t/fits HTTP/1.1\" 201 325 \"-\" \"Python/3.8 aiohttp/3.8.1\"\n",
      "INFO:aiohttp.access:127.0.0.1 [15/Feb/2022:22:09:17 +0000] \"GET /v1/models/r5vt2h6t/fits/uqcaveyp HTTP/1.1\" 200 1568844 \"-\" \"Python/3.8 aiohttp/3.8.1\"\n",
      "\n",
      "Sampling: 100%, done.\n",
      "Messages received during sampling:\n",
      "  Rejecting initial value:\n",
      "    Log probability evaluates to log(0), i.e. negative infinity.\n",
      "    Stan can't start sampling from this initial value.\n",
      "  Gradient evaluation took 0.000111 seconds\n",
      "  1000 transitions using 10 leapfrog steps per transition would take 1.11 seconds.\n",
      "  Adjust your expectations accordingly!\n"
     ]
    },
    {
     "name": "stdout",
     "output_type": "stream",
     "text": [
      "Building..."
     ]
    },
    {
     "name": "stderr",
     "output_type": "stream",
     "text": [
      "INFO:aiohttp.access:127.0.0.1 [15/Feb/2022:22:09:18 +0000] \"POST /v1/models/r5vt2h6t/params HTTP/1.1\" 200 386 \"-\" \"Python/3.8 aiohttp/3.8.1\"\n",
      "INFO:httpstan:Found Stan model in cache (`models/r5vt2h6t`).\n",
      "INFO:aiohttp.access:127.0.0.1 [15/Feb/2022:22:09:18 +0000] \"POST /v1/models HTTP/1.1\" 201 234 \"-\" \"Python/3.8 aiohttp/3.8.1\"\n"
     ]
    },
    {
     "name": "stdout",
     "output_type": "stream",
     "text": [
      "\n"
     ]
    },
    {
     "name": "stderr",
     "output_type": "stream",
     "text": [
      "\n",
      "Building: found in cache, done.INFO:aiohttp.access:127.0.0.1 [15/Feb/2022:22:09:18 +0000] \"POST /v1/models/r5vt2h6t/params HTTP/1.1\" 200 386 \"-\" \"Python/3.8 aiohttp/3.8.1\"\n",
      "Sampling:   0%INFO:aiohttp.access:127.0.0.1 [15/Feb/2022:22:09:18 +0000] \"POST /v1/models/r5vt2h6t/fits HTTP/1.1\" 201 325 \"-\" \"Python/3.8 aiohttp/3.8.1\"\n",
      "INFO:aiohttp.access:127.0.0.1 [15/Feb/2022:22:09:18 +0000] \"GET /v1/models/r5vt2h6t/fits/c5mavaee HTTP/1.1\" 200 1568173 \"-\" \"Python/3.8 aiohttp/3.8.1\"\n",
      "\n",
      "Sampling: 100%, done.\n",
      "Messages received during sampling:\n",
      "  Rejecting initial value:\n",
      "    Log probability evaluates to log(0), i.e. negative infinity.\n",
      "    Stan can't start sampling from this initial value.\n",
      "  Gradient evaluation took 0.000109 seconds\n",
      "  1000 transitions using 10 leapfrog steps per transition would take 1.09 seconds.\n",
      "  Adjust your expectations accordingly!\n"
     ]
    },
    {
     "data": {
      "text/plain": [
       "[1000,\n",
       " ['beta0', 9.959104162513349, 0.2616013776019921],\n",
       " ['beta1', 5.185305499178744, 0.06563468976661484],\n",
       " ['beta2', 16.006018615651602, 0.09872159531630341]]"
      ]
     },
     "execution_count": 47,
     "metadata": {},
     "output_type": "execute_result"
    }
   ],
   "source": [
    "np.random.seed(999) # тут обучается 10 минут, но сохраняется в память\n",
    "results_norm_prior = summary(code, n=1000)\n",
    "results_norm_prior"
   ]
  },
  {
   "cell_type": "code",
   "execution_count": 48,
   "id": "typical-sense",
   "metadata": {},
   "outputs": [
    {
     "data": {
      "text/plain": [
       "[1000,\n",
       " ['beta0', 9.959104162513349, 0.2616013776019921],\n",
       " ['beta1', 5.185305499178744, 0.06563468976661484],\n",
       " ['beta2', 16.006018615651602, 0.09872159531630341]]"
      ]
     },
     "execution_count": 48,
     "metadata": {},
     "output_type": "execute_result"
    }
   ],
   "source": [
    "results_norm_prior"
   ]
  }
 ],
 "metadata": {
  "kernelspec": {
   "display_name": "Python 3",
   "language": "python",
   "name": "python3"
  },
  "language_info": {
   "codemirror_mode": {
    "name": "ipython",
    "version": 3
   },
   "file_extension": ".py",
   "mimetype": "text/x-python",
   "name": "python",
   "nbconvert_exporter": "python",
   "pygments_lexer": "ipython3",
   "version": "3.8.2"
  }
 },
 "nbformat": 4,
 "nbformat_minor": 5
}
